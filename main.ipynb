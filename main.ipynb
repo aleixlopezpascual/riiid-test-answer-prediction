{
 "cells": [
  {
   "cell_type": "code",
   "execution_count": 1,
   "metadata": {
    "_cell_guid": "b1076dfc-b9ad-4769-8c92-a6c4dae69d19",
    "_uuid": "8f2839f25d086af736a60e9eeb907d3b93b6e0e5",
    "execution": {
     "iopub.execute_input": "2021-01-05T22:17:30.257399Z",
     "iopub.status.busy": "2021-01-05T22:17:30.256317Z",
     "iopub.status.idle": "2021-01-05T22:18:01.557367Z",
     "shell.execute_reply": "2021-01-05T22:18:01.556753Z"
    },
    "papermill": {
     "duration": 31.383759,
     "end_time": "2021-01-05T22:18:01.557502",
     "exception": false,
     "start_time": "2021-01-05T22:17:30.173743",
     "status": "completed"
    },
    "tags": []
   },
   "outputs": [],
   "source": [
    "!pip install ../input/python-datatable/datatable-0.11.0-cp37-cp37m-manylinux2010_x86_64.whl > /dev/null 2>&1"
   ]
  },
  {
   "cell_type": "code",
   "execution_count": 2,
   "metadata": {
    "execution": {
     "iopub.execute_input": "2021-01-05T22:18:01.694533Z",
     "iopub.status.busy": "2021-01-05T22:18:01.693491Z",
     "iopub.status.idle": "2021-01-05T22:18:01.697158Z",
     "shell.execute_reply": "2021-01-05T22:18:01.696595Z"
    },
    "papermill": {
     "duration": 0.074114,
     "end_time": "2021-01-05T22:18:01.697266",
     "exception": false,
     "start_time": "2021-01-05T22:18:01.623152",
     "status": "completed"
    },
    "tags": []
   },
   "outputs": [],
   "source": [
    "TRAIN_LGBM = False\n",
    "GENERATE_TAGS_LSI = False\n",
    "HARDCODED_I = 0\n",
    "NUM_LGBM_MODELS = 4"
   ]
  },
  {
   "cell_type": "code",
   "execution_count": 3,
   "metadata": {
    "execution": {
     "iopub.execute_input": "2021-01-05T22:18:01.836628Z",
     "iopub.status.busy": "2021-01-05T22:18:01.835907Z",
     "iopub.status.idle": "2021-01-05T22:18:02.013882Z",
     "shell.execute_reply": "2021-01-05T22:18:02.013196Z"
    },
    "papermill": {
     "duration": 0.249908,
     "end_time": "2021-01-05T22:18:02.014007",
     "exception": false,
     "start_time": "2021-01-05T22:18:01.764099",
     "status": "completed"
    },
    "tags": []
   },
   "outputs": [],
   "source": [
    "import numpy as np\n",
    "import random\n",
    "import pandas as pd\n",
    "import joblib"
   ]
  },
  {
   "cell_type": "code",
   "execution_count": 4,
   "metadata": {
    "_cell_guid": "79c7e3d0-c299-4dcb-8224-4455121ee9b0",
    "_uuid": "d629ff2d2480ee46fbb7e2d37f6b5fab8052498a",
    "execution": {
     "iopub.execute_input": "2021-01-05T22:18:02.151916Z",
     "iopub.status.busy": "2021-01-05T22:18:02.150866Z",
     "iopub.status.idle": "2021-01-05T22:18:03.153720Z",
     "shell.execute_reply": "2021-01-05T22:18:03.152317Z"
    },
    "papermill": {
     "duration": 1.074666,
     "end_time": "2021-01-05T22:18:03.153886",
     "exception": false,
     "start_time": "2021-01-05T22:18:02.079220",
     "status": "completed"
    },
    "tags": []
   },
   "outputs": [
    {
     "data": {
      "text/html": [
       "<style type='text/css'>\n",
       ".datatable table.frame { margin-bottom: 0; }\n",
       ".datatable table.frame thead { border-bottom: none; }\n",
       ".datatable table.frame tr.coltypes td {  color: #FFFFFF;  line-height: 6px;  padding: 0 0.5em;}\n",
       ".datatable .bool    { background: #DDDD99; }\n",
       ".datatable .object  { background: #565656; }\n",
       ".datatable .int     { background: #5D9E5D; }\n",
       ".datatable .float   { background: #4040CC; }\n",
       ".datatable .str     { background: #CC4040; }\n",
       ".datatable .row_index {  background: var(--jp-border-color3);  border-right: 1px solid var(--jp-border-color0);  color: var(--jp-ui-font-color3);  font-size: 9px;}\n",
       ".datatable .frame tr.coltypes .row_index {  background: var(--jp-border-color0);}\n",
       ".datatable th:nth-child(2) { padding-left: 12px; }\n",
       ".datatable .hellipsis {  color: var(--jp-cell-editor-border-color);}\n",
       ".datatable .vellipsis {  background: var(--jp-layout-color0);  color: var(--jp-cell-editor-border-color);}\n",
       ".datatable .na {  color: var(--jp-cell-editor-border-color);  font-size: 80%;}\n",
       ".datatable .footer { font-size: 9px; }\n",
       ".datatable .frame_dimensions {  background: var(--jp-border-color3);  border-top: 1px solid var(--jp-border-color0);  color: var(--jp-ui-font-color3);  display: inline-block;  opacity: 0.6;  padding: 1px 10px 1px 5px;}\n",
       "</style>\n"
      ],
      "text/plain": [
       "<IPython.core.display.HTML object>"
      ]
     },
     "metadata": {},
     "output_type": "display_data"
    }
   ],
   "source": [
    "from collections import defaultdict\n",
    "import datatable as dt\n",
    "import lightgbm as lgb\n",
    "from matplotlib import pyplot as plt\n",
    "import riiideducation\n",
    "from sklearn.metrics import roc_auc_score\n",
    "import gc\n",
    "\n",
    "_ = np.seterr(divide='ignore', invalid='ignore')"
   ]
  },
  {
   "cell_type": "markdown",
   "metadata": {
    "papermill": {
     "duration": 0.066333,
     "end_time": "2021-01-05T22:18:03.287346",
     "exception": false,
     "start_time": "2021-01-05T22:18:03.221013",
     "status": "completed"
    },
    "tags": []
   },
   "source": [
    "# Preprocess"
   ]
  },
  {
   "cell_type": "code",
   "execution_count": 5,
   "metadata": {
    "execution": {
     "iopub.execute_input": "2021-01-05T22:18:03.428172Z",
     "iopub.status.busy": "2021-01-05T22:18:03.427486Z",
     "iopub.status.idle": "2021-01-05T22:18:03.430803Z",
     "shell.execute_reply": "2021-01-05T22:18:03.430120Z"
    },
    "papermill": {
     "duration": 0.076875,
     "end_time": "2021-01-05T22:18:03.430927",
     "exception": false,
     "start_time": "2021-01-05T22:18:03.354052",
     "status": "completed"
    },
    "tags": []
   },
   "outputs": [],
   "source": [
    "data_types_dict = {\n",
    "    'timestamp': 'int64',\n",
    "    'user_id': 'int32', \n",
    "    'content_id': 'int16', \n",
    "    'content_type_id':'int8', \n",
    "    'task_container_id': 'int16',\n",
    "    #'user_answer': 'int8',\n",
    "    'answered_correctly': 'int8', \n",
    "    'prior_question_elapsed_time': 'float32', \n",
    "    'prior_question_had_explanation': 'bool'\n",
    "}\n",
    "target = 'answered_correctly'"
   ]
  },
  {
   "cell_type": "code",
   "execution_count": 6,
   "metadata": {
    "execution": {
     "iopub.execute_input": "2021-01-05T22:18:03.575886Z",
     "iopub.status.busy": "2021-01-05T22:18:03.573478Z",
     "iopub.status.idle": "2021-01-05T22:20:19.131818Z",
     "shell.execute_reply": "2021-01-05T22:20:19.131045Z"
    },
    "papermill": {
     "duration": 135.632087,
     "end_time": "2021-01-05T22:20:19.131956",
     "exception": false,
     "start_time": "2021-01-05T22:18:03.499869",
     "status": "completed"
    },
    "tags": []
   },
   "outputs": [
    {
     "name": "stdout",
     "output_type": "stream",
     "text": [
      "start read train data...\n"
     ]
    }
   ],
   "source": [
    "print('start read train data...')\n",
    "train_df = dt.fread('../input/riiid-test-answer-prediction/train.csv', columns=set(data_types_dict.keys())).to_pandas()"
   ]
  },
  {
   "cell_type": "code",
   "execution_count": 7,
   "metadata": {
    "execution": {
     "iopub.execute_input": "2021-01-05T22:20:19.273296Z",
     "iopub.status.busy": "2021-01-05T22:20:19.272236Z",
     "iopub.status.idle": "2021-01-05T22:20:19.276195Z",
     "shell.execute_reply": "2021-01-05T22:20:19.275592Z"
    },
    "papermill": {
     "duration": 0.07602,
     "end_time": "2021-01-05T22:20:19.276323",
     "exception": false,
     "start_time": "2021-01-05T22:20:19.200303",
     "status": "completed"
    },
    "tags": []
   },
   "outputs": [],
   "source": [
    "# train_df=train_df.sample(frac=0.1).reset_index(drop=True)"
   ]
  },
  {
   "cell_type": "code",
   "execution_count": 8,
   "metadata": {
    "execution": {
     "iopub.execute_input": "2021-01-05T22:20:19.418267Z",
     "iopub.status.busy": "2021-01-05T22:20:19.417441Z",
     "iopub.status.idle": "2021-01-05T22:20:19.421688Z",
     "shell.execute_reply": "2021-01-05T22:20:19.421032Z"
    },
    "papermill": {
     "duration": 0.077119,
     "end_time": "2021-01-05T22:20:19.421817",
     "exception": false,
     "start_time": "2021-01-05T22:20:19.344698",
     "status": "completed"
    },
    "tags": []
   },
   "outputs": [
    {
     "name": "stdout",
     "output_type": "stream",
     "text": [
      "start handle lecture data...\n"
     ]
    }
   ],
   "source": [
    "print('start handle lecture data...')"
   ]
  },
  {
   "cell_type": "code",
   "execution_count": 9,
   "metadata": {
    "execution": {
     "iopub.execute_input": "2021-01-05T22:20:19.570796Z",
     "iopub.status.busy": "2021-01-05T22:20:19.570098Z",
     "iopub.status.idle": "2021-01-05T22:20:19.588884Z",
     "shell.execute_reply": "2021-01-05T22:20:19.587925Z"
    },
    "papermill": {
     "duration": 0.099153,
     "end_time": "2021-01-05T22:20:19.589012",
     "exception": false,
     "start_time": "2021-01-05T22:20:19.489859",
     "status": "completed"
    },
    "tags": []
   },
   "outputs": [],
   "source": [
    "#reading in lecture df\n",
    "lectures_df = pd.read_csv('/kaggle/input/riiid-test-answer-prediction/lectures.csv')"
   ]
  },
  {
   "cell_type": "code",
   "execution_count": 10,
   "metadata": {
    "execution": {
     "iopub.execute_input": "2021-01-05T22:20:19.762008Z",
     "iopub.status.busy": "2021-01-05T22:20:19.761204Z",
     "iopub.status.idle": "2021-01-05T22:20:19.765563Z",
     "shell.execute_reply": "2021-01-05T22:20:19.764922Z"
    },
    "papermill": {
     "duration": 0.107571,
     "end_time": "2021-01-05T22:20:19.765673",
     "exception": false,
     "start_time": "2021-01-05T22:20:19.658102",
     "status": "completed"
    },
    "tags": []
   },
   "outputs": [],
   "source": [
    "lectures_df['type_of'] = lectures_df['type_of'].replace('solving question', 'solving_question')\n",
    "\n",
    "lectures_df = pd.get_dummies(lectures_df, columns=['part', 'type_of'])\n",
    "\n",
    "part_lectures_columns = [column for column in lectures_df.columns if column.startswith('part')]\n",
    "\n",
    "types_of_lectures_columns = [column for column in lectures_df.columns if column.startswith('type_of_')]"
   ]
  },
  {
   "cell_type": "code",
   "execution_count": 11,
   "metadata": {
    "execution": {
     "iopub.execute_input": "2021-01-05T22:20:19.910834Z",
     "iopub.status.busy": "2021-01-05T22:20:19.909867Z",
     "iopub.status.idle": "2021-01-05T22:20:21.033495Z",
     "shell.execute_reply": "2021-01-05T22:20:21.031654Z"
    },
    "papermill": {
     "duration": 1.198453,
     "end_time": "2021-01-05T22:20:21.033637",
     "exception": false,
     "start_time": "2021-01-05T22:20:19.835184",
     "status": "completed"
    },
    "tags": []
   },
   "outputs": [],
   "source": [
    "train_lectures = train_df[train_df.content_type_id == True].merge(lectures_df, left_on='content_id', right_on='lecture_id', how='left')"
   ]
  },
  {
   "cell_type": "code",
   "execution_count": 12,
   "metadata": {
    "execution": {
     "iopub.execute_input": "2021-01-05T22:20:21.180352Z",
     "iopub.status.busy": "2021-01-05T22:20:21.179549Z",
     "iopub.status.idle": "2021-01-05T22:20:21.710864Z",
     "shell.execute_reply": "2021-01-05T22:20:21.710152Z"
    },
    "papermill": {
     "duration": 0.606964,
     "end_time": "2021-01-05T22:20:21.711023",
     "exception": false,
     "start_time": "2021-01-05T22:20:21.104059",
     "status": "completed"
    },
    "tags": []
   },
   "outputs": [],
   "source": [
    "user_lecture_stats_part = train_lectures.groupby('user_id',as_index = False)[part_lectures_columns + types_of_lectures_columns].sum()"
   ]
  },
  {
   "cell_type": "code",
   "execution_count": 13,
   "metadata": {
    "execution": {
     "iopub.execute_input": "2021-01-05T22:20:21.871049Z",
     "iopub.status.busy": "2021-01-05T22:20:21.870277Z",
     "iopub.status.idle": "2021-01-05T22:20:21.878434Z",
     "shell.execute_reply": "2021-01-05T22:20:21.877749Z"
    },
    "papermill": {
     "duration": 0.090445,
     "end_time": "2021-01-05T22:20:21.878571",
     "exception": false,
     "start_time": "2021-01-05T22:20:21.788126",
     "status": "completed"
    },
    "tags": []
   },
   "outputs": [],
   "source": [
    "lecturedata_types_dict = {   \n",
    "    'user_id': 'int32', \n",
    "    'part_1': 'int8',\n",
    "    'part_2': 'int8',\n",
    "    'part_3': 'int8',\n",
    "    'part_4': 'int8',\n",
    "    'part_5': 'int8',\n",
    "    'part_6': 'int8',\n",
    "    'part_7': 'int8',\n",
    "    'type_of_concept': 'int8',\n",
    "    'type_of_intention': 'int8',\n",
    "    'type_of_solving_question': 'int8',\n",
    "    'type_of_starter': 'int8'\n",
    "}\n",
    "user_lecture_stats_part = user_lecture_stats_part.astype(lecturedata_types_dict)"
   ]
  },
  {
   "cell_type": "code",
   "execution_count": 14,
   "metadata": {
    "execution": {
     "iopub.execute_input": "2021-01-05T22:20:22.021120Z",
     "iopub.status.busy": "2021-01-05T22:20:22.020419Z",
     "iopub.status.idle": "2021-01-05T22:20:22.033975Z",
     "shell.execute_reply": "2021-01-05T22:20:22.034534Z"
    },
    "papermill": {
     "duration": 0.086597,
     "end_time": "2021-01-05T22:20:22.034686",
     "exception": false,
     "start_time": "2021-01-05T22:20:21.948089",
     "status": "completed"
    },
    "tags": []
   },
   "outputs": [],
   "source": [
    "for column in user_lecture_stats_part.columns:\n",
    "    #bool_column = column + '_boolean'\n",
    "    if(column !='user_id'):\n",
    "        user_lecture_stats_part[column] = (user_lecture_stats_part[column] > 0).astype('int8')"
   ]
  },
  {
   "cell_type": "code",
   "execution_count": 15,
   "metadata": {
    "execution": {
     "iopub.execute_input": "2021-01-05T22:20:22.176736Z",
     "iopub.status.busy": "2021-01-05T22:20:22.176052Z",
     "iopub.status.idle": "2021-01-05T22:20:22.185262Z",
     "shell.execute_reply": "2021-01-05T22:20:22.185797Z"
    },
    "papermill": {
     "duration": 0.082122,
     "end_time": "2021-01-05T22:20:22.185953",
     "exception": false,
     "start_time": "2021-01-05T22:20:22.103831",
     "status": "completed"
    },
    "tags": []
   },
   "outputs": [
    {
     "data": {
      "text/plain": [
       "user_id                     int32\n",
       "part_1                       int8\n",
       "part_2                       int8\n",
       "part_3                       int8\n",
       "part_4                       int8\n",
       "part_5                       int8\n",
       "part_6                       int8\n",
       "part_7                       int8\n",
       "type_of_concept              int8\n",
       "type_of_intention            int8\n",
       "type_of_solving_question     int8\n",
       "type_of_starter              int8\n",
       "dtype: object"
      ]
     },
     "execution_count": 15,
     "metadata": {},
     "output_type": "execute_result"
    }
   ],
   "source": [
    "user_lecture_stats_part.dtypes"
   ]
  },
  {
   "cell_type": "code",
   "execution_count": 16,
   "metadata": {
    "execution": {
     "iopub.execute_input": "2021-01-05T22:20:22.330567Z",
     "iopub.status.busy": "2021-01-05T22:20:22.329839Z",
     "iopub.status.idle": "2021-01-05T22:20:22.477678Z",
     "shell.execute_reply": "2021-01-05T22:20:22.477083Z"
    },
    "papermill": {
     "duration": 0.221422,
     "end_time": "2021-01-05T22:20:22.477829",
     "exception": false,
     "start_time": "2021-01-05T22:20:22.256407",
     "status": "completed"
    },
    "tags": []
   },
   "outputs": [
    {
     "data": {
      "text/plain": [
       "80"
      ]
     },
     "execution_count": 16,
     "metadata": {},
     "output_type": "execute_result"
    }
   ],
   "source": [
    "#clearing memory\n",
    "del(train_lectures)\n",
    "gc.collect()"
   ]
  },
  {
   "cell_type": "code",
   "execution_count": 17,
   "metadata": {
    "execution": {
     "iopub.execute_input": "2021-01-05T22:20:22.658729Z",
     "iopub.status.busy": "2021-01-05T22:20:22.658004Z",
     "iopub.status.idle": "2021-01-05T22:20:26.969569Z",
     "shell.execute_reply": "2021-01-05T22:20:26.970214Z"
    },
    "papermill": {
     "duration": 4.402056,
     "end_time": "2021-01-05T22:20:26.970416",
     "exception": false,
     "start_time": "2021-01-05T22:20:22.568360",
     "status": "completed"
    },
    "tags": []
   },
   "outputs": [],
   "source": [
    "user_lecture_agg = train_df.groupby('user_id')['content_type_id'].agg(['sum', 'count'])\n",
    "user_lecture_agg=user_lecture_agg.astype('int16')"
   ]
  },
  {
   "cell_type": "code",
   "execution_count": 18,
   "metadata": {
    "execution": {
     "iopub.execute_input": "2021-01-05T22:20:27.114321Z",
     "iopub.status.busy": "2021-01-05T22:20:27.113547Z",
     "iopub.status.idle": "2021-01-05T22:20:42.585195Z",
     "shell.execute_reply": "2021-01-05T22:20:42.585763Z"
    },
    "papermill": {
     "duration": 15.545352,
     "end_time": "2021-01-05T22:20:42.585976",
     "exception": false,
     "start_time": "2021-01-05T22:20:27.040624",
     "status": "completed"
    },
    "tags": []
   },
   "outputs": [],
   "source": [
    "\n",
    "#1= if the event was the user watching a lecture.\n",
    "cum = train_df.groupby('user_id')['content_type_id'].agg(['cumsum', 'cumcount'])\n",
    "cum['cumcount']=cum['cumcount']+1\n",
    "train_df['user_interaction_count'] = cum['cumcount'] \n",
    "train_df['user_interaction_timestamp_mean'] = train_df['timestamp']/cum['cumcount'] \n",
    "train_df['user_lecture_sum'] = cum['cumsum'] \n",
    "train_df['user_lecture_lv'] = cum['cumsum'] / cum['cumcount']\n",
    "\n",
    "\n",
    "train_df.user_lecture_lv=train_df.user_lecture_lv.astype('float16')\n",
    "train_df.user_lecture_sum=train_df.user_lecture_sum.astype('int16')\n",
    "train_df.user_interaction_count=train_df.user_interaction_count.astype('int16')\n",
    "train_df['user_interaction_timestamp_mean']=train_df['user_interaction_timestamp_mean']/(1000*3600)\n",
    "train_df.user_interaction_timestamp_mean=train_df.user_interaction_timestamp_mean.astype('float32')\n"
   ]
  },
  {
   "cell_type": "code",
   "execution_count": 19,
   "metadata": {
    "execution": {
     "iopub.execute_input": "2021-01-05T22:20:42.744723Z",
     "iopub.status.busy": "2021-01-05T22:20:42.743995Z",
     "iopub.status.idle": "2021-01-05T22:20:42.748731Z",
     "shell.execute_reply": "2021-01-05T22:20:42.748101Z"
    },
    "papermill": {
     "duration": 0.086049,
     "end_time": "2021-01-05T22:20:42.748904",
     "exception": false,
     "start_time": "2021-01-05T22:20:42.662855",
     "status": "completed"
    },
    "tags": []
   },
   "outputs": [],
   "source": [
    "#pd.options.display.max_rows = 200"
   ]
  },
  {
   "cell_type": "code",
   "execution_count": 20,
   "metadata": {
    "execution": {
     "iopub.execute_input": "2021-01-05T22:20:43.025901Z",
     "iopub.status.busy": "2021-01-05T22:20:43.025165Z",
     "iopub.status.idle": "2021-01-05T22:20:43.028830Z",
     "shell.execute_reply": "2021-01-05T22:20:43.029352Z"
    },
    "papermill": {
     "duration": 0.206923,
     "end_time": "2021-01-05T22:20:43.029515",
     "exception": false,
     "start_time": "2021-01-05T22:20:42.822592",
     "status": "completed"
    },
    "tags": []
   },
   "outputs": [
    {
     "data": {
      "text/plain": [
       "97"
      ]
     },
     "execution_count": 20,
     "metadata": {},
     "output_type": "execute_result"
    }
   ],
   "source": [
    "del cum\n",
    "gc.collect()"
   ]
  },
  {
   "cell_type": "code",
   "execution_count": 21,
   "metadata": {
    "execution": {
     "iopub.execute_input": "2021-01-05T22:20:43.180465Z",
     "iopub.status.busy": "2021-01-05T22:20:43.179520Z",
     "iopub.status.idle": "2021-01-05T22:20:43.183191Z",
     "shell.execute_reply": "2021-01-05T22:20:43.184374Z"
    },
    "papermill": {
     "duration": 0.082918,
     "end_time": "2021-01-05T22:20:43.184617",
     "exception": false,
     "start_time": "2021-01-05T22:20:43.101699",
     "status": "completed"
    },
    "tags": []
   },
   "outputs": [
    {
     "name": "stdout",
     "output_type": "stream",
     "text": [
      "start handle train_df...\n"
     ]
    }
   ],
   "source": [
    "print('start handle train_df...')"
   ]
  },
  {
   "cell_type": "code",
   "execution_count": 22,
   "metadata": {
    "execution": {
     "iopub.execute_input": "2021-01-05T22:20:43.346880Z",
     "iopub.status.busy": "2021-01-05T22:20:43.346113Z",
     "iopub.status.idle": "2021-01-05T22:21:12.159084Z",
     "shell.execute_reply": "2021-01-05T22:21:12.158436Z"
    },
    "papermill": {
     "duration": 28.892391,
     "end_time": "2021-01-05T22:21:12.159241",
     "exception": false,
     "start_time": "2021-01-05T22:20:43.266850",
     "status": "completed"
    },
    "tags": []
   },
   "outputs": [],
   "source": [
    "train_df['prior_question_had_explanation'].fillna(False, inplace=True)\n",
    "train_df = train_df.astype(data_types_dict)\n",
    "train_df = train_df[train_df[target] != -1].reset_index(drop=True)"
   ]
  },
  {
   "cell_type": "code",
   "execution_count": 23,
   "metadata": {
    "execution": {
     "iopub.execute_input": "2021-01-05T22:21:12.328574Z",
     "iopub.status.busy": "2021-01-05T22:21:12.327867Z",
     "iopub.status.idle": "2021-01-05T22:21:18.942056Z",
     "shell.execute_reply": "2021-01-05T22:21:18.941411Z"
    },
    "papermill": {
     "duration": 6.699811,
     "end_time": "2021-01-05T22:21:18.942199",
     "exception": false,
     "start_time": "2021-01-05T22:21:12.242388",
     "status": "completed"
    },
    "tags": []
   },
   "outputs": [],
   "source": [
    "content_explation_agg=train_df[[\"content_id\",\"prior_question_had_explanation\",target]].groupby([\"content_id\",\"prior_question_had_explanation\"])[target].agg(['mean'])"
   ]
  },
  {
   "cell_type": "code",
   "execution_count": 24,
   "metadata": {
    "execution": {
     "iopub.execute_input": "2021-01-05T22:21:19.092311Z",
     "iopub.status.busy": "2021-01-05T22:21:19.091427Z",
     "iopub.status.idle": "2021-01-05T22:21:19.096789Z",
     "shell.execute_reply": "2021-01-05T22:21:19.096135Z"
    },
    "papermill": {
     "duration": 0.083296,
     "end_time": "2021-01-05T22:21:19.096934",
     "exception": false,
     "start_time": "2021-01-05T22:21:19.013638",
     "status": "completed"
    },
    "tags": []
   },
   "outputs": [
    {
     "data": {
      "text/plain": [
       "mean    float64\n",
       "dtype: object"
      ]
     },
     "execution_count": 24,
     "metadata": {},
     "output_type": "execute_result"
    }
   ],
   "source": [
    "content_explation_agg.dtypes"
   ]
  },
  {
   "cell_type": "code",
   "execution_count": 25,
   "metadata": {
    "execution": {
     "iopub.execute_input": "2021-01-05T22:21:19.259827Z",
     "iopub.status.busy": "2021-01-05T22:21:19.258590Z",
     "iopub.status.idle": "2021-01-05T22:21:19.282333Z",
     "shell.execute_reply": "2021-01-05T22:21:19.282997Z"
    },
    "papermill": {
     "duration": 0.107938,
     "end_time": "2021-01-05T22:21:19.283230",
     "exception": false,
     "start_time": "2021-01-05T22:21:19.175292",
     "status": "completed"
    },
    "tags": []
   },
   "outputs": [],
   "source": [
    "content_explation_agg=content_explation_agg.unstack()\n",
    "\n",
    "content_explation_agg=content_explation_agg.reset_index()\n",
    "content_explation_agg.columns = ['content_id', 'content_explation_false_mean','content_explation_true_mean']"
   ]
  },
  {
   "cell_type": "code",
   "execution_count": 26,
   "metadata": {
    "execution": {
     "iopub.execute_input": "2021-01-05T22:21:19.439919Z",
     "iopub.status.busy": "2021-01-05T22:21:19.438875Z",
     "iopub.status.idle": "2021-01-05T22:21:19.444317Z",
     "shell.execute_reply": "2021-01-05T22:21:19.443606Z"
    },
    "papermill": {
     "duration": 0.088246,
     "end_time": "2021-01-05T22:21:19.444438",
     "exception": false,
     "start_time": "2021-01-05T22:21:19.356192",
     "status": "completed"
    },
    "tags": []
   },
   "outputs": [],
   "source": [
    "content_explation_agg.content_id=content_explation_agg.content_id.astype('int16')\n",
    "content_explation_agg.content_explation_false_mean=content_explation_agg.content_explation_false_mean.astype('float16')\n",
    "content_explation_agg.content_explation_true_mean=content_explation_agg.content_explation_true_mean.astype('float16')"
   ]
  },
  {
   "cell_type": "code",
   "execution_count": 27,
   "metadata": {
    "execution": {
     "iopub.execute_input": "2021-01-05T22:21:19.595051Z",
     "iopub.status.busy": "2021-01-05T22:21:19.594337Z",
     "iopub.status.idle": "2021-01-05T22:21:19.598607Z",
     "shell.execute_reply": "2021-01-05T22:21:19.597932Z"
    },
    "papermill": {
     "duration": 0.082072,
     "end_time": "2021-01-05T22:21:19.598721",
     "exception": false,
     "start_time": "2021-01-05T22:21:19.516649",
     "status": "completed"
    },
    "tags": []
   },
   "outputs": [
    {
     "name": "stdout",
     "output_type": "stream",
     "text": [
      "start handle attempt_no...\n"
     ]
    }
   ],
   "source": [
    "print('start handle attempt_no...')"
   ]
  },
  {
   "cell_type": "code",
   "execution_count": 28,
   "metadata": {
    "execution": {
     "iopub.execute_input": "2021-01-05T22:21:19.748205Z",
     "iopub.status.busy": "2021-01-05T22:21:19.747204Z",
     "iopub.status.idle": "2021-01-05T22:23:22.250625Z",
     "shell.execute_reply": "2021-01-05T22:23:22.249532Z"
    },
    "papermill": {
     "duration": 122.579573,
     "end_time": "2021-01-05T22:23:22.250831",
     "exception": false,
     "start_time": "2021-01-05T22:21:19.671258",
     "status": "completed"
    },
    "tags": []
   },
   "outputs": [],
   "source": [
    "\n",
    "train_df[\"attempt_no\"] = 1\n",
    "train_df.attempt_no=train_df.attempt_no.astype('int8')\n",
    "#\n",
    "attempt_no_agg=train_df.groupby([\"user_id\",\"content_id\"])[\"attempt_no\"].agg(['sum']).astype('int8')\n",
    "#attempt_no_agg=attempt_no_agg.astype('int8')\n",
    "train_df[\"attempt_no\"] = train_df[[\"user_id\",\"content_id\",'attempt_no']].groupby([\"user_id\",\"content_id\"])[\"attempt_no\"].cumsum()"
   ]
  },
  {
   "cell_type": "code",
   "execution_count": 29,
   "metadata": {
    "execution": {
     "iopub.execute_input": "2021-01-05T22:23:22.498406Z",
     "iopub.status.busy": "2021-01-05T22:23:22.497668Z",
     "iopub.status.idle": "2021-01-05T22:23:22.987009Z",
     "shell.execute_reply": "2021-01-05T22:23:22.987606Z"
    },
    "papermill": {
     "duration": 0.575889,
     "end_time": "2021-01-05T22:23:22.987838",
     "exception": false,
     "start_time": "2021-01-05T22:23:22.411949",
     "status": "completed"
    },
    "tags": []
   },
   "outputs": [],
   "source": [
    "#attempt_no_agg=attempt_no_agg.reset_index()\n",
    "attempt_no_agg=attempt_no_agg[attempt_no_agg['sum'] >1]"
   ]
  },
  {
   "cell_type": "code",
   "execution_count": 30,
   "metadata": {
    "execution": {
     "iopub.execute_input": "2021-01-05T22:23:23.143528Z",
     "iopub.status.busy": "2021-01-05T22:23:23.142840Z",
     "iopub.status.idle": "2021-01-05T22:23:23.490938Z",
     "shell.execute_reply": "2021-01-05T22:23:23.491496Z"
    },
    "papermill": {
     "duration": 0.430308,
     "end_time": "2021-01-05T22:23:23.491655",
     "exception": false,
     "start_time": "2021-01-05T22:23:23.061347",
     "status": "completed"
    },
    "tags": []
   },
   "outputs": [
    {
     "name": "stdout",
     "output_type": "stream",
     "text": [
      "start handle timestamp...\n"
     ]
    }
   ],
   "source": [
    "print('start handle timestamp...')\n",
    "prior_question_elapsed_time_mean=train_df['prior_question_elapsed_time'].mean()\n",
    "train_df['prior_question_elapsed_time'].fillna(prior_question_elapsed_time_mean, inplace=True)"
   ]
  },
  {
   "cell_type": "code",
   "execution_count": 31,
   "metadata": {
    "execution": {
     "iopub.execute_input": "2021-01-05T22:23:23.651463Z",
     "iopub.status.busy": "2021-01-05T22:23:23.650476Z",
     "iopub.status.idle": "2021-01-05T22:23:27.005561Z",
     "shell.execute_reply": "2021-01-05T22:23:27.006225Z"
    },
    "papermill": {
     "duration": 3.437958,
     "end_time": "2021-01-05T22:23:27.006411",
     "exception": false,
     "start_time": "2021-01-05T22:23:23.568453",
     "status": "completed"
    },
    "tags": []
   },
   "outputs": [],
   "source": [
    "max_timestamp_u = train_df[['user_id','timestamp']].groupby(['user_id']).agg(['max']).reset_index()\n",
    "max_timestamp_u.columns = ['user_id', 'max_time_stamp']\n",
    "max_timestamp_u.user_id=max_timestamp_u.user_id.astype('int32')"
   ]
  },
  {
   "cell_type": "code",
   "execution_count": 32,
   "metadata": {
    "execution": {
     "iopub.execute_input": "2021-01-05T22:23:27.166584Z",
     "iopub.status.busy": "2021-01-05T22:23:27.165874Z",
     "iopub.status.idle": "2021-01-05T22:23:35.292607Z",
     "shell.execute_reply": "2021-01-05T22:23:35.293135Z"
    },
    "papermill": {
     "duration": 8.206515,
     "end_time": "2021-01-05T22:23:35.293341",
     "exception": false,
     "start_time": "2021-01-05T22:23:27.086826",
     "status": "completed"
    },
    "tags": []
   },
   "outputs": [],
   "source": [
    "\n",
    "train_df['lagtime'] = train_df.groupby('user_id')['timestamp'].shift()\n",
    "\n",
    "max_timestamp_u2 = train_df[['user_id','lagtime']].groupby(['user_id']).agg(['max']).reset_index()\n",
    "max_timestamp_u2.columns = ['user_id', 'max_time_stamp2']\n",
    "max_timestamp_u2.user_id=max_timestamp_u2.user_id.astype('int32')"
   ]
  },
  {
   "cell_type": "code",
   "execution_count": 33,
   "metadata": {
    "execution": {
     "iopub.execute_input": "2021-01-05T22:23:35.457858Z",
     "iopub.status.busy": "2021-01-05T22:23:35.457126Z",
     "iopub.status.idle": "2021-01-05T22:23:36.605935Z",
     "shell.execute_reply": "2021-01-05T22:23:36.604491Z"
    },
    "papermill": {
     "duration": 1.232522,
     "end_time": "2021-01-05T22:23:36.606073",
     "exception": false,
     "start_time": "2021-01-05T22:23:35.373551",
     "status": "completed"
    },
    "tags": []
   },
   "outputs": [],
   "source": [
    "train_df['lagtime']=train_df['timestamp']-train_df['lagtime']\n",
    "lagtime_mean=train_df['lagtime'].mean()\n",
    "train_df['lagtime'].fillna(lagtime_mean, inplace=True)"
   ]
  },
  {
   "cell_type": "code",
   "execution_count": 34,
   "metadata": {
    "execution": {
     "iopub.execute_input": "2021-01-05T22:23:36.766291Z",
     "iopub.status.busy": "2021-01-05T22:23:36.764708Z",
     "iopub.status.idle": "2021-01-05T22:23:37.785304Z",
     "shell.execute_reply": "2021-01-05T22:23:37.784346Z"
    },
    "papermill": {
     "duration": 1.104742,
     "end_time": "2021-01-05T22:23:37.785464",
     "exception": false,
     "start_time": "2021-01-05T22:23:36.680722",
     "status": "completed"
    },
    "tags": []
   },
   "outputs": [],
   "source": [
    "train_df['lagtime']=train_df['lagtime']/(1000*3600)\n",
    "train_df.lagtime=train_df.lagtime.astype('float32')"
   ]
  },
  {
   "cell_type": "code",
   "execution_count": 35,
   "metadata": {
    "execution": {
     "iopub.execute_input": "2021-01-05T22:23:37.953440Z",
     "iopub.status.busy": "2021-01-05T22:23:37.952218Z",
     "iopub.status.idle": "2021-01-05T22:23:37.955453Z",
     "shell.execute_reply": "2021-01-05T22:23:37.954918Z"
    },
    "papermill": {
     "duration": 0.088372,
     "end_time": "2021-01-05T22:23:37.955645",
     "exception": false,
     "start_time": "2021-01-05T22:23:37.867273",
     "status": "completed"
    },
    "tags": []
   },
   "outputs": [],
   "source": [
    "# lagtime_agg = train_df.groupby('user_id')['lagtime'].agg(['mean'])\n",
    "# train_df['lagtime_mean'] = train_df['user_id'].map(lagtime_agg['mean'])\n",
    "# train_df.lagtime_mean=train_df.lagtime_mean.astype('int32')\n",
    "# lagtime_agg=lagtime_agg.astype('int32')"
   ]
  },
  {
   "cell_type": "code",
   "execution_count": 36,
   "metadata": {
    "execution": {
     "iopub.execute_input": "2021-01-05T22:23:38.122927Z",
     "iopub.status.busy": "2021-01-05T22:23:38.122238Z",
     "iopub.status.idle": "2021-01-05T22:23:48.517999Z",
     "shell.execute_reply": "2021-01-05T22:23:48.516640Z"
    },
    "papermill": {
     "duration": 10.480547,
     "end_time": "2021-01-05T22:23:48.518140",
     "exception": false,
     "start_time": "2021-01-05T22:23:38.037593",
     "status": "completed"
    },
    "tags": []
   },
   "outputs": [],
   "source": [
    "\n",
    "train_df['lagtime2'] = train_df.groupby('user_id')['timestamp'].shift(2)\n",
    "\n",
    "max_timestamp_u3 = train_df[['user_id','lagtime2']].groupby(['user_id']).agg(['max']).reset_index()\n",
    "max_timestamp_u3.columns = ['user_id', 'max_time_stamp3']\n",
    "max_timestamp_u3.user_id=max_timestamp_u3.user_id.astype('int32')\n",
    "\n",
    "train_df['lagtime2']=train_df['timestamp']-train_df['lagtime2']\n",
    "lagtime_mean2=train_df['lagtime2'].mean()\n",
    "train_df['lagtime2'].fillna(lagtime_mean2, inplace=True)\n"
   ]
  },
  {
   "cell_type": "code",
   "execution_count": 37,
   "metadata": {
    "execution": {
     "iopub.execute_input": "2021-01-05T22:23:48.673336Z",
     "iopub.status.busy": "2021-01-05T22:23:48.672491Z",
     "iopub.status.idle": "2021-01-05T22:23:49.654303Z",
     "shell.execute_reply": "2021-01-05T22:23:49.653627Z"
    },
    "papermill": {
     "duration": 1.060169,
     "end_time": "2021-01-05T22:23:49.654439",
     "exception": false,
     "start_time": "2021-01-05T22:23:48.594270",
     "status": "completed"
    },
    "tags": []
   },
   "outputs": [],
   "source": [
    "train_df['lagtime2']=train_df['lagtime2']/(1000*3600)\n",
    "train_df.lagtime2=train_df.lagtime2.astype('float32')"
   ]
  },
  {
   "cell_type": "code",
   "execution_count": 38,
   "metadata": {
    "execution": {
     "iopub.execute_input": "2021-01-05T22:23:49.822284Z",
     "iopub.status.busy": "2021-01-05T22:23:49.821538Z",
     "iopub.status.idle": "2021-01-05T22:23:55.903788Z",
     "shell.execute_reply": "2021-01-05T22:23:55.904309Z"
    },
    "papermill": {
     "duration": 6.168897,
     "end_time": "2021-01-05T22:23:55.904504",
     "exception": false,
     "start_time": "2021-01-05T22:23:49.735607",
     "status": "completed"
    },
    "tags": []
   },
   "outputs": [],
   "source": [
    "\n",
    "train_df['lagtime3'] = train_df.groupby('user_id')['timestamp'].shift(3)\n",
    "\n",
    "train_df['lagtime3']=train_df['timestamp']-train_df['lagtime3']\n",
    "lagtime_mean3=train_df['lagtime3'].mean()\n",
    "train_df['lagtime3'].fillna(lagtime_mean3, inplace=True)\n",
    "train_df['lagtime3']=train_df['lagtime3']/(1000*3600)\n",
    "train_df.lagtime3=train_df.lagtime3.astype('float32')"
   ]
  },
  {
   "cell_type": "code",
   "execution_count": 39,
   "metadata": {
    "execution": {
     "iopub.execute_input": "2021-01-05T22:23:56.061273Z",
     "iopub.status.busy": "2021-01-05T22:23:56.060603Z",
     "iopub.status.idle": "2021-01-05T22:23:56.063743Z",
     "shell.execute_reply": "2021-01-05T22:23:56.064268Z"
    },
    "papermill": {
     "duration": 0.082235,
     "end_time": "2021-01-05T22:23:56.064437",
     "exception": false,
     "start_time": "2021-01-05T22:23:55.982202",
     "status": "completed"
    },
    "tags": []
   },
   "outputs": [],
   "source": [
    "# lagtime_agg2 = train_df.groupby('user_id')['lagtime2'].agg(['mean'])\n",
    "# train_df['lagtime_mean2'] = train_df['user_id'].map(lagtime_agg2['mean'])\n",
    "# train_df.lagtime_mean2=train_df.lagtime_mean2.astype('int32')\n",
    "# lagtime_agg2=lagtime_agg2.astype('int32')"
   ]
  },
  {
   "cell_type": "code",
   "execution_count": 40,
   "metadata": {
    "execution": {
     "iopub.execute_input": "2021-01-05T22:23:56.231184Z",
     "iopub.status.busy": "2021-01-05T22:23:56.229973Z",
     "iopub.status.idle": "2021-01-05T22:23:57.649115Z",
     "shell.execute_reply": "2021-01-05T22:23:57.648230Z"
    },
    "papermill": {
     "duration": 1.505212,
     "end_time": "2021-01-05T22:23:57.649268",
     "exception": false,
     "start_time": "2021-01-05T22:23:56.144056",
     "status": "completed"
    },
    "tags": []
   },
   "outputs": [],
   "source": [
    "train_df['timestamp']=train_df['timestamp']/(1000*3600)\n",
    "#\n",
    "train_df.timestamp=train_df.timestamp.astype('float16')"
   ]
  },
  {
   "cell_type": "code",
   "execution_count": 41,
   "metadata": {
    "execution": {
     "iopub.execute_input": "2021-01-05T22:23:57.808020Z",
     "iopub.status.busy": "2021-01-05T22:23:57.806602Z",
     "iopub.status.idle": "2021-01-05T22:24:05.903871Z",
     "shell.execute_reply": "2021-01-05T22:24:05.903315Z"
    },
    "papermill": {
     "duration": 8.179449,
     "end_time": "2021-01-05T22:24:05.904015",
     "exception": false,
     "start_time": "2021-01-05T22:23:57.724566",
     "status": "completed"
    },
    "tags": []
   },
   "outputs": [],
   "source": [
    "user_prior_question_elapsed_time = train_df[['user_id','prior_question_elapsed_time']].groupby(['user_id']).tail(1)\n",
    "user_prior_question_elapsed_time.columns = ['user_id', 'prior_question_elapsed_time']"
   ]
  },
  {
   "cell_type": "code",
   "execution_count": 42,
   "metadata": {
    "execution": {
     "iopub.execute_input": "2021-01-05T22:24:06.061870Z",
     "iopub.status.busy": "2021-01-05T22:24:06.061223Z",
     "iopub.status.idle": "2021-01-05T22:24:10.069209Z",
     "shell.execute_reply": "2021-01-05T22:24:10.068577Z"
    },
    "papermill": {
     "duration": 4.089785,
     "end_time": "2021-01-05T22:24:10.069333",
     "exception": false,
     "start_time": "2021-01-05T22:24:05.979548",
     "status": "completed"
    },
    "tags": []
   },
   "outputs": [],
   "source": [
    "\n",
    "train_df['delta_prior_question_elapsed_time'] = train_df.groupby('user_id')['prior_question_elapsed_time'].shift()\n",
    "train_df['delta_prior_question_elapsed_time']=train_df['prior_question_elapsed_time']-train_df['delta_prior_question_elapsed_time']"
   ]
  },
  {
   "cell_type": "code",
   "execution_count": 43,
   "metadata": {
    "execution": {
     "iopub.execute_input": "2021-01-05T22:24:10.226369Z",
     "iopub.status.busy": "2021-01-05T22:24:10.225368Z",
     "iopub.status.idle": "2021-01-05T22:24:10.874411Z",
     "shell.execute_reply": "2021-01-05T22:24:10.875014Z"
    },
    "papermill": {
     "duration": 0.730971,
     "end_time": "2021-01-05T22:24:10.875192",
     "exception": false,
     "start_time": "2021-01-05T22:24:10.144221",
     "status": "completed"
    },
    "tags": []
   },
   "outputs": [],
   "source": [
    "delta_prior_question_elapsed_time_mean=train_df['delta_prior_question_elapsed_time'].mean()\n",
    "train_df['delta_prior_question_elapsed_time'].fillna(delta_prior_question_elapsed_time_mean, inplace=True)\n",
    "train_df.delta_prior_question_elapsed_time=train_df.delta_prior_question_elapsed_time.astype('int32')"
   ]
  },
  {
   "cell_type": "code",
   "execution_count": 44,
   "metadata": {
    "execution": {
     "iopub.execute_input": "2021-01-05T22:24:11.052904Z",
     "iopub.status.busy": "2021-01-05T22:24:11.051401Z",
     "iopub.status.idle": "2021-01-05T22:24:48.311874Z",
     "shell.execute_reply": "2021-01-05T22:24:48.310470Z"
    },
    "papermill": {
     "duration": 37.357999,
     "end_time": "2021-01-05T22:24:48.312241",
     "exception": false,
     "start_time": "2021-01-05T22:24:10.954242",
     "status": "completed"
    },
    "tags": []
   },
   "outputs": [],
   "source": [
    "\n",
    "train_df['lag'] = train_df.groupby('user_id')[target].shift()\n",
    "\n",
    "cum = train_df.groupby('user_id')['lag'].agg(['cumsum', 'cumcount'])\n",
    "##cum['cumcount']=cum['cumcount']+1\n",
    "user_agg = train_df.groupby('user_id')['lag'].agg(['sum', 'count']).astype('int16')\n",
    "cum['cumsum'].fillna(0, inplace=True)\n",
    "\n",
    "train_df['user_correctness'] = cum['cumsum'] / cum['cumcount']\n",
    "train_df['user_correct_count'] = cum['cumsum']\n",
    "train_df['user_uncorrect_count'] = cum['cumcount']-cum['cumsum']\n",
    "#train_df['user_answer_count'] = cum['cumcount']\n",
    "train_df.drop(columns=['lag'], inplace=True)\n",
    "train_df['user_correctness'].fillna(0.67, inplace=True)\n",
    "train_df.user_correctness=train_df.user_correctness.astype('float16')\n",
    "train_df.user_correct_count=train_df.user_correct_count.astype('int16')\n",
    "train_df.user_uncorrect_count=train_df.user_uncorrect_count.astype('int16')\n",
    "#train_df.user_answer_count=train_df.user_answer_count.astype('int16')\n"
   ]
  },
  {
   "cell_type": "code",
   "execution_count": 45,
   "metadata": {
    "execution": {
     "iopub.execute_input": "2021-01-05T22:24:48.486947Z",
     "iopub.status.busy": "2021-01-05T22:24:48.485854Z",
     "iopub.status.idle": "2021-01-05T22:24:48.598761Z",
     "shell.execute_reply": "2021-01-05T22:24:48.598088Z"
    },
    "papermill": {
     "duration": 0.200994,
     "end_time": "2021-01-05T22:24:48.598923",
     "exception": false,
     "start_time": "2021-01-05T22:24:48.397929",
     "status": "completed"
    },
    "tags": []
   },
   "outputs": [
    {
     "data": {
      "text/plain": [
       "20"
      ]
     },
     "execution_count": 45,
     "metadata": {},
     "output_type": "execute_result"
    }
   ],
   "source": [
    "del cum\n",
    "gc.collect()"
   ]
  },
  {
   "cell_type": "code",
   "execution_count": 46,
   "metadata": {
    "execution": {
     "iopub.execute_input": "2021-01-05T22:24:48.766635Z",
     "iopub.status.busy": "2021-01-05T22:24:48.765685Z",
     "iopub.status.idle": "2021-01-05T22:24:48.768963Z",
     "shell.execute_reply": "2021-01-05T22:24:48.769510Z"
    },
    "papermill": {
     "duration": 0.089212,
     "end_time": "2021-01-05T22:24:48.769693",
     "exception": false,
     "start_time": "2021-01-05T22:24:48.680481",
     "status": "completed"
    },
    "tags": []
   },
   "outputs": [],
   "source": [
    "# train_df['lag'] = train_df.groupby('user_id')[target].shift(2)\n",
    "# cum = train_df.groupby('user_id')['lag'].agg(['cumsum', 'cumcount'])\n",
    "# ##cum['cumcount']=cum['cumcount']+1\n",
    "# user_agg2 = train_df.groupby('user_id')['lag'].agg(['sum', 'count']).astype('int16')\n",
    "# cum['cumsum'].fillna(0, inplace=True)\n",
    "\n",
    "# train_df['user_correctness2'] = cum['cumsum'] / cum['cumcount']\n",
    "# train_df['user_correct_count2'] = cum['cumsum']\n",
    "# train_df['user_uncorrect_count2'] = cum['cumcount']-cum['cumsum']\n",
    "# #train_df['user_answer_count2'] = cum['cumcount']\n",
    "# train_df.drop(columns=['lag'], inplace=True)\n",
    "# train_df['user_correctness2'].fillna(0.67, inplace=True)\n",
    "# train_df.user_correctness2=train_df.user_correctness2.astype('float16')\n",
    "# train_df.user_correct_count2=train_df.user_correct_count2.astype('int16')\n",
    "# train_df.user_uncorrect_count2=train_df.user_uncorrect_count2.astype('int16')\n",
    "# #train_df.user_answer_count2=train_df.user_answer_count2.astype('int16')\n",
    "# del cum\n",
    "# gc.collect()"
   ]
  },
  {
   "cell_type": "code",
   "execution_count": 47,
   "metadata": {
    "execution": {
     "iopub.execute_input": "2021-01-05T22:24:48.938854Z",
     "iopub.status.busy": "2021-01-05T22:24:48.938111Z",
     "iopub.status.idle": "2021-01-05T22:24:52.209664Z",
     "shell.execute_reply": "2021-01-05T22:24:52.208886Z"
    },
    "papermill": {
     "duration": 3.359925,
     "end_time": "2021-01-05T22:24:52.209846",
     "exception": false,
     "start_time": "2021-01-05T22:24:48.849921",
     "status": "completed"
    },
    "tags": []
   },
   "outputs": [],
   "source": [
    "train_df.prior_question_had_explanation=train_df.prior_question_had_explanation.astype('int8')\n",
    "explanation_agg = train_df.groupby('user_id')['prior_question_had_explanation'].agg(['sum', 'count'])\n",
    "explanation_agg=explanation_agg.astype('int16')\n",
    "# explanation_agg.sum=explanation_agg.sum.astype('int16')\n",
    "# explanation_agg.count=explanation_agg.count.astype('int16')\n",
    "#explanation_agg.var=explanation_agg.var.astype('float16')"
   ]
  },
  {
   "cell_type": "code",
   "execution_count": 48,
   "metadata": {
    "execution": {
     "iopub.execute_input": "2021-01-05T22:24:52.386012Z",
     "iopub.status.busy": "2021-01-05T22:24:52.385184Z",
     "iopub.status.idle": "2021-01-05T22:25:05.007409Z",
     "shell.execute_reply": "2021-01-05T22:25:05.008118Z"
    },
    "papermill": {
     "duration": 12.713734,
     "end_time": "2021-01-05T22:25:05.008294",
     "exception": false,
     "start_time": "2021-01-05T22:24:52.294560",
     "status": "completed"
    },
    "tags": []
   },
   "outputs": [],
   "source": [
    "\n",
    "\n",
    "#train_df['lag'] = train_df.groupby('user_id')['prior_question_had_explanation'].shift()\n",
    "\n",
    "cum = train_df.groupby('user_id')['prior_question_had_explanation'].agg(['cumsum', 'cumcount'])\n",
    "cum['cumcount']=cum['cumcount']+1\n",
    "train_df['explanation_mean'] = cum['cumsum'] / cum['cumcount']\n",
    "train_df['explanation_true_count'] = cum['cumsum'] \n",
    "train_df['explanation_false_count'] =  cum['cumcount']-cum['cumsum']\n",
    "#train_df.drop(columns=['lag'], inplace=True)\n",
    "\n",
    "train_df.explanation_mean=train_df.explanation_mean.astype('float16')\n",
    "train_df.explanation_true_count=train_df.explanation_true_count.astype('int16')\n",
    "train_df.explanation_false_count=train_df.explanation_false_count.astype('int16')"
   ]
  },
  {
   "cell_type": "code",
   "execution_count": 49,
   "metadata": {
    "execution": {
     "iopub.execute_input": "2021-01-05T22:25:05.164746Z",
     "iopub.status.busy": "2021-01-05T22:25:05.163791Z",
     "iopub.status.idle": "2021-01-05T22:25:05.252943Z",
     "shell.execute_reply": "2021-01-05T22:25:05.252388Z"
    },
    "papermill": {
     "duration": 0.168173,
     "end_time": "2021-01-05T22:25:05.253066",
     "exception": false,
     "start_time": "2021-01-05T22:25:05.084893",
     "status": "completed"
    },
    "tags": []
   },
   "outputs": [
    {
     "data": {
      "text/plain": [
       "33"
      ]
     },
     "execution_count": 49,
     "metadata": {},
     "output_type": "execute_result"
    }
   ],
   "source": [
    "del cum\n",
    "gc.collect()"
   ]
  },
  {
   "cell_type": "code",
   "execution_count": 50,
   "metadata": {
    "execution": {
     "iopub.execute_input": "2021-01-05T22:25:05.414671Z",
     "iopub.status.busy": "2021-01-05T22:25:05.414033Z",
     "iopub.status.idle": "2021-01-05T22:25:15.433702Z",
     "shell.execute_reply": "2021-01-05T22:25:15.434310Z"
    },
    "papermill": {
     "duration": 10.1051,
     "end_time": "2021-01-05T22:25:15.434522",
     "exception": false,
     "start_time": "2021-01-05T22:25:05.329422",
     "status": "completed"
    },
    "tags": []
   },
   "outputs": [],
   "source": [
    "content_agg = train_df.groupby('content_id')[target].agg(['sum', 'count','var'])\n",
    "task_container_agg = train_df.groupby('task_container_id')[target].agg(['sum', 'count','var'])\n",
    "content_agg=content_agg.astype('float32')\n",
    "task_container_agg=task_container_agg.astype('float32')"
   ]
  },
  {
   "cell_type": "code",
   "execution_count": 51,
   "metadata": {
    "execution": {
     "iopub.execute_input": "2021-01-05T22:25:15.604645Z",
     "iopub.status.busy": "2021-01-05T22:25:15.603840Z",
     "iopub.status.idle": "2021-01-05T22:25:21.452981Z",
     "shell.execute_reply": "2021-01-05T22:25:21.452301Z"
    },
    "papermill": {
     "duration": 5.932873,
     "end_time": "2021-01-05T22:25:21.453145",
     "exception": false,
     "start_time": "2021-01-05T22:25:15.520272",
     "status": "completed"
    },
    "tags": []
   },
   "outputs": [],
   "source": [
    "#\n",
    "train_df['task_container_uncor_count'] = train_df['task_container_id'].map(task_container_agg['count']-task_container_agg['sum']).astype('int32')\n",
    "train_df['task_container_cor_count'] = train_df['task_container_id'].map(task_container_agg['sum']).astype('int32')\n",
    "train_df['task_container_std'] = train_df['task_container_id'].map(task_container_agg['var']).astype('float16')\n",
    "train_df['task_container_correctness'] = train_df['task_container_id'].map(task_container_agg['sum'] / task_container_agg['count'])\n",
    "train_df.task_container_correctness=train_df.task_container_correctness.astype('float16')"
   ]
  },
  {
   "cell_type": "code",
   "execution_count": 52,
   "metadata": {
    "execution": {
     "iopub.execute_input": "2021-01-05T22:25:21.622355Z",
     "iopub.status.busy": "2021-01-05T22:25:21.621613Z",
     "iopub.status.idle": "2021-01-05T22:25:25.803783Z",
     "shell.execute_reply": "2021-01-05T22:25:25.803095Z"
    },
    "papermill": {
     "duration": 4.270722,
     "end_time": "2021-01-05T22:25:25.803954",
     "exception": false,
     "start_time": "2021-01-05T22:25:21.533232",
     "status": "completed"
    },
    "tags": []
   },
   "outputs": [],
   "source": [
    "content_elapsed_time_agg=train_df.groupby('content_id')['prior_question_elapsed_time'].agg(['mean'])\n",
    "content_had_explanation_agg=train_df.groupby('content_id')['prior_question_had_explanation'].agg(['mean'])"
   ]
  },
  {
   "cell_type": "code",
   "execution_count": 53,
   "metadata": {
    "execution": {
     "iopub.execute_input": "2021-01-05T22:25:25.976518Z",
     "iopub.status.busy": "2021-01-05T22:25:25.975508Z",
     "iopub.status.idle": "2021-01-05T22:25:25.980463Z",
     "shell.execute_reply": "2021-01-05T22:25:25.979948Z"
    },
    "papermill": {
     "duration": 0.094397,
     "end_time": "2021-01-05T22:25:25.980609",
     "exception": false,
     "start_time": "2021-01-05T22:25:25.886212",
     "status": "completed"
    },
    "tags": []
   },
   "outputs": [
    {
     "data": {
      "text/plain": [
       "timestamp                            float16\n",
       "user_id                                int32\n",
       "content_id                             int16\n",
       "content_type_id                         int8\n",
       "task_container_id                      int16\n",
       "answered_correctly                      int8\n",
       "prior_question_elapsed_time          float32\n",
       "prior_question_had_explanation          int8\n",
       "user_interaction_count                 int16\n",
       "user_interaction_timestamp_mean      float32\n",
       "user_lecture_sum                       int16\n",
       "user_lecture_lv                      float16\n",
       "attempt_no                              int8\n",
       "lagtime                              float32\n",
       "lagtime2                             float32\n",
       "lagtime3                             float32\n",
       "delta_prior_question_elapsed_time      int32\n",
       "user_correctness                     float16\n",
       "user_correct_count                     int16\n",
       "user_uncorrect_count                   int16\n",
       "explanation_mean                     float16\n",
       "explanation_true_count                 int16\n",
       "explanation_false_count                int16\n",
       "task_container_uncor_count             int32\n",
       "task_container_cor_count               int32\n",
       "task_container_std                   float16\n",
       "task_container_correctness           float16\n",
       "dtype: object"
      ]
     },
     "execution_count": 53,
     "metadata": {},
     "output_type": "execute_result"
    }
   ],
   "source": [
    "train_df.dtypes"
   ]
  },
  {
   "cell_type": "code",
   "execution_count": 54,
   "metadata": {
    "execution": {
     "iopub.execute_input": "2021-01-05T22:25:26.160315Z",
     "iopub.status.busy": "2021-01-05T22:25:26.159283Z",
     "iopub.status.idle": "2021-01-05T22:25:26.218313Z",
     "shell.execute_reply": "2021-01-05T22:25:26.217597Z"
    },
    "papermill": {
     "duration": 0.152684,
     "end_time": "2021-01-05T22:25:26.218430",
     "exception": false,
     "start_time": "2021-01-05T22:25:26.065746",
     "status": "completed"
    },
    "tags": []
   },
   "outputs": [
    {
     "data": {
      "text/html": [
       "<div>\n",
       "<style scoped>\n",
       "    .dataframe tbody tr th:only-of-type {\n",
       "        vertical-align: middle;\n",
       "    }\n",
       "\n",
       "    .dataframe tbody tr th {\n",
       "        vertical-align: top;\n",
       "    }\n",
       "\n",
       "    .dataframe thead th {\n",
       "        text-align: right;\n",
       "    }\n",
       "</style>\n",
       "<table border=\"1\" class=\"dataframe\">\n",
       "  <thead>\n",
       "    <tr style=\"text-align: right;\">\n",
       "      <th></th>\n",
       "      <th>timestamp</th>\n",
       "      <th>user_id</th>\n",
       "      <th>content_id</th>\n",
       "      <th>content_type_id</th>\n",
       "      <th>task_container_id</th>\n",
       "      <th>answered_correctly</th>\n",
       "      <th>prior_question_elapsed_time</th>\n",
       "      <th>prior_question_had_explanation</th>\n",
       "      <th>user_interaction_count</th>\n",
       "      <th>user_interaction_timestamp_mean</th>\n",
       "      <th>...</th>\n",
       "      <th>user_correctness</th>\n",
       "      <th>user_correct_count</th>\n",
       "      <th>user_uncorrect_count</th>\n",
       "      <th>explanation_mean</th>\n",
       "      <th>explanation_true_count</th>\n",
       "      <th>explanation_false_count</th>\n",
       "      <th>task_container_uncor_count</th>\n",
       "      <th>task_container_cor_count</th>\n",
       "      <th>task_container_std</th>\n",
       "      <th>task_container_correctness</th>\n",
       "    </tr>\n",
       "  </thead>\n",
       "  <tbody>\n",
       "    <tr>\n",
       "      <th>0</th>\n",
       "      <td>0.000000</td>\n",
       "      <td>115</td>\n",
       "      <td>5692</td>\n",
       "      <td>0</td>\n",
       "      <td>1</td>\n",
       "      <td>1</td>\n",
       "      <td>13005.081055</td>\n",
       "      <td>0</td>\n",
       "      <td>1</td>\n",
       "      <td>0.000000</td>\n",
       "      <td>...</td>\n",
       "      <td>0.669922</td>\n",
       "      <td>0</td>\n",
       "      <td>0</td>\n",
       "      <td>0.0</td>\n",
       "      <td>0</td>\n",
       "      <td>1</td>\n",
       "      <td>187175</td>\n",
       "      <td>208704</td>\n",
       "      <td>0.249268</td>\n",
       "      <td>0.527344</td>\n",
       "    </tr>\n",
       "    <tr>\n",
       "      <th>1</th>\n",
       "      <td>0.015823</td>\n",
       "      <td>115</td>\n",
       "      <td>5716</td>\n",
       "      <td>0</td>\n",
       "      <td>2</td>\n",
       "      <td>1</td>\n",
       "      <td>37000.000000</td>\n",
       "      <td>0</td>\n",
       "      <td>2</td>\n",
       "      <td>0.007909</td>\n",
       "      <td>...</td>\n",
       "      <td>1.000000</td>\n",
       "      <td>1</td>\n",
       "      <td>0</td>\n",
       "      <td>0.0</td>\n",
       "      <td>0</td>\n",
       "      <td>2</td>\n",
       "      <td>223198</td>\n",
       "      <td>172342</td>\n",
       "      <td>0.245850</td>\n",
       "      <td>0.435791</td>\n",
       "    </tr>\n",
       "    <tr>\n",
       "      <th>2</th>\n",
       "      <td>0.032867</td>\n",
       "      <td>115</td>\n",
       "      <td>128</td>\n",
       "      <td>0</td>\n",
       "      <td>0</td>\n",
       "      <td>1</td>\n",
       "      <td>55000.000000</td>\n",
       "      <td>0</td>\n",
       "      <td>3</td>\n",
       "      <td>0.010960</td>\n",
       "      <td>...</td>\n",
       "      <td>1.000000</td>\n",
       "      <td>2</td>\n",
       "      <td>0</td>\n",
       "      <td>0.0</td>\n",
       "      <td>0</td>\n",
       "      <td>3</td>\n",
       "      <td>126682</td>\n",
       "      <td>269233</td>\n",
       "      <td>0.217651</td>\n",
       "      <td>0.680176</td>\n",
       "    </tr>\n",
       "    <tr>\n",
       "      <th>3</th>\n",
       "      <td>0.036438</td>\n",
       "      <td>115</td>\n",
       "      <td>7860</td>\n",
       "      <td>0</td>\n",
       "      <td>3</td>\n",
       "      <td>1</td>\n",
       "      <td>19000.000000</td>\n",
       "      <td>0</td>\n",
       "      <td>4</td>\n",
       "      <td>0.009109</td>\n",
       "      <td>...</td>\n",
       "      <td>1.000000</td>\n",
       "      <td>3</td>\n",
       "      <td>0</td>\n",
       "      <td>0.0</td>\n",
       "      <td>0</td>\n",
       "      <td>4</td>\n",
       "      <td>180574</td>\n",
       "      <td>214721</td>\n",
       "      <td>0.248169</td>\n",
       "      <td>0.542969</td>\n",
       "    </tr>\n",
       "    <tr>\n",
       "      <th>4</th>\n",
       "      <td>0.038330</td>\n",
       "      <td>115</td>\n",
       "      <td>7922</td>\n",
       "      <td>0</td>\n",
       "      <td>4</td>\n",
       "      <td>1</td>\n",
       "      <td>11000.000000</td>\n",
       "      <td>0</td>\n",
       "      <td>5</td>\n",
       "      <td>0.007665</td>\n",
       "      <td>...</td>\n",
       "      <td>1.000000</td>\n",
       "      <td>4</td>\n",
       "      <td>0</td>\n",
       "      <td>0.0</td>\n",
       "      <td>0</td>\n",
       "      <td>5</td>\n",
       "      <td>361957</td>\n",
       "      <td>330079</td>\n",
       "      <td>0.249512</td>\n",
       "      <td>0.477051</td>\n",
       "    </tr>\n",
       "  </tbody>\n",
       "</table>\n",
       "<p>5 rows × 27 columns</p>\n",
       "</div>"
      ],
      "text/plain": [
       "   timestamp  user_id  content_id  content_type_id  task_container_id  \\\n",
       "0   0.000000      115        5692                0                  1   \n",
       "1   0.015823      115        5716                0                  2   \n",
       "2   0.032867      115         128                0                  0   \n",
       "3   0.036438      115        7860                0                  3   \n",
       "4   0.038330      115        7922                0                  4   \n",
       "\n",
       "   answered_correctly  prior_question_elapsed_time  \\\n",
       "0                   1                 13005.081055   \n",
       "1                   1                 37000.000000   \n",
       "2                   1                 55000.000000   \n",
       "3                   1                 19000.000000   \n",
       "4                   1                 11000.000000   \n",
       "\n",
       "   prior_question_had_explanation  user_interaction_count  \\\n",
       "0                               0                       1   \n",
       "1                               0                       2   \n",
       "2                               0                       3   \n",
       "3                               0                       4   \n",
       "4                               0                       5   \n",
       "\n",
       "   user_interaction_timestamp_mean  ...  user_correctness  user_correct_count  \\\n",
       "0                         0.000000  ...          0.669922                   0   \n",
       "1                         0.007909  ...          1.000000                   1   \n",
       "2                         0.010960  ...          1.000000                   2   \n",
       "3                         0.009109  ...          1.000000                   3   \n",
       "4                         0.007665  ...          1.000000                   4   \n",
       "\n",
       "   user_uncorrect_count  explanation_mean  explanation_true_count  \\\n",
       "0                     0               0.0                       0   \n",
       "1                     0               0.0                       0   \n",
       "2                     0               0.0                       0   \n",
       "3                     0               0.0                       0   \n",
       "4                     0               0.0                       0   \n",
       "\n",
       "   explanation_false_count  task_container_uncor_count  \\\n",
       "0                        1                      187175   \n",
       "1                        2                      223198   \n",
       "2                        3                      126682   \n",
       "3                        4                      180574   \n",
       "4                        5                      361957   \n",
       "\n",
       "   task_container_cor_count  task_container_std  task_container_correctness  \n",
       "0                    208704            0.249268                    0.527344  \n",
       "1                    172342            0.245850                    0.435791  \n",
       "2                    269233            0.217651                    0.680176  \n",
       "3                    214721            0.248169                    0.542969  \n",
       "4                    330079            0.249512                    0.477051  \n",
       "\n",
       "[5 rows x 27 columns]"
      ]
     },
     "execution_count": 54,
     "metadata": {},
     "output_type": "execute_result"
    }
   ],
   "source": [
    "train_df.head()"
   ]
  },
  {
   "cell_type": "markdown",
   "metadata": {
    "papermill": {
     "duration": 0.078768,
     "end_time": "2021-01-05T22:25:26.376294",
     "exception": false,
     "start_time": "2021-01-05T22:25:26.297526",
     "status": "completed"
    },
    "tags": []
   },
   "source": [
    "## Questions data"
   ]
  },
  {
   "cell_type": "code",
   "execution_count": 55,
   "metadata": {
    "execution": {
     "iopub.execute_input": "2021-01-05T22:25:26.552371Z",
     "iopub.status.busy": "2021-01-05T22:25:26.551566Z",
     "iopub.status.idle": "2021-01-05T22:25:26.555174Z",
     "shell.execute_reply": "2021-01-05T22:25:26.555802Z"
    },
    "papermill": {
     "duration": 0.09554,
     "end_time": "2021-01-05T22:25:26.555952",
     "exception": false,
     "start_time": "2021-01-05T22:25:26.460412",
     "status": "completed"
    },
    "tags": []
   },
   "outputs": [
    {
     "name": "stdout",
     "output_type": "stream",
     "text": [
      "start questions data...\n"
     ]
    }
   ],
   "source": [
    "print('start questions data...')"
   ]
  },
  {
   "cell_type": "markdown",
   "metadata": {
    "papermill": {
     "duration": 0.079175,
     "end_time": "2021-01-05T22:25:26.714740",
     "exception": false,
     "start_time": "2021-01-05T22:25:26.635565",
     "status": "completed"
    },
    "tags": []
   },
   "source": [
    "### Tags LSI"
   ]
  },
  {
   "cell_type": "code",
   "execution_count": 56,
   "metadata": {
    "execution": {
     "iopub.execute_input": "2021-01-05T22:25:26.880915Z",
     "iopub.status.busy": "2021-01-05T22:25:26.879825Z",
     "iopub.status.idle": "2021-01-05T22:25:26.953717Z",
     "shell.execute_reply": "2021-01-05T22:25:26.952181Z"
    },
    "papermill": {
     "duration": 0.157783,
     "end_time": "2021-01-05T22:25:26.953866",
     "exception": false,
     "start_time": "2021-01-05T22:25:26.796083",
     "status": "completed"
    },
    "tags": []
   },
   "outputs": [],
   "source": [
    "if GENERATE_TAGS_LSI:\n",
    "    questions_df = pd.read_csv(\n",
    "        '../input/riiid-test-answer-prediction/questions.csv', \n",
    "        usecols=[0, 1,3,4],\n",
    "        dtype={'question_id': 'int16','bundle_id': 'int16', 'part': 'int8','tags': 'str'}\n",
    "    )\n",
    "    \n",
    "    ### TSVD decomposition\n",
    "    from time import time \n",
    "    import pandas as pd\n",
    "    import warnings\n",
    "    from time import time \n",
    "    import warnings\n",
    "    from gensim import corpora,similarities,models\n",
    "    import pandas as pd\n",
    "    from tqdm import tqdm\n",
    "\n",
    "    warnings.filterwarnings(action='ignore',category=UserWarning,module='gensim')\n",
    "    time1=time()\n",
    "    from gensim import corpora,similarities,models\n",
    "    # test_data_all=pd.read_pickle(\"query_all.pickle\")\n",
    "\n",
    "    questions_df['tags'].fillna(\"188\",inplace=True)\n",
    "\n",
    "    class mycorpus(object):\n",
    "        def __iter__(self):\n",
    "            for index,doc in enumerate(questions_df['tags']):\n",
    "                if index%5000000==0:\n",
    "                    print(index)\n",
    "                yield doc.split(' ')\n",
    "    corp = mycorpus()\n",
    "    # dictionary.add_documents(corp)\n",
    "    dictionary=corpora.Dictionary(corp)\n",
    "    time2=time()\n",
    "    print(time2-time1)\n",
    "\n",
    "\n",
    "\n",
    "    # test_data_all=pd.read_pickle(\"/home/kesci/work/query_all.pickle\")\n",
    "\n",
    "    print(111523155656)\n",
    "    class MyCorpus(object):\n",
    "        def __init__(self):\n",
    "            print('MyCorpus')\n",
    "        def __iter__(self):\n",
    "            for index,doc in enumerate(questions_df['tags']):\n",
    "                if index%5000000==0:\n",
    "                    print(index)\n",
    "                yield dictionary.doc2bow(doc.split(' '))\n",
    "    corpus = MyCorpus()\n",
    "    # corpus = [dictionary.doc2bow(text) for text in self.text]\n",
    "    tfidf_model = models.TfidfModel(corpus, id2word=dictionary)\n",
    "    # corpus_tfidf = tfidf_model[corpus]\n",
    "\n",
    "    # tfidf_model.save(\"model/tfidf.model\")\n",
    "    # dictionary.save(\"model/dictionary.model\")\n",
    "\n",
    "\n",
    "    from time import time \n",
    "    import warnings\n",
    "    time1=time()\n",
    "    warnings.filterwarnings(action='ignore',category=UserWarning,module='gensim')\n",
    "    from gensim import corpora,similarities,models\n",
    "    import pandas as pd\n",
    "    # test_data_all=pd.read_pickle(\"/home/kesci/work/query_all.pickle\")\n",
    "    corpus_tfidf = tfidf_model[corpus]\n",
    "    print(111523155656)\n",
    "    class MyCorpus(object):\n",
    "        def __init__(self):\n",
    "            print('MyCorpus')\n",
    "        def __iter__(self):\n",
    "            for index,doc in enumerate(corpus_tfidf):\n",
    "                if index%1000000==0:\n",
    "                    print(index)\n",
    "                yield doc\n",
    "    corpus3 = MyCorpus()\n",
    "    # corpus = [dictionary.doc2bow(text) for text in self.text]\n",
    "    lsi_model = models.LsiModel(corpus3, id2word=dictionary,chunksize=2500000,num_topics=50)\n",
    "    lsi_model.save(\"lsi_model_50_topics.lsi\")\n",
    "    time2=time()\n",
    "    print((time2-time1)/60)\n",
    "    # corpus_tfidf = tfidf_model[corpus]\n",
    "\n",
    "    def get_arg_max(single_list):\n",
    "        max_index=0\n",
    "        max_num=single_list[0][1]\n",
    "        for index in range(len(single_list)-1):\n",
    "            if max_num<single_list[index+1][1]:\n",
    "                max_num=single_list[index+1][1]\n",
    "                max_index=index+1\n",
    "        return max_index\n",
    "    \n",
    "    # lsi_model=models.LsiModel.load(\"lsi_model_50_topics.lsi\")\n",
    "    # dictionary=corpora.Dictionary.load(\"model/dictionary.model\")\n",
    "    # tfidf_model=corpora.Dictionary.load(\"model/tfidf.model\")\n",
    "    \n",
    "    questions_df_lsi=[]\n",
    "    for text in tqdm(questions_df['tags']):\n",
    "        single_row_text=dictionary.doc2bow(text.split(' '))\n",
    "        single_row_lsi_list=list(lsi_model[tfidf_model[single_row_text]])\n",
    "        if len(single_row_lsi_list)==0:\n",
    "            questions_df_lsi.append(0)\n",
    "            continue\n",
    "        single_row_lsi=get_arg_max(single_row_lsi_list)\n",
    "        questions_df_lsi.append(single_row_lsi)\n",
    "        \n",
    "    questions_df['tags_lsi'] = questions_df_lsi\n",
    "    questions_df.to_csv(\"questions_df_w_lsi.csv\",index=None)\n",
    "    \n",
    "else:\n",
    "    questions_df = pd.read_csv(\n",
    "        '../input/questions-df-w-lsi/questions_df_w_lsi.csv',\n",
    "        #usecols=[0, 1,3,4,5],\n",
    "        dtype={'question_id': 'int16','bundle_id': 'int16', 'part': 'int8','tags': 'str', 'tags_lsi': 'int8'}\n",
    "    )\n",
    "    "
   ]
  },
  {
   "cell_type": "code",
   "execution_count": 57,
   "metadata": {
    "execution": {
     "iopub.execute_input": "2021-01-05T22:25:27.119265Z",
     "iopub.status.busy": "2021-01-05T22:25:27.118568Z",
     "iopub.status.idle": "2021-01-05T22:25:27.129989Z",
     "shell.execute_reply": "2021-01-05T22:25:27.130459Z"
    },
    "papermill": {
     "duration": 0.097396,
     "end_time": "2021-01-05T22:25:27.130659",
     "exception": false,
     "start_time": "2021-01-05T22:25:27.033263",
     "status": "completed"
    },
    "tags": []
   },
   "outputs": [],
   "source": [
    "bundle_agg = questions_df.groupby('bundle_id')['question_id'].agg(['count'])"
   ]
  },
  {
   "cell_type": "code",
   "execution_count": 58,
   "metadata": {
    "execution": {
     "iopub.execute_input": "2021-01-05T22:25:27.296940Z",
     "iopub.status.busy": "2021-01-05T22:25:27.296263Z",
     "iopub.status.idle": "2021-01-05T22:25:27.304250Z",
     "shell.execute_reply": "2021-01-05T22:25:27.303243Z"
    },
    "papermill": {
     "duration": 0.094247,
     "end_time": "2021-01-05T22:25:27.304375",
     "exception": false,
     "start_time": "2021-01-05T22:25:27.210128",
     "status": "completed"
    },
    "tags": []
   },
   "outputs": [],
   "source": [
    "questions_df['content_sub_bundle'] = questions_df['bundle_id'].map(bundle_agg['count']).astype('int8')"
   ]
  },
  {
   "cell_type": "code",
   "execution_count": 59,
   "metadata": {
    "execution": {
     "iopub.execute_input": "2021-01-05T22:25:27.472370Z",
     "iopub.status.busy": "2021-01-05T22:25:27.471681Z",
     "iopub.status.idle": "2021-01-05T22:25:27.476685Z",
     "shell.execute_reply": "2021-01-05T22:25:27.476148Z"
    },
    "papermill": {
     "duration": 0.093609,
     "end_time": "2021-01-05T22:25:27.476820",
     "exception": false,
     "start_time": "2021-01-05T22:25:27.383211",
     "status": "completed"
    },
    "tags": []
   },
   "outputs": [],
   "source": [
    "questions_df['tags'].fillna('188', inplace=True)"
   ]
  },
  {
   "cell_type": "code",
   "execution_count": 60,
   "metadata": {
    "execution": {
     "iopub.execute_input": "2021-01-05T22:25:27.646761Z",
     "iopub.status.busy": "2021-01-05T22:25:27.646080Z",
     "iopub.status.idle": "2021-01-05T22:25:27.652258Z",
     "shell.execute_reply": "2021-01-05T22:25:27.648715Z"
    },
    "papermill": {
     "duration": 0.094415,
     "end_time": "2021-01-05T22:25:27.652398",
     "exception": false,
     "start_time": "2021-01-05T22:25:27.557983",
     "status": "completed"
    },
    "tags": []
   },
   "outputs": [],
   "source": [
    "def gettags(tags,num):\n",
    "    tags_splits=tags.split(\" \")\n",
    "    result='' \n",
    "    for t in tags_splits:\n",
    "        x=int(t)\n",
    "        if(x<32*(num+1) and x>=32*num):#num \n",
    "            result=result+' '+t\n",
    "    return result"
   ]
  },
  {
   "cell_type": "code",
   "execution_count": 61,
   "metadata": {
    "execution": {
     "iopub.execute_input": "2021-01-05T22:25:27.860706Z",
     "iopub.status.busy": "2021-01-05T22:25:27.836198Z",
     "iopub.status.idle": "2021-01-05T22:25:28.107205Z",
     "shell.execute_reply": "2021-01-05T22:25:28.106519Z"
    },
    "papermill": {
     "duration": 0.375324,
     "end_time": "2021-01-05T22:25:28.107348",
     "exception": false,
     "start_time": "2021-01-05T22:25:27.732024",
     "status": "completed"
    },
    "tags": []
   },
   "outputs": [],
   "source": [
    "from sklearn.preprocessing import LabelEncoder\n",
    "for num in range(0,6):\n",
    "    questions_df[\"tags\"+str(num)] = questions_df[\"tags\"].apply(lambda row: gettags(row,num))\n",
    "    le = LabelEncoder()\n",
    "    le.fit(np.unique(questions_df['tags'+str(num)].values))\n",
    "    #questions_df[['tags'+str(num)]=\n",
    "    questions_df['tags'+str(num)]=questions_df[['tags'+str(num)]].apply(le.transform)"
   ]
  },
  {
   "cell_type": "code",
   "execution_count": 62,
   "metadata": {
    "execution": {
     "iopub.execute_input": "2021-01-05T22:25:28.281358Z",
     "iopub.status.busy": "2021-01-05T22:25:28.280171Z",
     "iopub.status.idle": "2021-01-05T22:25:28.289905Z",
     "shell.execute_reply": "2021-01-05T22:25:28.289214Z"
    },
    "papermill": {
     "duration": 0.099565,
     "end_time": "2021-01-05T22:25:28.290043",
     "exception": false,
     "start_time": "2021-01-05T22:25:28.190478",
     "status": "completed"
    },
    "tags": []
   },
   "outputs": [],
   "source": [
    "questions_df_dict = {   \n",
    "    'tags0': 'int8',\n",
    "    'tags1': 'int8',\n",
    "    'tags2': 'int8',\n",
    "    'tags3': 'int8',\n",
    "    'tags4': 'int8',\n",
    "    'tags5': 'int8',\n",
    "    #'tags6': 'int8',\n",
    "    #'tags7': 'int8'\n",
    "}\n",
    "questions_df = questions_df.astype(questions_df_dict)"
   ]
  },
  {
   "cell_type": "code",
   "execution_count": 63,
   "metadata": {
    "execution": {
     "iopub.execute_input": "2021-01-05T22:25:28.468593Z",
     "iopub.status.busy": "2021-01-05T22:25:28.467464Z",
     "iopub.status.idle": "2021-01-05T22:25:28.471636Z",
     "shell.execute_reply": "2021-01-05T22:25:28.471001Z"
    },
    "papermill": {
     "duration": 0.097794,
     "end_time": "2021-01-05T22:25:28.471790",
     "exception": false,
     "start_time": "2021-01-05T22:25:28.373996",
     "status": "completed"
    },
    "tags": []
   },
   "outputs": [],
   "source": [
    "questions_df.drop(columns=['tags'], inplace=True)"
   ]
  },
  {
   "cell_type": "code",
   "execution_count": 64,
   "metadata": {
    "execution": {
     "iopub.execute_input": "2021-01-05T22:25:28.643923Z",
     "iopub.status.busy": "2021-01-05T22:25:28.643104Z",
     "iopub.status.idle": "2021-01-05T22:25:28.647413Z",
     "shell.execute_reply": "2021-01-05T22:25:28.646822Z"
    },
    "papermill": {
     "duration": 0.094219,
     "end_time": "2021-01-05T22:25:28.647537",
     "exception": false,
     "start_time": "2021-01-05T22:25:28.553318",
     "status": "completed"
    },
    "tags": []
   },
   "outputs": [],
   "source": [
    "\n",
    "questions_df['part_bundle_id']=questions_df['part']*100000+questions_df['bundle_id']\n",
    "questions_df.part_bundle_id=questions_df.part_bundle_id.astype('int32')\n",
    "# tag = questions_df[\"tags\"].str.split(\" \", n = 10, expand = True)\n",
    "# tag.columns = ['tags1','tags2','tags3','tags4','tags5','tags6']\n",
    "# #\n",
    "\n",
    "# tag.fillna(0, inplace=True)\n",
    "# tag = tag.astype('int16')\n",
    "# questions_df =  pd.concat([questions_df,tag],axis=1).drop(['tags'],axis=1)"
   ]
  },
  {
   "cell_type": "code",
   "execution_count": 65,
   "metadata": {
    "execution": {
     "iopub.execute_input": "2021-01-05T22:25:28.817069Z",
     "iopub.status.busy": "2021-01-05T22:25:28.816037Z",
     "iopub.status.idle": "2021-01-05T22:25:28.818812Z",
     "shell.execute_reply": "2021-01-05T22:25:28.818175Z"
    },
    "papermill": {
     "duration": 0.089909,
     "end_time": "2021-01-05T22:25:28.818935",
     "exception": false,
     "start_time": "2021-01-05T22:25:28.729026",
     "status": "completed"
    },
    "tags": []
   },
   "outputs": [],
   "source": [
    "# questions_cmnts = pd.read_csv(\n",
    "#     '../input/2020-r3id-clustering-question-tags/question_cmnts.csv', \n",
    "#     usecols=[1,2],\n",
    "#     dtype={'question_id': 'int16','community': 'int8'}\n",
    "# )"
   ]
  },
  {
   "cell_type": "code",
   "execution_count": 66,
   "metadata": {
    "execution": {
     "iopub.execute_input": "2021-01-05T22:25:28.987187Z",
     "iopub.status.busy": "2021-01-05T22:25:28.986268Z",
     "iopub.status.idle": "2021-01-05T22:25:28.990260Z",
     "shell.execute_reply": "2021-01-05T22:25:28.989694Z"
    },
    "papermill": {
     "duration": 0.090079,
     "end_time": "2021-01-05T22:25:28.990375",
     "exception": false,
     "start_time": "2021-01-05T22:25:28.900296",
     "status": "completed"
    },
    "tags": []
   },
   "outputs": [],
   "source": [
    "# questions_df = pd.merge(questions_df, questions_cmnts, on='question_id', how='left',right_index=True)#"
   ]
  },
  {
   "cell_type": "code",
   "execution_count": 67,
   "metadata": {
    "execution": {
     "iopub.execute_input": "2021-01-05T22:25:29.157907Z",
     "iopub.status.busy": "2021-01-05T22:25:29.157236Z",
     "iopub.status.idle": "2021-01-05T22:25:29.160674Z",
     "shell.execute_reply": "2021-01-05T22:25:29.160072Z"
    },
    "papermill": {
     "duration": 0.08972,
     "end_time": "2021-01-05T22:25:29.160818",
     "exception": false,
     "start_time": "2021-01-05T22:25:29.071098",
     "status": "completed"
    },
    "tags": []
   },
   "outputs": [],
   "source": [
    "questions_df.rename(columns={'question_id':'content_id'}, inplace=True)"
   ]
  },
  {
   "cell_type": "code",
   "execution_count": 68,
   "metadata": {
    "execution": {
     "iopub.execute_input": "2021-01-05T22:25:29.329403Z",
     "iopub.status.busy": "2021-01-05T22:25:29.328696Z",
     "iopub.status.idle": "2021-01-05T22:25:29.343790Z",
     "shell.execute_reply": "2021-01-05T22:25:29.343049Z"
    },
    "papermill": {
     "duration": 0.102752,
     "end_time": "2021-01-05T22:25:29.343913",
     "exception": false,
     "start_time": "2021-01-05T22:25:29.241161",
     "status": "completed"
    },
    "tags": []
   },
   "outputs": [],
   "source": [
    "questions_df = pd.merge(questions_df, content_explation_agg, on='content_id', how='left',right_index=True)#\n",
    "# questions_df.content_explation_false_mean=questions_df.content_explation_false_mean.astype('float16')\n",
    "# questions_df.content_explation_true_mean=questions_df.content_explation_true_mean.astype('float16')"
   ]
  },
  {
   "cell_type": "code",
   "execution_count": 69,
   "metadata": {
    "execution": {
     "iopub.execute_input": "2021-01-05T22:25:29.512231Z",
     "iopub.status.busy": "2021-01-05T22:25:29.511574Z",
     "iopub.status.idle": "2021-01-05T22:25:29.514661Z",
     "shell.execute_reply": "2021-01-05T22:25:29.515182Z"
    },
    "papermill": {
     "duration": 0.08978,
     "end_time": "2021-01-05T22:25:29.515338",
     "exception": false,
     "start_time": "2021-01-05T22:25:29.425558",
     "status": "completed"
    },
    "tags": []
   },
   "outputs": [],
   "source": [
    "del content_explation_agg"
   ]
  },
  {
   "cell_type": "code",
   "execution_count": 70,
   "metadata": {
    "execution": {
     "iopub.execute_input": "2021-01-05T22:25:29.690069Z",
     "iopub.status.busy": "2021-01-05T22:25:29.689301Z",
     "iopub.status.idle": "2021-01-05T22:25:29.701271Z",
     "shell.execute_reply": "2021-01-05T22:25:29.700621Z"
    },
    "papermill": {
     "duration": 0.104121,
     "end_time": "2021-01-05T22:25:29.701420",
     "exception": false,
     "start_time": "2021-01-05T22:25:29.597299",
     "status": "completed"
    },
    "tags": []
   },
   "outputs": [],
   "source": [
    "questions_df['content_correctness'] = questions_df['content_id'].map(content_agg['sum'] / content_agg['count'])\n",
    "questions_df.content_correctness=questions_df.content_correctness.astype('float16')\n",
    "questions_df['content_correctness_std'] = questions_df['content_id'].map(content_agg['var'])\n",
    "questions_df.content_correctness_std=questions_df.content_correctness_std.astype('float16')\n",
    "questions_df['content_uncorrect_count'] = questions_df['content_id'].map(content_agg['count']-content_agg['sum']).astype('int32')\n",
    "questions_df['content_correct_count'] = questions_df['content_id'].map(content_agg['sum']).astype('int32')"
   ]
  },
  {
   "cell_type": "code",
   "execution_count": 71,
   "metadata": {
    "execution": {
     "iopub.execute_input": "2021-01-05T22:25:29.907506Z",
     "iopub.status.busy": "2021-01-05T22:25:29.903866Z",
     "iopub.status.idle": "2021-01-05T22:25:29.914195Z",
     "shell.execute_reply": "2021-01-05T22:25:29.915130Z"
    },
    "papermill": {
     "duration": 0.130856,
     "end_time": "2021-01-05T22:25:29.915371",
     "exception": false,
     "start_time": "2021-01-05T22:25:29.784515",
     "status": "completed"
    },
    "tags": []
   },
   "outputs": [],
   "source": [
    "questions_df['content_elapsed_time_mean'] = questions_df['content_id'].map(content_elapsed_time_agg['mean'])\n",
    "questions_df.content_elapsed_time_mean=questions_df.content_elapsed_time_mean.astype('float16')\n",
    "questions_df['content_had_explanation_mean'] = questions_df['content_id'].map(content_had_explanation_agg['mean'])\n",
    "questions_df.content_had_explanation_mean=questions_df.content_had_explanation_mean.astype('float16')"
   ]
  },
  {
   "cell_type": "code",
   "execution_count": 72,
   "metadata": {
    "execution": {
     "iopub.execute_input": "2021-01-05T22:25:30.206096Z",
     "iopub.status.busy": "2021-01-05T22:25:30.205431Z",
     "iopub.status.idle": "2021-01-05T22:25:30.212063Z",
     "shell.execute_reply": "2021-01-05T22:25:30.212566Z"
    },
    "papermill": {
     "duration": 0.180525,
     "end_time": "2021-01-05T22:25:30.212703",
     "exception": false,
     "start_time": "2021-01-05T22:25:30.032178",
     "status": "completed"
    },
    "tags": []
   },
   "outputs": [
    {
     "data": {
      "text/plain": [
       "233"
      ]
     },
     "execution_count": 72,
     "metadata": {},
     "output_type": "execute_result"
    }
   ],
   "source": [
    "del content_elapsed_time_agg\n",
    "del content_had_explanation_agg\n",
    "gc.collect()"
   ]
  },
  {
   "cell_type": "code",
   "execution_count": 73,
   "metadata": {
    "execution": {
     "iopub.execute_input": "2021-01-05T22:25:30.385493Z",
     "iopub.status.busy": "2021-01-05T22:25:30.384813Z",
     "iopub.status.idle": "2021-01-05T22:25:30.399657Z",
     "shell.execute_reply": "2021-01-05T22:25:30.399123Z"
    },
    "papermill": {
     "duration": 0.104692,
     "end_time": "2021-01-05T22:25:30.399796",
     "exception": false,
     "start_time": "2021-01-05T22:25:30.295104",
     "status": "completed"
    },
    "tags": []
   },
   "outputs": [],
   "source": [
    "part_agg = questions_df.groupby('part')['content_correctness'].agg(['mean', 'var'])\n",
    "questions_df['part_correctness_mean'] = questions_df['part'].map(part_agg['mean'])\n",
    "questions_df['part_correctness_std'] = questions_df['part'].map(part_agg['var'])\n",
    "questions_df.part_correctness_mean=questions_df.part_correctness_mean.astype('float16')\n",
    "questions_df.part_correctness_std=questions_df.part_correctness_std.astype('float16')"
   ]
  },
  {
   "cell_type": "code",
   "execution_count": 74,
   "metadata": {
    "execution": {
     "iopub.execute_input": "2021-01-05T22:25:30.575715Z",
     "iopub.status.busy": "2021-01-05T22:25:30.575054Z",
     "iopub.status.idle": "2021-01-05T22:25:30.590692Z",
     "shell.execute_reply": "2021-01-05T22:25:30.589947Z"
    },
    "papermill": {
     "duration": 0.106739,
     "end_time": "2021-01-05T22:25:30.590839",
     "exception": false,
     "start_time": "2021-01-05T22:25:30.484100",
     "status": "completed"
    },
    "tags": []
   },
   "outputs": [],
   "source": [
    "part_agg = questions_df.groupby('part')['content_uncorrect_count'].agg(['sum'])\n",
    "questions_df['part_uncor_count'] = questions_df['part'].map(part_agg['sum']).astype('int32')\n",
    "#\n",
    "part_agg = questions_df.groupby('part')['content_correct_count'].agg(['sum'])\n",
    "questions_df['part_cor_count'] = questions_df['part'].map(part_agg['sum']).astype('int32')"
   ]
  },
  {
   "cell_type": "code",
   "execution_count": 75,
   "metadata": {
    "execution": {
     "iopub.execute_input": "2021-01-05T22:25:30.764702Z",
     "iopub.status.busy": "2021-01-05T22:25:30.764028Z",
     "iopub.status.idle": "2021-01-05T22:25:30.777016Z",
     "shell.execute_reply": "2021-01-05T22:25:30.776235Z"
    },
    "papermill": {
     "duration": 0.102511,
     "end_time": "2021-01-05T22:25:30.777138",
     "exception": false,
     "start_time": "2021-01-05T22:25:30.674627",
     "status": "completed"
    },
    "tags": []
   },
   "outputs": [],
   "source": [
    "bundle_agg = questions_df.groupby('bundle_id')['content_correctness'].agg(['mean'])\n",
    "questions_df['bundle_correctness_mean'] = questions_df['bundle_id'].map(bundle_agg['mean'])\n",
    "questions_df.bundle_correctness_mean=questions_df.bundle_correctness_mean.astype('float16')\n",
    "\n",
    "# bundle_agg = questions_df.groupby('bundle_id')['content_uncorrect_count'].agg(['sum'])\n",
    "# questions_df['bundle_uncor_count'] = questions_df['bundle_id'].map(bundle_agg['sum']).astype('int32')\n",
    "# #\n",
    "# bundle_agg = questions_df.groupby('bundle_id')['content_correct_count'].agg(['sum'])\n",
    "# questions_df['bundle_cor_count'] = questions_df['bundle_id'].map(bundle_agg['sum']).astype('int32')"
   ]
  },
  {
   "cell_type": "code",
   "execution_count": 76,
   "metadata": {
    "execution": {
     "iopub.execute_input": "2021-01-05T22:25:30.959169Z",
     "iopub.status.busy": "2021-01-05T22:25:30.958311Z",
     "iopub.status.idle": "2021-01-05T22:25:30.960491Z",
     "shell.execute_reply": "2021-01-05T22:25:30.961228Z"
    },
    "papermill": {
     "duration": 0.101675,
     "end_time": "2021-01-05T22:25:30.961410",
     "exception": false,
     "start_time": "2021-01-05T22:25:30.859735",
     "status": "completed"
    },
    "tags": []
   },
   "outputs": [],
   "source": [
    "#questions_df.loc[questions_df['content_sub_bundle'] !=0, 'content_sub_bundle']=1 #修改列\"content_sub_bundle\"的值，推荐使用.loc"
   ]
  },
  {
   "cell_type": "code",
   "execution_count": 77,
   "metadata": {
    "execution": {
     "iopub.execute_input": "2021-01-05T22:25:31.138486Z",
     "iopub.status.busy": "2021-01-05T22:25:31.137843Z",
     "iopub.status.idle": "2021-01-05T22:25:31.141742Z",
     "shell.execute_reply": "2021-01-05T22:25:31.142342Z"
    },
    "papermill": {
     "duration": 0.090334,
     "end_time": "2021-01-05T22:25:31.142480",
     "exception": false,
     "start_time": "2021-01-05T22:25:31.052146",
     "status": "completed"
    },
    "tags": []
   },
   "outputs": [],
   "source": [
    "# tags1_agg = questions_df.groupby('tags0')['content_correctness'].agg(['mean', 'var'])\n",
    "# questions_df['tags0_correctness_mean'] = questions_df['tags0'].map(tags1_agg['mean'])\n",
    "# questions_df.tags0_correctness_mean=questions_df.tags0_correctness_mean.astype('float16')\n",
    "\n",
    "# tags1_agg = questions_df.groupby('tags1')['content_correctness'].agg(['mean', 'var'])\n",
    "# questions_df['tags1_correctness_mean'] = questions_df['tags1'].map(tags1_agg['mean'])\n",
    "# questions_df.tags1_correctness_mean=questions_df.tags1_correctness_mean.astype('float16')\n",
    "\n",
    "# tags1_agg = questions_df.groupby('tags2')['content_correctness'].agg(['mean', 'var'])\n",
    "# questions_df['tags2_correctness_mean'] = questions_df['tags2'].map(tags1_agg['mean'])\n",
    "# questions_df.tags2_correctness_mean=questions_df.tags2_correctness_mean.astype('float16')\n",
    "\n",
    "# tags1_agg = questions_df.groupby('tags4')['content_correctness'].agg(['mean', 'var'])\n",
    "# questions_df['tags4_correctness_mean'] = questions_df['tags4'].map(tags1_agg['mean'])\n",
    "# questions_df.tags4_correctness_mean=questions_df.tags4_correctness_mean.astype('float16')\n",
    "\n",
    "# questions_df['tags1_correctness_std'] = questions_df['tags1'].map(tags1_agg['var'])\n",
    "\n",
    "# questions_df.tags1_correctness_std=questions_df.tags1_correctness_std.astype('float16')\n",
    "# tags1_agg = questions_df.groupby('tags1')['content_uncorrect_count'].agg(['sum'])\n",
    "# questions_df['tags1_uncor_count'] = questions_df['tags1'].map(tags1_agg['sum']).astype('int32')\n",
    "# #\n",
    "# tags1_agg = questions_df.groupby('tags1')['content_correct_count'].agg(['sum'])\n",
    "# questions_df['tags1_cor_count'] = questions_df['tags1'].map(tags1_agg['sum']).astype('int32')"
   ]
  },
  {
   "cell_type": "code",
   "execution_count": 78,
   "metadata": {
    "execution": {
     "iopub.execute_input": "2021-01-05T22:25:31.310712Z",
     "iopub.status.busy": "2021-01-05T22:25:31.310076Z",
     "iopub.status.idle": "2021-01-05T22:25:31.320033Z",
     "shell.execute_reply": "2021-01-05T22:25:31.319400Z"
    },
    "papermill": {
     "duration": 0.095147,
     "end_time": "2021-01-05T22:25:31.320183",
     "exception": false,
     "start_time": "2021-01-05T22:25:31.225036",
     "status": "completed"
    },
    "tags": []
   },
   "outputs": [
    {
     "data": {
      "text/plain": [
       "content_id                        int16\n",
       "bundle_id                         int16\n",
       "part                               int8\n",
       "tags_lsi                           int8\n",
       "content_sub_bundle                 int8\n",
       "tags0                              int8\n",
       "tags1                              int8\n",
       "tags2                              int8\n",
       "tags3                              int8\n",
       "tags4                              int8\n",
       "tags5                              int8\n",
       "part_bundle_id                    int32\n",
       "content_explation_false_mean    float16\n",
       "content_explation_true_mean     float16\n",
       "content_correctness             float16\n",
       "content_correctness_std         float16\n",
       "content_uncorrect_count           int32\n",
       "content_correct_count             int32\n",
       "content_elapsed_time_mean       float16\n",
       "content_had_explanation_mean    float16\n",
       "part_correctness_mean           float16\n",
       "part_correctness_std            float16\n",
       "part_uncor_count                  int32\n",
       "part_cor_count                    int32\n",
       "bundle_correctness_mean         float16\n",
       "dtype: object"
      ]
     },
     "execution_count": 78,
     "metadata": {},
     "output_type": "execute_result"
    }
   ],
   "source": [
    "questions_df.dtypes"
   ]
  },
  {
   "cell_type": "code",
   "execution_count": 79,
   "metadata": {
    "execution": {
     "iopub.execute_input": "2021-01-05T22:25:31.500385Z",
     "iopub.status.busy": "2021-01-05T22:25:31.499610Z",
     "iopub.status.idle": "2021-01-05T22:25:31.622196Z",
     "shell.execute_reply": "2021-01-05T22:25:31.621560Z"
    },
    "papermill": {
     "duration": 0.216603,
     "end_time": "2021-01-05T22:25:31.622341",
     "exception": false,
     "start_time": "2021-01-05T22:25:31.405738",
     "status": "completed"
    },
    "tags": []
   },
   "outputs": [
    {
     "data": {
      "text/plain": [
       "140"
      ]
     },
     "execution_count": 79,
     "metadata": {},
     "output_type": "execute_result"
    }
   ],
   "source": [
    "del content_agg\n",
    "del bundle_agg\n",
    "del part_agg\n",
    "#del tags1_agg\n",
    "gc.collect()"
   ]
  },
  {
   "cell_type": "code",
   "execution_count": 80,
   "metadata": {
    "execution": {
     "iopub.execute_input": "2021-01-05T22:25:31.803843Z",
     "iopub.status.busy": "2021-01-05T22:25:31.803004Z",
     "iopub.status.idle": "2021-01-05T22:25:31.807104Z",
     "shell.execute_reply": "2021-01-05T22:25:31.807570Z"
    },
    "papermill": {
     "duration": 0.098803,
     "end_time": "2021-01-05T22:25:31.807750",
     "exception": false,
     "start_time": "2021-01-05T22:25:31.708947",
     "status": "completed"
    },
    "tags": []
   },
   "outputs": [],
   "source": [
    "#pd.set_option(\"display.max_columns\",500)"
   ]
  },
  {
   "cell_type": "code",
   "execution_count": 81,
   "metadata": {
    "execution": {
     "iopub.execute_input": "2021-01-05T22:25:31.992816Z",
     "iopub.status.busy": "2021-01-05T22:25:31.991959Z",
     "iopub.status.idle": "2021-01-05T22:25:31.996332Z",
     "shell.execute_reply": "2021-01-05T22:25:31.995678Z"
    },
    "papermill": {
     "duration": 0.100359,
     "end_time": "2021-01-05T22:25:31.996470",
     "exception": false,
     "start_time": "2021-01-05T22:25:31.896111",
     "status": "completed"
    },
    "tags": []
   },
   "outputs": [],
   "source": [
    "#questions_df.drop(columns=['tags4','tags5','tags6'], inplace=True)"
   ]
  },
  {
   "cell_type": "code",
   "execution_count": 82,
   "metadata": {
    "execution": {
     "iopub.execute_input": "2021-01-05T22:25:32.181064Z",
     "iopub.status.busy": "2021-01-05T22:25:32.180060Z",
     "iopub.status.idle": "2021-01-05T22:25:32.185526Z",
     "shell.execute_reply": "2021-01-05T22:25:32.184822Z"
    },
    "papermill": {
     "duration": 0.09915,
     "end_time": "2021-01-05T22:25:32.185659",
     "exception": false,
     "start_time": "2021-01-05T22:25:32.086509",
     "status": "completed"
    },
    "tags": []
   },
   "outputs": [
    {
     "data": {
      "text/plain": [
       "99271300"
      ]
     },
     "execution_count": 82,
     "metadata": {},
     "output_type": "execute_result"
    }
   ],
   "source": [
    "len(train_df)"
   ]
  },
  {
   "cell_type": "code",
   "execution_count": 83,
   "metadata": {
    "execution": {
     "iopub.execute_input": "2021-01-05T22:25:32.371122Z",
     "iopub.status.busy": "2021-01-05T22:25:32.370275Z",
     "iopub.status.idle": "2021-01-05T22:25:32.373495Z",
     "shell.execute_reply": "2021-01-05T22:25:32.372834Z"
    },
    "papermill": {
     "duration": 0.09846,
     "end_time": "2021-01-05T22:25:32.373628",
     "exception": false,
     "start_time": "2021-01-05T22:25:32.275168",
     "status": "completed"
    },
    "tags": []
   },
   "outputs": [],
   "source": [
    "#train_df.drop(columns=['content_type_id'], inplace=True)"
   ]
  },
  {
   "cell_type": "markdown",
   "metadata": {
    "papermill": {
     "duration": 0.086934,
     "end_time": "2021-01-05T22:25:32.554139",
     "exception": false,
     "start_time": "2021-01-05T22:25:32.467205",
     "status": "completed"
    },
    "tags": []
   },
   "source": [
    "# Train"
   ]
  },
  {
   "cell_type": "code",
   "execution_count": 84,
   "metadata": {
    "execution": {
     "iopub.execute_input": "2021-01-05T22:25:32.743960Z",
     "iopub.status.busy": "2021-01-05T22:25:32.743192Z",
     "iopub.status.idle": "2021-01-05T22:25:32.745974Z",
     "shell.execute_reply": "2021-01-05T22:25:32.745290Z"
    },
    "papermill": {
     "duration": 0.104956,
     "end_time": "2021-01-05T22:25:32.746122",
     "exception": false,
     "start_time": "2021-01-05T22:25:32.641166",
     "status": "completed"
    },
    "tags": []
   },
   "outputs": [],
   "source": [
    "features_dict = {\n",
    "    #'user_id',\n",
    "    'timestamp':'float16',#\n",
    "    'user_interaction_count':'int16',\n",
    "    'user_interaction_timestamp_mean':'float32',\n",
    "    'lagtime':'float32',#\n",
    "    'lagtime2':'float32',\n",
    "    'lagtime3':'float32',\n",
    "    #'lagtime_mean':'int32',\n",
    "    'content_id':'int16',\n",
    "    'task_container_id':'int16',\n",
    "    'user_lecture_sum':'int16',#\n",
    "    'user_lecture_lv':'float16',##\n",
    "    'prior_question_elapsed_time':'float32',#\n",
    "    'delta_prior_question_elapsed_time':'int32',#\n",
    "    'user_correctness':'float16',#\n",
    "    'user_uncorrect_count':'int16',#\n",
    "    'user_correct_count':'int16',#\n",
    "    #'content_correctness':'float16',\n",
    "    'content_correctness_std':'float16',\n",
    "    'content_correct_count':'int32',\n",
    "    'content_uncorrect_count':'int32',#\n",
    "    'content_elapsed_time_mean':'float16',\n",
    "    'content_had_explanation_mean':'float16',\n",
    "    'content_explation_false_mean':'float16',\n",
    "    'content_explation_true_mean':'float16',\n",
    "    'task_container_correctness':'float16',\n",
    "    'task_container_std':'float16',\n",
    "    'task_container_cor_count':'int32',#\n",
    "    'task_container_uncor_count':'int32',#\n",
    "    'attempt_no':'int8',#\n",
    "    'part':'int8',\n",
    "    'part_correctness_mean':'float16',\n",
    "    'part_correctness_std':'float16',\n",
    "    'part_uncor_count':'int32',\n",
    "    'part_cor_count':'int32',\n",
    "    'tags0': 'int8',\n",
    "    'tags1': 'int8',\n",
    "    'tags2': 'int8',\n",
    "    'tags3': 'int8',\n",
    "    'tags4': 'int8',\n",
    "    'tags5': 'int8',\n",
    "   # 'tags6': 'int8',\n",
    "   # 'tags7': 'int8',\n",
    "   # 'tags_lsi': 'int8',\n",
    "#     'tags0_correctness_mean':'float16',\n",
    "#     'tags1_correctness_mean':'float16',\n",
    "#     'tags2_correctness_mean':'float16',\n",
    "#     'tags4_correctness_mean':'float16',\n",
    "#     'bundle_id':'int16',\n",
    "#     'bundle_correctness_mean':'float16',\n",
    "#     'bundle_uncor_count':'int32',\n",
    "#     'bundle_cor_count':'int32',\n",
    "    'part_bundle_id':'int32',\n",
    "    'content_sub_bundle':'int8',\n",
    "    'prior_question_had_explanation':'int8',\n",
    "    'explanation_mean':'float16', #\n",
    "    #'explanation_var',#\n",
    "    'explanation_false_count':'int16',#\n",
    "    'explanation_true_count':'int16',#\n",
    "   # 'community':'int8',\n",
    "#     'part_1',\n",
    "#     'part_2',\n",
    "#     'part_3',\n",
    "#     'part_4',\n",
    "#     'part_5',\n",
    "#     'part_6',\n",
    "#     'part_7',\n",
    "#     'type_of_concept',\n",
    "#     'type_of_intention',\n",
    "#     'type_of_solving_question',\n",
    "#     'type_of_starter'\n",
    "}\n",
    "categorical_columns= [\n",
    "    #'user_id',\n",
    "    'content_id',\n",
    "    'task_container_id',\n",
    "    'part',\n",
    "   # 'community',\n",
    "    'tags0',\n",
    "    'tags1',\n",
    "    'tags2',\n",
    "    'tags3',\n",
    "    'tags4',\n",
    "    'tags5',\n",
    "    #'tags6',\n",
    "    #'tags7',\n",
    "    # 'tags_lsi',\n",
    "    #'bundle_id',\n",
    "    'part_bundle_id',\n",
    "    'content_sub_bundle',\n",
    "    'prior_question_had_explanation', \n",
    "#     'part_1',\n",
    "#     'part_2',\n",
    "#     'part_3',\n",
    "#     'part_4',\n",
    "#     'part_5',\n",
    "#     'part_6',\n",
    "#     'part_7',\n",
    "#     'type_of_concept',\n",
    "#     'type_of_intention',\n",
    "#     'type_of_solving_question',\n",
    "#     'type_of_starter'\n",
    "]\n",
    "\n",
    "features=list(features_dict.keys())\n"
   ]
  },
  {
   "cell_type": "code",
   "execution_count": 85,
   "metadata": {
    "execution": {
     "iopub.execute_input": "2021-01-05T22:25:32.945677Z",
     "iopub.status.busy": "2021-01-05T22:25:32.944573Z",
     "iopub.status.idle": "2021-01-05T22:25:32.947224Z",
     "shell.execute_reply": "2021-01-05T22:25:32.947792Z"
    },
    "papermill": {
     "duration": 0.115144,
     "end_time": "2021-01-05T22:25:32.947947",
     "exception": false,
     "start_time": "2021-01-05T22:25:32.832803",
     "status": "completed"
    },
    "tags": []
   },
   "outputs": [],
   "source": [
    "flag_lgbm=True\n",
    "clfs = list()\n",
    "params = {\n",
    "'num_leaves': 200,\n",
    "'max_bin':450,\n",
    "# 'min_child_weight': 0.03454472573214212,\n",
    "'feature_fraction': 0.52,\n",
    "'bagging_fraction': 0.52,\n",
    "#'min_data_in_leaf': 106,\n",
    "# 'max_depth': -1,\n",
    "'objective': 'binary',\n",
    "'learning_rate': 0.05,\n",
    "\"boosting_type\": \"gbdt\",\n",
    "\"metric\": 'auc',\n",
    "# \"bagging_seed\": 11,\n",
    "# \"verbosity\": -1,\n",
    "# 'reg_alpha': 0.3899927210061127,\n",
    "# 'reg_lambda': 0.6485237330340494,\n",
    "# 'random_state': 47\n",
    "}\n",
    "trains=list()\n",
    "valids=list()\n",
    "\n",
    "num=NUM_LGBM_MODELS\n",
    "\n",
    "if TRAIN_LGBM:\n",
    "    for i in range(0,num): \n",
    "        # todo: train specific version:\n",
    "        i = HARDCODED_I\n",
    "    \n",
    "        #train_df=train_df.reset_index(drop=True)\n",
    "        #train_df_clf=train_df.sample(n=1200*10000)\n",
    "        #train_df_clf=train_df[1200*10000:2*1200*10000]\n",
    "        train_df_clf=train_df[(1200*10000)*i:(1200*10000)*(i+1)]\n",
    "        print('sample end')\n",
    "        #train_df.drop(train_df_clf.index, inplace=True)\n",
    "        #print('train_df drop end')    \n",
    "\n",
    "\n",
    "        users=train_df_clf['user_id'].drop_duplicates()#\n",
    "        #\n",
    "        users=users.sample(frac=0.08)\n",
    "        users_df=pd.DataFrame()\n",
    "        users_df['user_id']=users.values\n",
    "\n",
    "\n",
    "        valid_df_newuser = pd.merge(train_df_clf, users_df, on=['user_id'], how='inner',right_index=True)\n",
    "        del users_df\n",
    "        del users\n",
    "        gc.collect()\n",
    "        #\n",
    "        train_df_clf.drop(valid_df_newuser.index, inplace=True)\n",
    "        print('pd.merge(train_df_clf, questions_df)')\n",
    "        #-----------\n",
    "        #train_df_clf=train_df_clf.sample(frac=0.2)\n",
    "        #train_df_clf.drop(valid_df_newuser.index, inplace=True)\n",
    "        train_df_clf = pd.merge(train_df_clf, questions_df, on='content_id', how='left',right_index=True)#\n",
    "        valid_df_newuser = pd.merge(valid_df_newuser, questions_df, on='content_id', how='left',right_index=True)#\n",
    "\n",
    "    #     train_df_clf = pd.merge(train_df_clf, user_lecture_stats_part, on='user_id', how=\"left\",right_index=True)\n",
    "    #     valid_df_newuser = pd.merge(valid_df_newuser, user_lecture_stats_part, on='user_id', how=\"left\",right_index=True)\n",
    "        print('valid_df')\n",
    "        valid_df=train_df_clf.sample(frac=0.1)\n",
    "        train_df_clf.drop(valid_df.index, inplace=True)\n",
    "\n",
    "    #     test_df=train_df_clf.sample(n=100*10000)\n",
    "    #     train_df_clf.drop(test_df.index, inplace=True)\n",
    "\n",
    "        valid_df = valid_df.append(valid_df_newuser)\n",
    "        del valid_df_newuser\n",
    "        gc.collect()\n",
    "        #\n",
    "\n",
    "        trains.append(train_df_clf)\n",
    "        valids.append(valid_df)\n",
    "        print('train_df_clf length：',len(train_df_clf))\n",
    "        print('valid_df length：',len(valid_df))\n",
    "        #train_df=train_df.reset_index(drop=True)"
   ]
  },
  {
   "cell_type": "code",
   "execution_count": 86,
   "metadata": {
    "execution": {
     "iopub.execute_input": "2021-01-05T22:25:33.125336Z",
     "iopub.status.busy": "2021-01-05T22:25:33.124337Z",
     "iopub.status.idle": "2021-01-05T22:25:33.224278Z",
     "shell.execute_reply": "2021-01-05T22:25:33.224896Z"
    },
    "papermill": {
     "duration": 0.190462,
     "end_time": "2021-01-05T22:25:33.225041",
     "exception": false,
     "start_time": "2021-01-05T22:25:33.034579",
     "status": "completed"
    },
    "tags": []
   },
   "outputs": [
    {
     "data": {
      "text/plain": [
       "20"
      ]
     },
     "execution_count": 86,
     "metadata": {},
     "output_type": "execute_result"
    }
   ],
   "source": [
    "del train_df\n",
    "\n",
    "if TRAIN_LGBM:\n",
    "    del train_df_clf\n",
    "    del valid_df\n",
    "    \n",
    "gc.collect()"
   ]
  },
  {
   "cell_type": "code",
   "execution_count": 87,
   "metadata": {
    "execution": {
     "iopub.execute_input": "2021-01-05T22:25:33.399907Z",
     "iopub.status.busy": "2021-01-05T22:25:33.398886Z",
     "iopub.status.idle": "2021-01-05T22:26:15.170440Z",
     "shell.execute_reply": "2021-01-05T22:26:15.169071Z"
    },
    "papermill": {
     "duration": 41.860322,
     "end_time": "2021-01-05T22:26:15.170582",
     "exception": false,
     "start_time": "2021-01-05T22:25:33.310260",
     "status": "completed"
    },
    "tags": []
   },
   "outputs": [],
   "source": [
    "for i in range(0,num):\n",
    "    \n",
    "    if TRAIN_LGBM:\n",
    "        # todo: train specific version:\n",
    "        i = 0\n",
    "\n",
    "    #     tr_data = lgb.Dataset(trains[i][features], label=trains[i][target])\n",
    "    #     va_data = lgb.Dataset(valids[i][features], label=valids[i][target])\n",
    "\n",
    "        #Don't use DF to create lightgbm dataset, rather use np array:\n",
    "        X_train_np = trains[i][features].values.astype(np.float32)\n",
    "        X_valid_np = valids[i][features].values.astype(np.float32)\n",
    "        #features = train.columns\n",
    "        tr_data = lgb.Dataset(X_train_np, label=trains[i][target], feature_name=list(features))\n",
    "        va_data = lgb.Dataset(X_valid_np, label=valids[i][target], feature_name=list(features))\n",
    "\n",
    "\n",
    "    #     del train_df_clf\n",
    "    #     del valid_df\n",
    "    #     gc.collect()\n",
    "        del trains\n",
    "        del valids\n",
    "        del X_train_np\n",
    "        del X_valid_np\n",
    "        gc.collect()\n",
    "\n",
    "\n",
    "        model = lgb.train(\n",
    "            params, \n",
    "            tr_data,\n",
    "    #         train_df[features],\n",
    "    #         train_df[target],\n",
    "            num_boost_round=5000,\n",
    "            #valid_sets=[(train_df[features],train_df[target]), (valid_df[features],valid_df[target])], \n",
    "            valid_sets=[tr_data, va_data],\n",
    "            early_stopping_rounds=50,\n",
    "            feature_name=features,\n",
    "            categorical_feature=categorical_columns,\n",
    "            verbose_eval=50\n",
    "        )\n",
    "        model.save_model(f'model_{HARDCODED_I}.txt')\n",
    "\n",
    "        clfs.append(model)\n",
    "        #print('test-auc:', roc_auc_score(test_df[target], model.predict(test_df[features])))\n",
    "\n",
    "        if True:\n",
    "            fig,ax = plt.subplots(figsize=(15,15))\n",
    "            lgb.plot_importance(model, ax=ax,importance_type='gain',max_num_features=50)\n",
    "            plt.show()\n",
    "\n",
    "        del tr_data\n",
    "        del va_data\n",
    "        gc.collect()\n",
    "        \n",
    "    else:\n",
    "        model = lgb.Booster(model_file=f'../input/lgbm-trained-models/model_{i}.txt')\n",
    "        clfs.append(model)\n",
    "\n",
    "\n",
    "# del trains\n",
    "# del valids\n",
    "# gc.collect()\n",
    "# del test_df\n",
    "# gc.collect()"
   ]
  },
  {
   "cell_type": "code",
   "execution_count": 88,
   "metadata": {
    "execution": {
     "iopub.execute_input": "2021-01-05T22:26:15.347099Z",
     "iopub.status.busy": "2021-01-05T22:26:15.346294Z",
     "iopub.status.idle": "2021-01-05T22:26:38.067327Z",
     "shell.execute_reply": "2021-01-05T22:26:38.067884Z"
    },
    "papermill": {
     "duration": 22.81112,
     "end_time": "2021-01-05T22:26:38.068083",
     "exception": false,
     "start_time": "2021-01-05T22:26:15.256963",
     "status": "completed"
    },
    "tags": []
   },
   "outputs": [],
   "source": [
    "import torch\n",
    "import torch.nn as nn\n",
    "from torch.utils.data import Dataset, DataLoader\n",
    "\n",
    "SAKT_OPTION = 2\n",
    "\n",
    "if SAKT_OPTION == 1:\n",
    "\n",
    "    MAX_SEQ = 100\n",
    "\n",
    "    class FFN(nn.Module):\n",
    "        def __init__(self, state_size=200):\n",
    "            super(FFN, self).__init__()\n",
    "            self.state_size = state_size\n",
    "\n",
    "            self.lr1 = nn.Linear(state_size, state_size)\n",
    "            self.relu = nn.ReLU()\n",
    "            self.lr2 = nn.Linear(state_size, state_size)\n",
    "            self.dropout = nn.Dropout(0.2)\n",
    "\n",
    "        def forward(self, x):\n",
    "            x = self.lr1(x)\n",
    "            x = self.relu(x)\n",
    "            x = self.lr2(x)\n",
    "            return self.dropout(x)\n",
    "\n",
    "    def future_mask(seq_length):\n",
    "        future_mask = np.triu(np.ones((seq_length, seq_length)), k=1).astype('bool')\n",
    "        return torch.from_numpy(future_mask)\n",
    "\n",
    "\n",
    "    class SAKTModel(nn.Module):\n",
    "        def __init__(self, n_skill, max_seq=MAX_SEQ, embed_dim=128):\n",
    "            super(SAKTModel, self).__init__()\n",
    "            self.n_skill = n_skill\n",
    "            self.embed_dim = embed_dim\n",
    "\n",
    "            self.embedding = nn.Embedding(2*n_skill+1, embed_dim)\n",
    "            self.pos_embedding = nn.Embedding(max_seq-1, embed_dim)\n",
    "            self.e_embedding = nn.Embedding(n_skill+1, embed_dim)\n",
    "\n",
    "            self.multi_att = nn.MultiheadAttention(embed_dim=embed_dim, num_heads=8, dropout=0.2)\n",
    "\n",
    "            self.dropout = nn.Dropout(0.2)\n",
    "            self.layer_normal = nn.LayerNorm(embed_dim) \n",
    "\n",
    "            self.ffn = FFN(embed_dim)\n",
    "            self.pred = nn.Linear(embed_dim, 1)\n",
    "\n",
    "        def forward(self, x, question_ids):\n",
    "            device = x.device        \n",
    "            x = self.embedding(x)\n",
    "            pos_id = torch.arange(x.size(1)).unsqueeze(0).to(device)\n",
    "\n",
    "            pos_x = self.pos_embedding(pos_id)\n",
    "            x = x + pos_x\n",
    "\n",
    "            e = self.e_embedding(question_ids)\n",
    "\n",
    "            x = x.permute(1, 0, 2) # x: [bs, s_len, embed] => [s_len, bs, embed]\n",
    "            e = e.permute(1, 0, 2)\n",
    "            att_mask = future_mask(x.size(0)).to(device)\n",
    "            att_output, att_weight = self.multi_att(e, x, x, attn_mask=att_mask)\n",
    "            att_output = self.layer_normal(att_output + e)\n",
    "            att_output = att_output.permute(1, 0, 2) # att_output: [s_len, bs, embed] => [bs, s_len, embed]\n",
    "\n",
    "            x = self.ffn(att_output)\n",
    "            x = self.layer_normal(x + att_output)\n",
    "            x = self.pred(x)\n",
    "\n",
    "            return x.squeeze(-1), att_weight\n",
    "\n",
    "\n",
    "    skills = joblib.load(\"/kaggle/input/riiid-sakt-model-dataset-public/skills.pkl.zip\")\n",
    "    n_skill = len(skills)\n",
    "    group = joblib.load(\"/kaggle/input/riiid-sakt-model-dataset-public/group.pkl.zip\")\n",
    "\n",
    "\n",
    "    device = torch.device(\"cuda\" if torch.cuda.is_available() else \"cpu\")\n",
    "\n",
    "    nn_model = SAKTModel(n_skill, embed_dim=128)\n",
    "    try:\n",
    "        nn_model.load_state_dict(torch.load(\"/kaggle/input/riiid-sakt-model-dataset-public/sakt_model.pt\"))\n",
    "    except:\n",
    "        nn_model.load_state_dict(torch.load(\"/kaggle/input/riiid-sakt-model-dataset-public/sakt_model.pt\", map_location='cpu'))\n",
    "    nn_model.to(device)\n",
    "    nn_model.eval()\n",
    "\n",
    "else:\n",
    "    \n",
    "    MAX_SEQ = 200\n",
    "    ACCEPTED_USER_CONTENT_SIZE = 6\n",
    "    EMBED_SIZE = 160\n",
    "    BATCH_SIZE = 64\n",
    "    DROPOUT = 0.1\n",
    "    \n",
    "    class FFN(nn.Module):\n",
    "        def __init__(self, state_size = 200, forward_expansion = 1, bn_size=MAX_SEQ - 1, dropout=0.2):\n",
    "            super(FFN, self).__init__()\n",
    "            self.state_size = state_size\n",
    "\n",
    "            self.lr1 = nn.Linear(state_size, forward_expansion * state_size)\n",
    "            self.relu = nn.ReLU()\n",
    "            self.bn = nn.BatchNorm1d(bn_size)\n",
    "            self.lr2 = nn.Linear(forward_expansion * state_size, state_size)\n",
    "            self.dropout = nn.Dropout(dropout)\n",
    "        \n",
    "        def forward(self, x):\n",
    "            x = self.relu(self.lr1(x))\n",
    "            x = self.bn(x)\n",
    "            x = self.lr2(x)\n",
    "            return self.dropout(x)\n",
    "    \n",
    "    def future_mask(seq_length):\n",
    "        future_mask = (np.triu(np.ones([seq_length, seq_length]), k = 1)).astype('bool')\n",
    "        return torch.from_numpy(future_mask)\n",
    "    \n",
    "    class TransformerBlock(nn.Module):\n",
    "        def __init__(self, embed_dim, heads = 8, dropout = DROPOUT, forward_expansion = 1):\n",
    "            super(TransformerBlock, self).__init__()\n",
    "            self.multi_att = nn.MultiheadAttention(embed_dim=embed_dim, num_heads=heads, dropout=dropout)\n",
    "            self.dropout = nn.Dropout(dropout)\n",
    "            self.layer_normal = nn.LayerNorm(embed_dim)\n",
    "            self.ffn = FFN(embed_dim, forward_expansion = forward_expansion, dropout=dropout)\n",
    "            self.layer_normal_2 = nn.LayerNorm(embed_dim)\n",
    "\n",
    "\n",
    "        def forward(self, value, key, query, att_mask):\n",
    "            att_output, att_weight = self.multi_att(value, key, query, attn_mask=att_mask)\n",
    "            att_output = self.dropout(self.layer_normal(att_output + value))\n",
    "            att_output = att_output.permute(1, 0, 2) # att_output: [s_len, bs, embed] => [bs, s_len, embed]\n",
    "            x = self.ffn(att_output)\n",
    "            x = self.dropout(self.layer_normal_2(x + att_output))\n",
    "            return x.squeeze(-1), att_weight\n",
    "\n",
    "    class Encoder(nn.Module):\n",
    "        def __init__(self, n_skill, max_seq=100, embed_dim=128, dropout = DROPOUT, forward_expansion = 1, num_layers=1, heads = 8):\n",
    "            super(Encoder, self).__init__()\n",
    "            self.n_skill, self.embed_dim = n_skill, embed_dim\n",
    "            self.embedding = nn.Embedding(2 * n_skill + 1, embed_dim)\n",
    "            self.pos_embedding = nn.Embedding(max_seq - 1, embed_dim)\n",
    "            self.e_embedding = nn.Embedding(n_skill+1, embed_dim)\n",
    "            self.layers = nn.ModuleList([TransformerBlock(embed_dim, forward_expansion = forward_expansion) for _ in range(num_layers)])\n",
    "            self.dropout = nn.Dropout(dropout)\n",
    "\n",
    "        def forward(self, x, question_ids):\n",
    "            device = x.device\n",
    "            x = self.embedding(x)\n",
    "            pos_id = torch.arange(x.size(1)).unsqueeze(0).to(device)\n",
    "            pos_x = self.pos_embedding(pos_id)\n",
    "            x = self.dropout(x + pos_x)\n",
    "            x = x.permute(1, 0, 2) # x: [bs, s_len, embed] => [s_len, bs, embed]\n",
    "            e = self.e_embedding(question_ids)\n",
    "            e = e.permute(1, 0, 2)\n",
    "            for layer in self.layers:\n",
    "                att_mask = future_mask(e.size(0)).to(device)\n",
    "                x, att_weight = layer(e, x, x, att_mask=att_mask)\n",
    "                x = x.permute(1, 0, 2)\n",
    "            x = x.permute(1, 0, 2)\n",
    "            return x, att_weight\n",
    "\n",
    "    class SAKTModel(nn.Module):\n",
    "        def __init__(self, n_skill, max_seq=100, embed_dim=128, dropout = DROPOUT, forward_expansion = 1, enc_layers=1, heads = 8):\n",
    "            super(SAKTModel, self).__init__()\n",
    "            self.encoder = Encoder(n_skill, max_seq, embed_dim, dropout, forward_expansion, num_layers=enc_layers)\n",
    "            self.pred = nn.Linear(embed_dim, 1)\n",
    "\n",
    "        def forward(self, x, question_ids):\n",
    "            x, att_weight = self.encoder(x, question_ids)\n",
    "            x = self.pred(x)\n",
    "            return x.squeeze(-1), att_weight\n",
    "    \n",
    "    def create_model():\n",
    "        return SAKTModel(n_skill, max_seq=MAX_SEQ, embed_dim=EMBED_SIZE,\n",
    "                         forward_expansion=1, enc_layers=1, heads=8, dropout=0.1)\n",
    "    \n",
    "\n",
    "    skills = joblib.load(\"/kaggle/input/riiid-sakt-model-dataset-public/skills.pkl.zip\")\n",
    "    n_skill = len(skills)\n",
    "    group = joblib.load(\"/kaggle/input/riiid-sakt-model-dataset-public/group.pkl.zip\")\n",
    "\n",
    "    device = torch.device(\"cuda\" if torch.cuda.is_available() else \"cpu\")\n",
    "\n",
    "    nn_model = create_model()\n",
    "    \n",
    "    try:\n",
    "        nn_model.load_state_dict(torch.load('../input/saktmodel770/sakt 0770.pth'))\n",
    "    except:\n",
    "        nn_model.load_state_dict(torch.load('../input/saktmodel770/sakt 0770.pth', map_location='cpu'))\n",
    "        \n",
    "    nn_model.to(device)\n",
    "    nn_model.eval()\n",
    "\n"
   ]
  },
  {
   "cell_type": "markdown",
   "metadata": {
    "papermill": {
     "duration": 0.088862,
     "end_time": "2021-01-05T22:26:38.251600",
     "exception": false,
     "start_time": "2021-01-05T22:26:38.162738",
     "status": "completed"
    },
    "tags": []
   },
   "source": [
    "# Inference"
   ]
  },
  {
   "cell_type": "code",
   "execution_count": 89,
   "metadata": {
    "execution": {
     "iopub.execute_input": "2021-01-05T22:26:38.452171Z",
     "iopub.status.busy": "2021-01-05T22:26:38.451003Z",
     "iopub.status.idle": "2021-01-05T22:26:38.458813Z",
     "shell.execute_reply": "2021-01-05T22:26:38.459306Z"
    },
    "papermill": {
     "duration": 0.117172,
     "end_time": "2021-01-05T22:26:38.459491",
     "exception": false,
     "start_time": "2021-01-05T22:26:38.342319",
     "status": "completed"
    },
    "tags": []
   },
   "outputs": [],
   "source": [
    "class TestDataset(Dataset):\n",
    "    def __init__(self, samples, test_df, skills, max_seq=MAX_SEQ): \n",
    "        super(TestDataset, self).__init__()\n",
    "        self.samples = samples\n",
    "        self.user_ids = [x for x in test_df[\"user_id\"].unique()]\n",
    "        self.test_df = test_df\n",
    "        self.skills = skills\n",
    "        self.n_skill = len(skills)\n",
    "        self.max_seq = max_seq\n",
    "\n",
    "    def __len__(self):\n",
    "        return self.test_df.shape[0]\n",
    "\n",
    "    def __getitem__(self, index):\n",
    "        test_info = self.test_df.iloc[index]\n",
    "\n",
    "        user_id = test_info[\"user_id\"]\n",
    "        target_id = test_info[\"content_id\"]\n",
    "\n",
    "        q = np.zeros(self.max_seq, dtype=int)\n",
    "        qa = np.zeros(self.max_seq, dtype=int)\n",
    "\n",
    "        if user_id in self.samples.index:\n",
    "            q_, qa_ = self.samples[user_id]\n",
    "            \n",
    "            seq_len = len(q_)\n",
    "\n",
    "            if seq_len >= self.max_seq:\n",
    "                q = q_[-self.max_seq:]\n",
    "                qa = qa_[-self.max_seq:]\n",
    "            else:\n",
    "                q[-seq_len:] = q_\n",
    "                qa[-seq_len:] = qa_          \n",
    "        \n",
    "        x = np.zeros(self.max_seq-1, dtype=int)\n",
    "        x = q[1:].copy()\n",
    "        x += (qa[1:] == 1) * self.n_skill\n",
    "        \n",
    "        questions = np.append(q[2:], [target_id])\n",
    "        \n",
    "        return x, questions"
   ]
  },
  {
   "cell_type": "code",
   "execution_count": 90,
   "metadata": {
    "execution": {
     "iopub.execute_input": "2021-01-05T22:26:38.933215Z",
     "iopub.status.busy": "2021-01-05T22:26:38.931901Z",
     "iopub.status.idle": "2021-01-05T22:26:39.181423Z",
     "shell.execute_reply": "2021-01-05T22:26:39.182069Z"
    },
    "papermill": {
     "duration": 0.630178,
     "end_time": "2021-01-05T22:26:39.182267",
     "exception": false,
     "start_time": "2021-01-05T22:26:38.552089",
     "status": "completed"
    },
    "tags": []
   },
   "outputs": [],
   "source": [
    "user_sum_dict = user_agg['sum'].astype('int16').to_dict(defaultdict(int))\n",
    "user_count_dict = user_agg['count'].astype('int16').to_dict(defaultdict(int))\n",
    "# user_sum_dict2 = user_agg2['sum'].astype('int16').to_dict(defaultdict(int))\n",
    "# user_count_dict2 = user_agg2['count'].astype('int16').to_dict(defaultdict(int))"
   ]
  },
  {
   "cell_type": "code",
   "execution_count": 91,
   "metadata": {
    "execution": {
     "iopub.execute_input": "2021-01-05T22:26:39.368086Z",
     "iopub.status.busy": "2021-01-05T22:26:39.367359Z",
     "iopub.status.idle": "2021-01-05T22:26:40.089556Z",
     "shell.execute_reply": "2021-01-05T22:26:40.088994Z"
    },
    "papermill": {
     "duration": 0.814242,
     "end_time": "2021-01-05T22:26:40.089696",
     "exception": false,
     "start_time": "2021-01-05T22:26:39.275454",
     "status": "completed"
    },
    "tags": []
   },
   "outputs": [
    {
     "data": {
      "text/plain": [
       "0"
      ]
     },
     "execution_count": 91,
     "metadata": {},
     "output_type": "execute_result"
    }
   ],
   "source": [
    "#user_var_dict = user_agg['var'].astype('float16').to_dict(defaultdict(int))\n",
    "\n",
    "# content_sum_dict = content_agg['sum'].astype('int32').to_dict(defaultdict(int))\n",
    "# content_count_dict = content_agg['count'].astype('int32').to_dict(defaultdict(int))\n",
    "\n",
    "del user_agg\n",
    "#del user_agg2\n",
    "#del content_agg\n",
    "gc.collect()\n",
    "\n",
    "task_container_sum_dict = task_container_agg['sum'].astype('int32').to_dict(defaultdict(int))\n",
    "task_container_count_dict = task_container_agg['count'].astype('int32').to_dict(defaultdict(int))\n",
    "task_container_std_dict = task_container_agg['var'].astype('float16').to_dict(defaultdict(int))\n",
    "\n",
    "explanation_sum_dict = explanation_agg['sum'].astype('int16').to_dict(defaultdict(int))\n",
    "explanation_count_dict = explanation_agg['count'].astype('int16').to_dict(defaultdict(int))\n",
    "#explanation_var_dict = explanation_agg['var'].astype('float16').to_dict(defaultdict(int))\n",
    "del task_container_agg\n",
    "del explanation_agg\n",
    "gc.collect()"
   ]
  },
  {
   "cell_type": "code",
   "execution_count": 92,
   "metadata": {
    "execution": {
     "iopub.execute_input": "2021-01-05T22:26:40.275497Z",
     "iopub.status.busy": "2021-01-05T22:26:40.274736Z",
     "iopub.status.idle": "2021-01-05T22:26:40.278596Z",
     "shell.execute_reply": "2021-01-05T22:26:40.277851Z"
    },
    "papermill": {
     "duration": 0.09721,
     "end_time": "2021-01-05T22:26:40.278742",
     "exception": false,
     "start_time": "2021-01-05T22:26:40.181532",
     "status": "completed"
    },
    "tags": []
   },
   "outputs": [],
   "source": [
    "#task_container_std_dict"
   ]
  },
  {
   "cell_type": "code",
   "execution_count": 93,
   "metadata": {
    "execution": {
     "iopub.execute_input": "2021-01-05T22:26:40.464870Z",
     "iopub.status.busy": "2021-01-05T22:26:40.463840Z",
     "iopub.status.idle": "2021-01-05T22:26:41.069872Z",
     "shell.execute_reply": "2021-01-05T22:26:41.069223Z"
    },
    "papermill": {
     "duration": 0.70238,
     "end_time": "2021-01-05T22:26:41.070056",
     "exception": false,
     "start_time": "2021-01-05T22:26:40.367676",
     "status": "completed"
    },
    "tags": []
   },
   "outputs": [
    {
     "data": {
      "text/plain": [
       "40"
      ]
     },
     "execution_count": 93,
     "metadata": {},
     "output_type": "execute_result"
    }
   ],
   "source": [
    "user_lecture_sum_dict = user_lecture_agg['sum'].astype('int16').to_dict(defaultdict(int))\n",
    "user_lecture_count_dict = user_lecture_agg['count'].astype('int16').to_dict(defaultdict(int))\n",
    "\n",
    "#lagtime_mean_dict = lagtime_agg['mean'].astype('int32').to_dict(defaultdict(int))\n",
    "#del prior_question_elapsed_time_agg\n",
    "del user_lecture_agg\n",
    "#del lagtime_agg\n",
    "gc.collect()"
   ]
  },
  {
   "cell_type": "code",
   "execution_count": 94,
   "metadata": {
    "execution": {
     "iopub.execute_input": "2021-01-05T22:26:41.267698Z",
     "iopub.status.busy": "2021-01-05T22:26:41.266624Z",
     "iopub.status.idle": "2021-01-05T22:26:42.461168Z",
     "shell.execute_reply": "2021-01-05T22:26:42.461713Z"
    },
    "papermill": {
     "duration": 1.294474,
     "end_time": "2021-01-05T22:26:42.461933",
     "exception": false,
     "start_time": "2021-01-05T22:26:41.167459",
     "status": "completed"
    },
    "tags": []
   },
   "outputs": [
    {
     "data": {
      "text/plain": [
       "20"
      ]
     },
     "execution_count": 94,
     "metadata": {},
     "output_type": "execute_result"
    }
   ],
   "source": [
    "max_timestamp_u_dict=max_timestamp_u.set_index('user_id').to_dict()\n",
    "max_timestamp_u_dict2=max_timestamp_u2.set_index('user_id').to_dict()\n",
    "max_timestamp_u_dict3=max_timestamp_u3.set_index('user_id').to_dict()\n",
    "user_prior_question_elapsed_time_dict=user_prior_question_elapsed_time.set_index('user_id').to_dict()\n",
    "#del question_elapsed_time_agg\n",
    "del max_timestamp_u\n",
    "del max_timestamp_u2\n",
    "del max_timestamp_u3\n",
    "del user_prior_question_elapsed_time\n",
    "gc.collect()"
   ]
  },
  {
   "cell_type": "code",
   "execution_count": 95,
   "metadata": {
    "execution": {
     "iopub.execute_input": "2021-01-05T22:26:42.659098Z",
     "iopub.status.busy": "2021-01-05T22:26:42.658404Z",
     "iopub.status.idle": "2021-01-05T22:27:03.269989Z",
     "shell.execute_reply": "2021-01-05T22:27:03.269281Z"
    },
    "papermill": {
     "duration": 20.710059,
     "end_time": "2021-01-05T22:27:03.270119",
     "exception": false,
     "start_time": "2021-01-05T22:26:42.560060",
     "status": "completed"
    },
    "tags": []
   },
   "outputs": [
    {
     "data": {
      "text/plain": [
       "0"
      ]
     },
     "execution_count": 95,
     "metadata": {},
     "output_type": "execute_result"
    }
   ],
   "source": [
    "attempt_no_sum_dict = attempt_no_agg['sum'].to_dict(defaultdict(int))\n",
    "\n",
    "del attempt_no_agg\n",
    "gc.collect()"
   ]
  },
  {
   "cell_type": "code",
   "execution_count": 96,
   "metadata": {
    "execution": {
     "iopub.execute_input": "2021-01-05T22:27:03.454194Z",
     "iopub.status.busy": "2021-01-05T22:27:03.453520Z",
     "iopub.status.idle": "2021-01-05T22:27:03.456045Z",
     "shell.execute_reply": "2021-01-05T22:27:03.456516Z"
    },
    "papermill": {
     "duration": 0.098409,
     "end_time": "2021-01-05T22:27:03.456677",
     "exception": false,
     "start_time": "2021-01-05T22:27:03.358268",
     "status": "completed"
    },
    "tags": []
   },
   "outputs": [],
   "source": [
    "def get_max_attempt(user_id,content_id):\n",
    "    k = (user_id,content_id)\n",
    "\n",
    "    if k in attempt_no_sum_dict.keys():\n",
    "        attempt_no_sum_dict[k]+=1\n",
    "        return attempt_no_sum_dict[k]\n",
    "\n",
    "    attempt_no_sum_dict[k] = 1\n",
    "    return attempt_no_sum_dict[k]"
   ]
  },
  {
   "cell_type": "code",
   "execution_count": 97,
   "metadata": {
    "execution": {
     "iopub.execute_input": "2021-01-05T22:27:03.641457Z",
     "iopub.status.busy": "2021-01-05T22:27:03.640733Z",
     "iopub.status.idle": "2021-01-05T22:27:03.644302Z",
     "shell.execute_reply": "2021-01-05T22:27:03.644758Z"
    },
    "papermill": {
     "duration": 0.098868,
     "end_time": "2021-01-05T22:27:03.644937",
     "exception": false,
     "start_time": "2021-01-05T22:27:03.546069",
     "status": "completed"
    },
    "tags": []
   },
   "outputs": [],
   "source": [
    "# def get_max_attempt(user_id,content_id):\n",
    "#     global  attempt_no_agg\n",
    "#     #k = (user_id,content_id)\n",
    "#     if(len(attempt_no_agg[(attempt_no_agg['user_id']==user_id) & (attempt_no_agg['content_id'] ==content_id)])==1):\n",
    "#     #if k in attempt_no_sum_dict.keys():\n",
    "#         x= attempt_no_agg.loc[(attempt_no_agg['user_id']==user_id) & (attempt_no_agg['content_id'] ==content_id),'sum'].values \n",
    "#         attempt_no_agg.loc[(attempt_no_agg['user_id']==user_id) & (attempt_no_agg['content_id'] ==content_id),'sum']=x+1\n",
    "#         return x+1\n",
    "    \n",
    "#     attempt_no_agg = attempt_no_agg.append([{'user_id':user_id,'content_id':content_id,'sum':1}], ignore_index=True)\n",
    "#     return 1"
   ]
  },
  {
   "cell_type": "code",
   "execution_count": 98,
   "metadata": {
    "execution": {
     "iopub.execute_input": "2021-01-05T22:27:03.835737Z",
     "iopub.status.busy": "2021-01-05T22:27:03.834737Z",
     "iopub.status.idle": "2021-01-05T22:27:03.839710Z",
     "shell.execute_reply": "2021-01-05T22:27:03.839163Z"
    },
    "papermill": {
     "duration": 0.10653,
     "end_time": "2021-01-05T22:27:03.839840",
     "exception": false,
     "start_time": "2021-01-05T22:27:03.733310",
     "status": "completed"
    },
    "tags": []
   },
   "outputs": [],
   "source": [
    "# model = lgb.Booster(model_file='../input/riiid-lgbm-starter/model.txt')\n",
    "env = riiideducation.make_env()"
   ]
  },
  {
   "cell_type": "code",
   "execution_count": 99,
   "metadata": {
    "execution": {
     "iopub.execute_input": "2021-01-05T22:27:04.025647Z",
     "iopub.status.busy": "2021-01-05T22:27:04.024994Z",
     "iopub.status.idle": "2021-01-05T22:27:04.028923Z",
     "shell.execute_reply": "2021-01-05T22:27:04.028241Z"
    },
    "papermill": {
     "duration": 0.100017,
     "end_time": "2021-01-05T22:27:04.029042",
     "exception": false,
     "start_time": "2021-01-05T22:27:03.929025",
     "status": "completed"
    },
    "tags": []
   },
   "outputs": [],
   "source": [
    "iter_test = env.iter_test()\n",
    "prior_test_df = None\n",
    "prev_test_df1 = None"
   ]
  },
  {
   "cell_type": "code",
   "execution_count": 100,
   "metadata": {
    "execution": {
     "iopub.execute_input": "2021-01-05T22:27:04.211833Z",
     "iopub.status.busy": "2021-01-05T22:27:04.211109Z",
     "iopub.status.idle": "2021-01-05T22:27:04.214690Z",
     "shell.execute_reply": "2021-01-05T22:27:04.214187Z"
    },
    "papermill": {
     "duration": 0.097564,
     "end_time": "2021-01-05T22:27:04.214843",
     "exception": false,
     "start_time": "2021-01-05T22:27:04.117279",
     "status": "completed"
    },
    "tags": []
   },
   "outputs": [],
   "source": [
    "N=[0.4,0.6]"
   ]
  },
  {
   "cell_type": "code",
   "execution_count": 101,
   "metadata": {
    "execution": {
     "iopub.execute_input": "2021-01-05T22:27:04.428197Z",
     "iopub.status.busy": "2021-01-05T22:27:04.405549Z",
     "iopub.status.idle": "2021-01-05T22:27:06.084613Z",
     "shell.execute_reply": "2021-01-05T22:27:06.083569Z"
    },
    "papermill": {
     "duration": 1.780142,
     "end_time": "2021-01-05T22:27:06.084814",
     "exception": false,
     "start_time": "2021-01-05T22:27:04.304672",
     "status": "completed"
    },
    "tags": []
   },
   "outputs": [
    {
     "name": "stdout",
     "output_type": "stream",
     "text": [
      "CPU times: user 1.99 s, sys: 195 ms, total: 2.19 s\n",
      "Wall time: 1.64 s\n"
     ]
    }
   ],
   "source": [
    "%%time\n",
    "\n",
    "for (test_df, sample_prediction_df) in iter_test:\n",
    "    test_df1=test_df.copy()\n",
    "    if (prev_test_df1 is not None):\n",
    "        prev_test_df1['answered_correctly'] = eval(test_df1['prior_group_answers_correct'].iloc[0])\n",
    "        prev_test_df1 = prev_test_df1[prev_test_df1.content_type_id == False]\n",
    "        \n",
    "        prev_group = prev_test_df1[['user_id', 'content_id', 'answered_correctly']].groupby('user_id').apply(lambda r: (\n",
    "            r['content_id'].values,\n",
    "            r['answered_correctly'].values))\n",
    "        for prev_user_id in prev_group.index:\n",
    "            if prev_user_id in group.index:\n",
    "                group[prev_user_id] = (\n",
    "                    np.append(group[prev_user_id][0], prev_group[prev_user_id][0])[-MAX_SEQ:], \n",
    "                    np.append(group[prev_user_id][1], prev_group[prev_user_id][1])[-MAX_SEQ:]\n",
    "                )\n",
    " \n",
    "            else:\n",
    "                group[prev_user_id] = (\n",
    "                    prev_group[prev_user_id][0], \n",
    "                    prev_group[prev_user_id][1]\n",
    "                )\n",
    "\n",
    "    prev_test_df1 = test_df1.copy()\n",
    "    \n",
    "    test_df1 = test_df1[test_df1.content_type_id == False]\n",
    "    test_dataset = TestDataset(group, test_df1, skills)\n",
    "    test_dataloader = DataLoader(test_dataset, batch_size=51200, shuffle=False)\n",
    "    \n",
    "    outs = []\n",
    "\n",
    "    for item in test_dataloader:\n",
    "        x = item[0].to(device).long()\n",
    "        target_id = item[1].to(device).long()\n",
    "        with torch.no_grad():\n",
    "            output, att_weight = nn_model(x, target_id)\n",
    "        outs.extend(torch.sigmoid(output)[:, -1].view(-1).data.cpu().numpy())\n",
    "        \n",
    "    #test_df1['answered_correctly'] = outs\n",
    "    \n",
    "    \n",
    "    \n",
    "    \n",
    "    ###for lgb\n",
    "    if prior_test_df is not None:\n",
    "        prior_test_df[target] = eval(test_df['prior_group_answers_correct'].iloc[0])\n",
    "        prior_test_df = prior_test_df[prior_test_df[target] != -1].reset_index(drop=True)\n",
    "        #prior_test_df = prior_test_df[prior_test_df[target] != -1]\n",
    "        prior_test_df['prior_question_had_explanation'].fillna(False, inplace=True)       \n",
    "        prior_test_df.prior_question_had_explanation=prior_test_df.prior_question_had_explanation.astype('int8')\n",
    "    \n",
    "        user_ids = prior_test_df['user_id'].values\n",
    "        #content_ids = prior_test_df['content_id'].values\n",
    "        #task_container_ids = prior_test_df['task_container_id'].values\n",
    "        #prior_question_had_explanations = prior_test_df['prior_question_had_explanation'].values\n",
    "        targets = prior_test_df[target].values        \n",
    "        \n",
    "        for user_id, answered_correctly in zip(user_ids,targets):\n",
    "            user_sum_dict[user_id] += answered_correctly\n",
    "            user_count_dict[user_id] += 1\n",
    "#             user_sum_dict2[user_id] += answered_correctly\n",
    "#             user_count_dict2[user_id] += 1   \n",
    "            \n",
    "\n",
    "    prior_test_df = test_df.copy() \n",
    "        \n",
    "    \n",
    "    question_len=len( test_df[test_df['content_type_id'] == 0])\n",
    "    test_df['prior_question_had_explanation'].fillna(False, inplace=True)\n",
    "    test_df.prior_question_had_explanation=test_df.prior_question_had_explanation.astype('int8')\n",
    "    test_df['prior_question_elapsed_time'].fillna(prior_question_elapsed_time_mean, inplace=True)\n",
    "    \n",
    "\n",
    "    user_lecture_sum = np.zeros(question_len, dtype=np.int16)\n",
    "    user_lecture_count = np.zeros(question_len, dtype=np.int16) \n",
    "    \n",
    "    user_sum = np.zeros(question_len, dtype=np.int16)\n",
    "    user_count = np.zeros(question_len, dtype=np.int16)\n",
    "#     user_sum2 = np.zeros(question_len, dtype=np.int16)\n",
    "#     user_count2 = np.zeros(question_len, dtype=np.int16)\n",
    "\n",
    "#     user_sum_dict_test=defaultdict(int)\n",
    "#     user_count_dict_test=defaultdict(int)\n",
    "\n",
    "    task_container_sum = np.zeros(question_len, dtype=np.int32)\n",
    "    task_container_count = np.zeros(question_len, dtype=np.int32)\n",
    "    task_container_std = np.zeros(question_len, dtype=np.float16)\n",
    "\n",
    "    explanation_sum = np.zeros(question_len, dtype=np.int32)\n",
    "    explanation_count = np.zeros(question_len, dtype=np.int32)\n",
    "    delta_prior_question_elapsed_time = np.zeros(question_len, dtype=np.int32)\n",
    "\n",
    "    attempt_no_count = np.zeros(question_len, dtype=np.int16)\n",
    "    lagtime = np.zeros(question_len, dtype=np.float32)\n",
    "    lagtime2 = np.zeros(question_len, dtype=np.float32)\n",
    "    lagtime3 = np.zeros(question_len, dtype=np.float32)\n",
    "    #lagtime_means = np.zeros(question_len, dtype=np.int32)\n",
    "    #\n",
    "   \n",
    "    i=0\n",
    "    for j, (user_id,prior_question_had_explanation,content_type_id,prior_question_elapsed_time,timestamp, content_id,task_container_id) in enumerate(zip(test_df['user_id'].values,test_df['prior_question_had_explanation'].values,test_df['content_type_id'].values,test_df['prior_question_elapsed_time'].values,test_df['timestamp'].values, test_df['content_id'].values, test_df['task_container_id'].values)):\n",
    "        \n",
    "         #\n",
    "        user_lecture_sum_dict[user_id] += content_type_id\n",
    "        user_lecture_count_dict[user_id] += 1\n",
    "        if(content_type_id==1):#\n",
    "            x=1\n",
    "#             if(len(user_lecture_stats_part[user_lecture_stats_part.user_id==user_id])==0):\n",
    "#                 user_lecture_stats_part = user_lecture_stats_part.append([{'user_id':user_id}], ignore_index=True)\n",
    "#                 user_lecture_stats_part.fillna(0, inplace=True)\n",
    "#                 user_lecture_stats_part.loc[user_lecture_stats_part.user_id==user_id,part_lectures_columns + types_of_lectures_columns]+=lectures_df[lectures_df.lecture_id==content_id][part_lectures_columns + types_of_lectures_columns].values\n",
    "#             else:\n",
    "#                 user_lecture_stats_part.loc[user_lecture_stats_part.user_id==user_id,part_lectures_columns + types_of_lectures_columns]+=lectures_df[lectures_df.lecture_id==content_id][part_lectures_columns + types_of_lectures_columns].values\n",
    "        if(content_type_id==0):#   \n",
    "            user_lecture_sum[i] = user_lecture_sum_dict[user_id]\n",
    "            user_lecture_count[i] = user_lecture_count_dict[user_id]\n",
    "                \n",
    "            user_sum[i] = user_sum_dict[user_id]\n",
    "            user_count[i] = user_count_dict[user_id]\n",
    "#             user_sum2[i] = user_sum_dict2[user_id]\n",
    "#             user_count2[i] = user_count_dict2[user_id]\n",
    "    #         content_sum[i] = content_sum_dict[content_id]\n",
    "    #         content_count[i] = content_count_dict[content_id]\n",
    "            task_container_sum[i] = task_container_sum_dict[task_container_id]\n",
    "            task_container_count[i] = task_container_count_dict[task_container_id]\n",
    "            task_container_std[i]=task_container_std_dict[task_container_id]\n",
    "\n",
    "            explanation_sum_dict[user_id] += prior_question_had_explanation\n",
    "            explanation_count_dict[user_id] += 1\n",
    "            explanation_sum[i] = explanation_sum_dict[user_id]\n",
    "            explanation_count[i] = explanation_count_dict[user_id]\n",
    "\n",
    "            if user_id in max_timestamp_u_dict['max_time_stamp'].keys():\n",
    "                lagtime[i]=timestamp-max_timestamp_u_dict['max_time_stamp'][user_id]\n",
    "                if(max_timestamp_u_dict2['max_time_stamp2'][user_id]==lagtime_mean2):#\n",
    "                    lagtime2[i]=lagtime_mean2\n",
    "                    lagtime3[i]=lagtime_mean3\n",
    "                    #max_timestamp_u_dict3['max_time_stamp3'].update({user_id:lagtime_mean3})\n",
    "                else:\n",
    "                    lagtime2[i]=timestamp-max_timestamp_u_dict2['max_time_stamp2'][user_id]\n",
    "                    if(max_timestamp_u_dict3['max_time_stamp3'][user_id]==lagtime_mean3):\n",
    "                        lagtime3[i]=lagtime_mean3 #\n",
    "                    else:\n",
    "                        lagtime3[i]=timestamp-max_timestamp_u_dict3['max_time_stamp3'][user_id]\n",
    "                    \n",
    "                    max_timestamp_u_dict3['max_time_stamp3'][user_id]=max_timestamp_u_dict2['max_time_stamp2'][user_id]\n",
    "                        \n",
    "                max_timestamp_u_dict2['max_time_stamp2'][user_id]=max_timestamp_u_dict['max_time_stamp'][user_id]\n",
    "                max_timestamp_u_dict['max_time_stamp'][user_id]=timestamp\n",
    "#                 lagtime_means[i]=(lagtime_mean_dict[user_id]+lagtime[i])/2\n",
    "#                 lagtime_mean_dict[user_id]=lagtime_means[i]\n",
    "            else:\n",
    "                lagtime[i]=lagtime_mean\n",
    "                max_timestamp_u_dict['max_time_stamp'].update({user_id:timestamp})\n",
    "                lagtime2[i]=lagtime_mean2#\n",
    "                max_timestamp_u_dict2['max_time_stamp2'].update({user_id:lagtime_mean2})\n",
    "                lagtime3[i]=lagtime_mean3#\n",
    "                max_timestamp_u_dict3['max_time_stamp3'].update({user_id:lagtime_mean3})\n",
    "#                 lagtime_mean_dict.update({user_id:lagtime_mean})\n",
    "#                 lagtime_means[i]=(lagtime_mean_dict[user_id]+lagtime[i])/2\n",
    "\n",
    "            if user_id in user_prior_question_elapsed_time_dict['prior_question_elapsed_time'].keys():            \n",
    "                delta_prior_question_elapsed_time[i]=prior_question_elapsed_time-user_prior_question_elapsed_time_dict['prior_question_elapsed_time'][user_id]\n",
    "                user_prior_question_elapsed_time_dict['prior_question_elapsed_time'][user_id]=prior_question_elapsed_time\n",
    "            else:           \n",
    "                delta_prior_question_elapsed_time[i]=delta_prior_question_elapsed_time_mean    \n",
    "                user_prior_question_elapsed_time_dict['prior_question_elapsed_time'].update({user_id:prior_question_elapsed_time})\n",
    "            i=i+1 \n",
    "\n",
    "\n",
    "        \n",
    "    test_df = test_df[test_df['content_type_id'] == 0].reset_index(drop=True)\n",
    "    #test_df = test_df[test_df['content_type_id'] == 0]\n",
    "    #right_index=True\n",
    "    #test_df = pd.merge(test_df, questions_df, on='content_id', how='left',right_index=True)    \n",
    "    #test_df = pd.concat([test_df.reset_index(drop=True), questions_df.reindex(test_df['content_id'].values).reset_index(drop=True)], axis=1)\n",
    "    test_df=test_df.merge(questions_df.loc[questions_df.index.isin(test_df['content_id'])],\n",
    "                  how='left', on='content_id', right_index=True)\n",
    "    \n",
    "    #test_df = pd.merge(test_df, user_lecture_stats_part, on=['user_id'], how=\"left\",right_index=True)\n",
    "    #test_df = pd.concat([test_df.reset_index(drop=True), user_lecture_stats_part.reindex(test_df['user_id'].values).reset_index(drop=True)], axis=1)\n",
    "#     test_df=test_df.merge(user_lecture_stats_part.loc[user_lecture_stats_part.index.isin(test_df['user_id'])],\n",
    "#                   how='left', on='user_id', right_index=True)\n",
    " \n",
    "    test_df['user_lecture_lv'] = user_lecture_sum / user_lecture_count\n",
    "    test_df['user_lecture_sum'] = user_lecture_sum\n",
    "    \n",
    "    test_df['user_interaction_count'] = user_lecture_count\n",
    "    test_df['user_interaction_timestamp_mean'] = test_df['timestamp']/user_lecture_count\n",
    "    \n",
    "    test_df['user_correctness'] = user_sum / user_count\n",
    "    test_df['user_uncorrect_count'] =user_count-user_sum\n",
    "    test_df['user_correct_count'] =user_sum\n",
    "    #test_df['user_answer_count'] =user_count\n",
    "    \n",
    "#     test_df['user_correctness2'] = user_sum2 / user_count2\n",
    "#     test_df['user_uncorrect_count2'] =user_count2-user_sum2\n",
    "#     test_df['user_correct_count2'] =user_sum2\n",
    "    #test_df['user_answer_count2'] =user_count2\n",
    "    \n",
    "    #    \n",
    "    test_df['task_container_correctness'] = task_container_sum / task_container_count\n",
    "    test_df['task_container_cor_count'] = task_container_sum \n",
    "    test_df['task_container_uncor_count'] =task_container_count-task_container_sum \n",
    "    test_df['task_container_std'] = task_container_std \n",
    "    #test_df['content_task_mean'] = content_task_mean \n",
    "    \n",
    "    test_df['explanation_mean'] = explanation_sum / explanation_count\n",
    "    test_df['explanation_true_count'] = explanation_sum\n",
    "    test_df['explanation_false_count'] = explanation_count-explanation_sum \n",
    "    \n",
    "    #\n",
    "    test_df['delta_prior_question_elapsed_time'] = delta_prior_question_elapsed_time \n",
    "    \n",
    "  \n",
    " \n",
    "    test_df[\"attempt_no\"] = test_df[[\"user_id\", \"content_id\"]].apply(lambda row: get_max_attempt(row[\"user_id\"], row[\"content_id\"]), axis=1)\n",
    "    test_df[\"lagtime\"]=lagtime\n",
    "    test_df[\"lagtime2\"]=lagtime2\n",
    "    test_df[\"lagtime3\"]=lagtime3\n",
    "    #test_df[\"lagtime_mean\"]=lagtime_means\n",
    "\n",
    "    \n",
    "\n",
    "    test_df['timestamp']=test_df['timestamp']/(1000*3600)\n",
    "    test_df.timestamp=test_df.timestamp.astype('float16')\n",
    "    test_df['lagtime']=test_df['lagtime']/(1000*3600)\n",
    "    test_df.lagtime=test_df.lagtime.astype('float32')\n",
    "    test_df['lagtime2']=test_df['lagtime2']/(1000*3600)\n",
    "    test_df.lagtime2=test_df.lagtime2.astype('float32')\n",
    "    test_df['lagtime3']=test_df['lagtime3']/(1000*3600)\n",
    "    test_df.lagtime3=test_df.lagtime3.astype('float32')\n",
    "    test_df['user_interaction_timestamp_mean']=test_df['user_interaction_timestamp_mean']/(1000*3600)\n",
    "    test_df.user_interaction_timestamp_mean=test_df.user_interaction_timestamp_mean.astype('float32')\n",
    "    \n",
    "    test_df['user_correctness'].fillna(0.67, inplace=True)\n",
    "    #test_df['user_correctness2'].fillna(0.67, inplace=True)\n",
    "    #\n",
    "    #test_df = test_df.astype(features_dict)\n",
    "\n",
    "    sub_preds = np.zeros(test_df.shape[0])\n",
    "    for i, model in enumerate(clfs, 1):\n",
    "        test_preds  = model.predict(test_df[features])\n",
    "        sub_preds += test_preds\n",
    "    o2=sub_preds / len(clfs)\n",
    "    test_df[target]=0.5*np.array(outs)+0.5*np.array(o2)\n",
    "#     if(flag_lgbm):\n",
    "#         test_df[target] = model.predict(test_df[features])\n",
    "#     else:\n",
    "#         test_df[target] = model.predict(test_df[features].values)\n",
    "    env.predict(test_df[['row_id', target]])"
   ]
  },
  {
   "cell_type": "code",
   "execution_count": null,
   "metadata": {
    "papermill": {
     "duration": 0.089606,
     "end_time": "2021-01-05T22:27:06.265998",
     "exception": false,
     "start_time": "2021-01-05T22:27:06.176392",
     "status": "completed"
    },
    "tags": []
   },
   "outputs": [],
   "source": []
  },
  {
   "cell_type": "code",
   "execution_count": null,
   "metadata": {
    "papermill": {
     "duration": 0.089808,
     "end_time": "2021-01-05T22:27:06.445903",
     "exception": false,
     "start_time": "2021-01-05T22:27:06.356095",
     "status": "completed"
    },
    "tags": []
   },
   "outputs": [],
   "source": []
  }
 ],
 "metadata": {
  "kernelspec": {
   "display_name": "Python 3",
   "language": "python",
   "name": "python3"
  },
  "language_info": {
   "codemirror_mode": {
    "name": "ipython",
    "version": 3
   },
   "file_extension": ".py",
   "mimetype": "text/x-python",
   "name": "python",
   "nbconvert_exporter": "python",
   "pygments_lexer": "ipython3",
   "version": "3.7.6"
  },
  "papermill": {
   "duration": 581.887593,
   "end_time": "2021-01-05T22:27:06.969073",
   "environment_variables": {},
   "exception": null,
   "input_path": "__notebook__.ipynb",
   "output_path": "__notebook__.ipynb",
   "parameters": {},
   "start_time": "2021-01-05T22:17:25.081480",
   "version": "2.1.0"
  }
 },
 "nbformat": 4,
 "nbformat_minor": 4
}
