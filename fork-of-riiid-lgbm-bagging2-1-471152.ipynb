{
 "cells": [
  {
   "cell_type": "code",
   "execution_count": 1,
   "metadata": {
    "_cell_guid": "b1076dfc-b9ad-4769-8c92-a6c4dae69d19",
    "_uuid": "8f2839f25d086af736a60e9eeb907d3b93b6e0e5",
    "execution": {
     "iopub.execute_input": "2020-12-26T01:28:15.083393Z",
     "iopub.status.busy": "2020-12-26T01:28:15.082591Z",
     "iopub.status.idle": "2020-12-26T01:28:46.462017Z",
     "shell.execute_reply": "2020-12-26T01:28:46.461302Z"
    },
    "papermill": {
     "duration": 31.484514,
     "end_time": "2020-12-26T01:28:46.462175",
     "exception": false,
     "start_time": "2020-12-26T01:28:14.977661",
     "status": "completed"
    },
    "tags": []
   },
   "outputs": [],
   "source": [
    "!pip install ../input/python-datatable/datatable-0.11.0-cp37-cp37m-manylinux2010_x86_64.whl > /dev/null 2>&1"
   ]
  },
  {
   "cell_type": "code",
   "execution_count": 2,
   "metadata": {
    "execution": {
     "iopub.execute_input": "2020-12-26T01:28:46.662601Z",
     "iopub.status.busy": "2020-12-26T01:28:46.661957Z",
     "iopub.status.idle": "2020-12-26T01:28:46.801473Z",
     "shell.execute_reply": "2020-12-26T01:28:46.800921Z"
    },
    "papermill": {
     "duration": 0.241502,
     "end_time": "2020-12-26T01:28:46.801579",
     "exception": false,
     "start_time": "2020-12-26T01:28:46.560077",
     "status": "completed"
    },
    "tags": []
   },
   "outputs": [],
   "source": [
    "import numpy as np\n",
    "import random\n",
    "import pandas as pd\n",
    "import joblib"
   ]
  },
  {
   "cell_type": "code",
   "execution_count": 3,
   "metadata": {
    "_cell_guid": "79c7e3d0-c299-4dcb-8224-4455121ee9b0",
    "_uuid": "d629ff2d2480ee46fbb7e2d37f6b5fab8052498a",
    "execution": {
     "iopub.execute_input": "2020-12-26T01:28:46.936220Z",
     "iopub.status.busy": "2020-12-26T01:28:46.935610Z",
     "iopub.status.idle": "2020-12-26T01:28:47.793345Z",
     "shell.execute_reply": "2020-12-26T01:28:47.792778Z"
    },
    "papermill": {
     "duration": 0.927663,
     "end_time": "2020-12-26T01:28:47.793455",
     "exception": false,
     "start_time": "2020-12-26T01:28:46.865792",
     "status": "completed"
    },
    "tags": []
   },
   "outputs": [
    {
     "data": {
      "text/html": [
       "<style type='text/css'>\n",
       ".datatable table.frame { margin-bottom: 0; }\n",
       ".datatable table.frame thead { border-bottom: none; }\n",
       ".datatable table.frame tr.coltypes td {  color: #FFFFFF;  line-height: 6px;  padding: 0 0.5em;}\n",
       ".datatable .bool    { background: #DDDD99; }\n",
       ".datatable .object  { background: #565656; }\n",
       ".datatable .int     { background: #5D9E5D; }\n",
       ".datatable .float   { background: #4040CC; }\n",
       ".datatable .str     { background: #CC4040; }\n",
       ".datatable .row_index {  background: var(--jp-border-color3);  border-right: 1px solid var(--jp-border-color0);  color: var(--jp-ui-font-color3);  font-size: 9px;}\n",
       ".datatable .frame tr.coltypes .row_index {  background: var(--jp-border-color0);}\n",
       ".datatable th:nth-child(2) { padding-left: 12px; }\n",
       ".datatable .hellipsis {  color: var(--jp-cell-editor-border-color);}\n",
       ".datatable .vellipsis {  background: var(--jp-layout-color0);  color: var(--jp-cell-editor-border-color);}\n",
       ".datatable .na {  color: var(--jp-cell-editor-border-color);  font-size: 80%;}\n",
       ".datatable .footer { font-size: 9px; }\n",
       ".datatable .frame_dimensions {  background: var(--jp-border-color3);  border-top: 1px solid var(--jp-border-color0);  color: var(--jp-ui-font-color3);  display: inline-block;  opacity: 0.6;  padding: 1px 10px 1px 5px;}\n",
       ".datatable .frame thead tr.colnames {  background-image: url('data:image/png;base64,iVBORw0KGgoAAAANSUhEUgAAABwAAAA4CAYAAADuMJi0AAAGR0lEQVR42rVZ21IbRxBtCbQrkIR2dQVjsLmDLBsET3nTQ8ouYRkQVf6e/E9+Im958qMfkgoXAaKSSj6C9Jnd2R2NeiRSRaZqitVOT5+Z6dNnWoKGlN94JFp8Ipofkb/7SOXjGyp8wF+z35K3f0uUp/GW4XfLQ8v2gefj3ZCCzojoNfue+43o1Q3l3xB/yA3JO7jnF2pCLnI+pNyx/qw7L+SQ7T2N9p2f8c60QcfcK6KGXsAd+ZvA4LlZYuSSAoOhMs5vwJkEGDlbPMaJoA+FcQ0IH38QLWkbAFLkOOhoMF5tU6/eBRhNjro0ZgKiPRAt3FLhCO/vqdgmNTm32LkmKpvBmQY4q5uAaAgbwDBG2BVv3bfI8KKAMWj2kfw9+pkZREIbEql4ST1x7hgHIANkbJ//MF8mAH/ilTCJ2tIi4ASr1IC3VNqXHKOxjy34mgoImnOQtx1g81fkqTiMOBVGcTogNhiT5iBHET8R8C+iApJUmgim3SQAXhsLQz7ee2G8gOAQNtJckBEplADiAxtX+G9NmhDl0qJKnTvyWlAMPYZnvIviGXRg6/Dh824DBXhP/tbfREXJEIvQ+aaPGjG7pvw6r3xdx+9hqb4dgZaP2XmdHO2K/B0c1+oUph6k8kShBryl/Ft0DYgjTlOieOACHFFpVyUl72T9V3cM1jUoYvxIC2vpCSys/ck70mDYuYvdvKjlMdKAUThneWVU1aAsyjv6PURDiwNsHGBZzY+JtAAgE2TFxdRHJdyIp/f+zqu09M5cDP2F08Ukkpj4YNSdX950HY2pNCCUK/Hhx5ZMBfjNSEzdsIihVzzAMdn9dz4eDYhnyQb9SSCiAryiJcQk82LiTbJ4x2FZJaUenpKnzP95WyDf4Y+QN9EFHHSeDLGdBjjKNQ5vKHf4XMA7KrY0y0GEObBOO/8e1ywuQExOHXktuQyJALEBpcEqhwtHqgiDuCK5b6i0p2MQpcckIIoh+6hYgTZtO8xlMi6O4tKCF/kOGHEg/W0UUpHW0ZoGNZ1ExZWcn7EErgwt4uj50E/sFBjXXIayWvh7WryjasxarZKssXon0zxvvkc32Q0bqbBCuZiKt9dWFysfQefeL29JYFaeztX6tePaZdz5mYx8+6Zq3Mk0wXECQxlhdzgS2wjBHju3j1RIgKyOMdNUE8X0+RAdbSapS11MRCv1SzUXmO6wGZe2SQYrv2MvCSWEv2VODE6DN7bz8ufypgQKW7uQskFTQHULLKyaEyrnlZbgOGLrV5qrn9U79jjm2HJmgkaVN98AfBub91lGPLZBqdroN5LYgjSu4zYZDDHXZOIPC691HqrWI1900I8qLzgKP4ft8DxEWigprPfrO+KcXno9gZz4jjGewWdUcpGCj0qVFuGPYbl2VturndZ2qRvlL8acDO6lF/DY/VjsFesiUK+ypJ+r/ep+cJkSQxEK4PG4WozgA75TYrDDqStE69K8/mzGEM+JXTeqvmedEElMmwCMm2SLd6bNNF9su02zEtoW6nAQtpMj5Gd7fKa//wqonF7UdtHFsVn+6hf1o7AfriPH7M6EeIUEF5zKVxXbYo7kS/OEtOqDYZKPoBsETIixn0uYrasThmzDkhdKPkz2EnaX0HdQbIgr59vAdGYDqjHrxkjS7WOxkTD8sqEqhiwcJETgBYigrBqF08KyDaje9SZ/I1A7MzaTzMGDEulPtZUkuKcyIRAjxEJPVrnVlb/9wkfij31D/pQt1IN+iL8bGJcstBIO7Y5VI/cwDqURbXhMuJxBqD0KLoK3esWFs0Jz5i5ZvJUAfFJMFb9XmGIOnzGpijpcWYCaMqXSQWp8EnCABepQ0Elyi4wfKfsw78ikIqif1pe1AGPlLmojl1SKxHHXp1L+Ut7AmDQHvhI5xHGi4EooO2BR7k78PEkJOdL7cAxQUZ/Tyclu9gnfwGgOmm2lNHGNmZXsq4Pqgc1EG1ATrvKl8s4R9ywwnqulGUnaRLVhxy8v3ieUwy2hbooT68uscW++DCDH0WSzuoyN2D4LUJ/tLECbcSKznwMIFs0ChF4mRTCnQbIIfk4SHJo6A9BMuTnXTs3Ku/KxsgZWqzuSe+Os8cEUfnMBY6UF5gi3SUbd5K7vDjq5WW0UENJlRsWn4sy21Er/E/AvPQSFHy1p4fgAAAAASUVORK5CYII=');  background-repeat: repeat-x;  background-size: 14px;  height: 28px;}\n",
       "</style>\n"
      ],
      "text/plain": [
       "<IPython.core.display.HTML object>"
      ]
     },
     "metadata": {},
     "output_type": "display_data"
    }
   ],
   "source": [
    "from collections import defaultdict\n",
    "import datatable as dt\n",
    "import lightgbm as lgb\n",
    "from matplotlib import pyplot as plt\n",
    "import riiideducation\n",
    "from sklearn.metrics import roc_auc_score\n",
    "import gc\n",
    "\n",
    "_ = np.seterr(divide='ignore', invalid='ignore')"
   ]
  },
  {
   "cell_type": "markdown",
   "metadata": {
    "papermill": {
     "duration": 0.066618,
     "end_time": "2020-12-26T01:28:47.927030",
     "exception": false,
     "start_time": "2020-12-26T01:28:47.860412",
     "status": "completed"
    },
    "tags": []
   },
   "source": [
    "# Preprocess"
   ]
  },
  {
   "cell_type": "code",
   "execution_count": 4,
   "metadata": {
    "execution": {
     "iopub.execute_input": "2020-12-26T01:28:48.062893Z",
     "iopub.status.busy": "2020-12-26T01:28:48.062313Z",
     "iopub.status.idle": "2020-12-26T01:28:48.065595Z",
     "shell.execute_reply": "2020-12-26T01:28:48.064980Z"
    },
    "papermill": {
     "duration": 0.07394,
     "end_time": "2020-12-26T01:28:48.065687",
     "exception": false,
     "start_time": "2020-12-26T01:28:47.991747",
     "status": "completed"
    },
    "tags": []
   },
   "outputs": [],
   "source": [
    "data_types_dict = {\n",
    "    'timestamp': 'int64',\n",
    "    'user_id': 'int32', \n",
    "    'content_id': 'int16', \n",
    "    'content_type_id':'int8', \n",
    "    'task_container_id': 'int16',\n",
    "    #'user_answer': 'int8',\n",
    "    'answered_correctly': 'int8', \n",
    "    'prior_question_elapsed_time': 'float32', \n",
    "    'prior_question_had_explanation': 'bool'\n",
    "}\n",
    "target = 'answered_correctly'"
   ]
  },
  {
   "cell_type": "code",
   "execution_count": 5,
   "metadata": {
    "execution": {
     "iopub.execute_input": "2020-12-26T01:28:48.204413Z",
     "iopub.status.busy": "2020-12-26T01:28:48.203782Z",
     "iopub.status.idle": "2020-12-26T01:30:20.199952Z",
     "shell.execute_reply": "2020-12-26T01:30:20.199089Z"
    },
    "papermill": {
     "duration": 92.069523,
     "end_time": "2020-12-26T01:30:20.200077",
     "exception": false,
     "start_time": "2020-12-26T01:28:48.130554",
     "status": "completed"
    },
    "tags": []
   },
   "outputs": [
    {
     "name": "stdout",
     "output_type": "stream",
     "text": [
      "start read train data...\n"
     ]
    }
   ],
   "source": [
    "print('start read train data...')\n",
    "train_df = dt.fread('../input/riiid-test-answer-prediction/train.csv', columns=set(data_types_dict.keys())).to_pandas()"
   ]
  },
  {
   "cell_type": "code",
   "execution_count": 6,
   "metadata": {
    "execution": {
     "iopub.execute_input": "2020-12-26T01:30:20.406955Z",
     "iopub.status.busy": "2020-12-26T01:30:20.406095Z",
     "iopub.status.idle": "2020-12-26T01:30:20.409764Z",
     "shell.execute_reply": "2020-12-26T01:30:20.409206Z"
    },
    "papermill": {
     "duration": 0.088376,
     "end_time": "2020-12-26T01:30:20.409858",
     "exception": false,
     "start_time": "2020-12-26T01:30:20.321482",
     "status": "completed"
    },
    "tags": []
   },
   "outputs": [],
   "source": [
    "# train_df=train_df.sample(frac=0.1).reset_index(drop=True)"
   ]
  },
  {
   "cell_type": "code",
   "execution_count": 7,
   "metadata": {
    "execution": {
     "iopub.execute_input": "2020-12-26T01:30:20.573433Z",
     "iopub.status.busy": "2020-12-26T01:30:20.572511Z",
     "iopub.status.idle": "2020-12-26T01:30:20.575832Z",
     "shell.execute_reply": "2020-12-26T01:30:20.576589Z"
    },
    "papermill": {
     "duration": 0.08263,
     "end_time": "2020-12-26T01:30:20.576755",
     "exception": false,
     "start_time": "2020-12-26T01:30:20.494125",
     "status": "completed"
    },
    "tags": []
   },
   "outputs": [
    {
     "name": "stdout",
     "output_type": "stream",
     "text": [
      "start handle lecture data...\n"
     ]
    }
   ],
   "source": [
    "print('start handle lecture data...')"
   ]
  },
  {
   "cell_type": "code",
   "execution_count": 8,
   "metadata": {
    "execution": {
     "iopub.execute_input": "2020-12-26T01:30:20.732002Z",
     "iopub.status.busy": "2020-12-26T01:30:20.731073Z",
     "iopub.status.idle": "2020-12-26T01:30:20.746203Z",
     "shell.execute_reply": "2020-12-26T01:30:20.745343Z"
    },
    "papermill": {
     "duration": 0.092996,
     "end_time": "2020-12-26T01:30:20.746348",
     "exception": false,
     "start_time": "2020-12-26T01:30:20.653352",
     "status": "completed"
    },
    "tags": []
   },
   "outputs": [],
   "source": [
    "#reading in lecture df\n",
    "lectures_df = pd.read_csv('/kaggle/input/riiid-test-answer-prediction/lectures.csv')"
   ]
  },
  {
   "cell_type": "code",
   "execution_count": 9,
   "metadata": {
    "execution": {
     "iopub.execute_input": "2020-12-26T01:30:20.914322Z",
     "iopub.status.busy": "2020-12-26T01:30:20.912807Z",
     "iopub.status.idle": "2020-12-26T01:30:20.917362Z",
     "shell.execute_reply": "2020-12-26T01:30:20.916720Z"
    },
    "papermill": {
     "duration": 0.097589,
     "end_time": "2020-12-26T01:30:20.917465",
     "exception": false,
     "start_time": "2020-12-26T01:30:20.819876",
     "status": "completed"
    },
    "tags": []
   },
   "outputs": [],
   "source": [
    "lectures_df['type_of'] = lectures_df['type_of'].replace('solving question', 'solving_question')\n",
    "\n",
    "lectures_df = pd.get_dummies(lectures_df, columns=['part', 'type_of'])\n",
    "\n",
    "part_lectures_columns = [column for column in lectures_df.columns if column.startswith('part')]\n",
    "\n",
    "types_of_lectures_columns = [column for column in lectures_df.columns if column.startswith('type_of_')]"
   ]
  },
  {
   "cell_type": "code",
   "execution_count": 10,
   "metadata": {
    "execution": {
     "iopub.execute_input": "2020-12-26T01:30:21.059396Z",
     "iopub.status.busy": "2020-12-26T01:30:21.058584Z",
     "iopub.status.idle": "2020-12-26T01:30:22.109505Z",
     "shell.execute_reply": "2020-12-26T01:30:22.108359Z"
    },
    "papermill": {
     "duration": 1.124649,
     "end_time": "2020-12-26T01:30:22.109674",
     "exception": false,
     "start_time": "2020-12-26T01:30:20.985025",
     "status": "completed"
    },
    "tags": []
   },
   "outputs": [],
   "source": [
    "train_lectures = train_df[train_df.content_type_id == True].merge(lectures_df, left_on='content_id', right_on='lecture_id', how='left')"
   ]
  },
  {
   "cell_type": "code",
   "execution_count": 11,
   "metadata": {
    "execution": {
     "iopub.execute_input": "2020-12-26T01:30:22.270838Z",
     "iopub.status.busy": "2020-12-26T01:30:22.269875Z",
     "iopub.status.idle": "2020-12-26T01:30:22.771749Z",
     "shell.execute_reply": "2020-12-26T01:30:22.771230Z"
    },
    "papermill": {
     "duration": 0.582731,
     "end_time": "2020-12-26T01:30:22.771855",
     "exception": false,
     "start_time": "2020-12-26T01:30:22.189124",
     "status": "completed"
    },
    "tags": []
   },
   "outputs": [],
   "source": [
    "user_lecture_stats_part = train_lectures.groupby('user_id',as_index = False)[part_lectures_columns + types_of_lectures_columns].sum()"
   ]
  },
  {
   "cell_type": "code",
   "execution_count": 12,
   "metadata": {
    "execution": {
     "iopub.execute_input": "2020-12-26T01:30:22.915032Z",
     "iopub.status.busy": "2020-12-26T01:30:22.913877Z",
     "iopub.status.idle": "2020-12-26T01:30:22.921335Z",
     "shell.execute_reply": "2020-12-26T01:30:22.920794Z"
    },
    "papermill": {
     "duration": 0.082243,
     "end_time": "2020-12-26T01:30:22.921440",
     "exception": false,
     "start_time": "2020-12-26T01:30:22.839197",
     "status": "completed"
    },
    "tags": []
   },
   "outputs": [],
   "source": [
    "lecturedata_types_dict = {   \n",
    "    'user_id': 'int32', \n",
    "    'part_1': 'int8',\n",
    "    'part_2': 'int8',\n",
    "    'part_3': 'int8',\n",
    "    'part_4': 'int8',\n",
    "    'part_5': 'int8',\n",
    "    'part_6': 'int8',\n",
    "    'part_7': 'int8',\n",
    "    'type_of_concept': 'int8',\n",
    "    'type_of_intention': 'int8',\n",
    "    'type_of_solving_question': 'int8',\n",
    "    'type_of_starter': 'int8'\n",
    "}\n",
    "user_lecture_stats_part = user_lecture_stats_part.astype(lecturedata_types_dict)"
   ]
  },
  {
   "cell_type": "code",
   "execution_count": 13,
   "metadata": {
    "execution": {
     "iopub.execute_input": "2020-12-26T01:30:23.064680Z",
     "iopub.status.busy": "2020-12-26T01:30:23.063299Z",
     "iopub.status.idle": "2020-12-26T01:30:23.071607Z",
     "shell.execute_reply": "2020-12-26T01:30:23.072060Z"
    },
    "papermill": {
     "duration": 0.083251,
     "end_time": "2020-12-26T01:30:23.072206",
     "exception": false,
     "start_time": "2020-12-26T01:30:22.988955",
     "status": "completed"
    },
    "tags": []
   },
   "outputs": [],
   "source": [
    "for column in user_lecture_stats_part.columns:\n",
    "    #bool_column = column + '_boolean'\n",
    "    if(column !='user_id'):\n",
    "        user_lecture_stats_part[column] = (user_lecture_stats_part[column] > 0).astype('int8')"
   ]
  },
  {
   "cell_type": "code",
   "execution_count": 14,
   "metadata": {
    "execution": {
     "iopub.execute_input": "2020-12-26T01:30:23.214867Z",
     "iopub.status.busy": "2020-12-26T01:30:23.214029Z",
     "iopub.status.idle": "2020-12-26T01:30:23.218346Z",
     "shell.execute_reply": "2020-12-26T01:30:23.217791Z"
    },
    "papermill": {
     "duration": 0.0785,
     "end_time": "2020-12-26T01:30:23.218443",
     "exception": false,
     "start_time": "2020-12-26T01:30:23.139943",
     "status": "completed"
    },
    "tags": []
   },
   "outputs": [
    {
     "data": {
      "text/plain": [
       "user_id                     int32\n",
       "part_1                       int8\n",
       "part_2                       int8\n",
       "part_3                       int8\n",
       "part_4                       int8\n",
       "part_5                       int8\n",
       "part_6                       int8\n",
       "part_7                       int8\n",
       "type_of_concept              int8\n",
       "type_of_intention            int8\n",
       "type_of_solving_question     int8\n",
       "type_of_starter              int8\n",
       "dtype: object"
      ]
     },
     "execution_count": 14,
     "metadata": {},
     "output_type": "execute_result"
    }
   ],
   "source": [
    "user_lecture_stats_part.dtypes"
   ]
  },
  {
   "cell_type": "code",
   "execution_count": 15,
   "metadata": {
    "execution": {
     "iopub.execute_input": "2020-12-26T01:30:23.429298Z",
     "iopub.status.busy": "2020-12-26T01:30:23.365784Z",
     "iopub.status.idle": "2020-12-26T01:30:23.435200Z",
     "shell.execute_reply": "2020-12-26T01:30:23.434688Z"
    },
    "papermill": {
     "duration": 0.148608,
     "end_time": "2020-12-26T01:30:23.435304",
     "exception": false,
     "start_time": "2020-12-26T01:30:23.286696",
     "status": "completed"
    },
    "tags": []
   },
   "outputs": [
    {
     "data": {
      "text/plain": [
       "80"
      ]
     },
     "execution_count": 15,
     "metadata": {},
     "output_type": "execute_result"
    }
   ],
   "source": [
    "#clearing memory\n",
    "del(train_lectures)\n",
    "gc.collect()"
   ]
  },
  {
   "cell_type": "code",
   "execution_count": 16,
   "metadata": {
    "execution": {
     "iopub.execute_input": "2020-12-26T01:30:23.577635Z",
     "iopub.status.busy": "2020-12-26T01:30:23.576881Z",
     "iopub.status.idle": "2020-12-26T01:30:28.005784Z",
     "shell.execute_reply": "2020-12-26T01:30:28.005164Z"
    },
    "papermill": {
     "duration": 4.501414,
     "end_time": "2020-12-26T01:30:28.005885",
     "exception": false,
     "start_time": "2020-12-26T01:30:23.504471",
     "status": "completed"
    },
    "tags": []
   },
   "outputs": [],
   "source": [
    "user_lecture_agg = train_df.groupby('user_id')['content_type_id'].agg(['sum', 'count'])\n",
    "user_lecture_agg=user_lecture_agg.astype('int16')"
   ]
  },
  {
   "cell_type": "code",
   "execution_count": 17,
   "metadata": {
    "execution": {
     "iopub.execute_input": "2020-12-26T01:30:28.151360Z",
     "iopub.status.busy": "2020-12-26T01:30:28.150762Z",
     "iopub.status.idle": "2020-12-26T01:30:38.833882Z",
     "shell.execute_reply": "2020-12-26T01:30:38.833282Z"
    },
    "papermill": {
     "duration": 10.759816,
     "end_time": "2020-12-26T01:30:38.833993",
     "exception": false,
     "start_time": "2020-12-26T01:30:28.074177",
     "status": "completed"
    },
    "tags": []
   },
   "outputs": [],
   "source": [
    "\n",
    "#1= if the event was the user watching a lecture.\n",
    "cum = train_df.groupby('user_id')['content_type_id'].agg(['cumsum', 'cumcount'])\n",
    "cum['cumcount']=cum['cumcount']+1\n",
    "train_df['user_interaction_count'] = cum['cumcount'] \n",
    "train_df['user_interaction_timestamp_mean'] = train_df['timestamp']/cum['cumcount'] \n",
    "train_df['user_lecture_sum'] = cum['cumsum'] \n",
    "train_df['user_lecture_lv'] = cum['cumsum'] / cum['cumcount']\n",
    "\n",
    "\n",
    "train_df.user_lecture_lv=train_df.user_lecture_lv.astype('float16')\n",
    "train_df.user_lecture_sum=train_df.user_lecture_sum.astype('int16')\n",
    "train_df.user_interaction_count=train_df.user_interaction_count.astype('int16')\n",
    "train_df['user_interaction_timestamp_mean']=train_df['user_interaction_timestamp_mean']/(1000*3600)\n",
    "train_df.user_interaction_timestamp_mean=train_df.user_interaction_timestamp_mean.astype('float32')\n"
   ]
  },
  {
   "cell_type": "code",
   "execution_count": 18,
   "metadata": {
    "execution": {
     "iopub.execute_input": "2020-12-26T01:30:38.976330Z",
     "iopub.status.busy": "2020-12-26T01:30:38.975602Z",
     "iopub.status.idle": "2020-12-26T01:30:38.979017Z",
     "shell.execute_reply": "2020-12-26T01:30:38.978507Z"
    },
    "papermill": {
     "duration": 0.076845,
     "end_time": "2020-12-26T01:30:38.979111",
     "exception": false,
     "start_time": "2020-12-26T01:30:38.902266",
     "status": "completed"
    },
    "tags": []
   },
   "outputs": [],
   "source": [
    "#pd.options.display.max_rows = 200"
   ]
  },
  {
   "cell_type": "code",
   "execution_count": 19,
   "metadata": {
    "execution": {
     "iopub.execute_input": "2020-12-26T01:30:39.185115Z",
     "iopub.status.busy": "2020-12-26T01:30:39.184282Z",
     "iopub.status.idle": "2020-12-26T01:30:39.188639Z",
     "shell.execute_reply": "2020-12-26T01:30:39.188037Z"
    },
    "papermill": {
     "duration": 0.141161,
     "end_time": "2020-12-26T01:30:39.188734",
     "exception": false,
     "start_time": "2020-12-26T01:30:39.047573",
     "status": "completed"
    },
    "tags": []
   },
   "outputs": [
    {
     "data": {
      "text/plain": [
       "97"
      ]
     },
     "execution_count": 19,
     "metadata": {},
     "output_type": "execute_result"
    }
   ],
   "source": [
    "del cum\n",
    "gc.collect()"
   ]
  },
  {
   "cell_type": "code",
   "execution_count": 20,
   "metadata": {
    "execution": {
     "iopub.execute_input": "2020-12-26T01:30:39.333539Z",
     "iopub.status.busy": "2020-12-26T01:30:39.332878Z",
     "iopub.status.idle": "2020-12-26T01:30:39.337020Z",
     "shell.execute_reply": "2020-12-26T01:30:39.336397Z"
    },
    "papermill": {
     "duration": 0.079046,
     "end_time": "2020-12-26T01:30:39.337118",
     "exception": false,
     "start_time": "2020-12-26T01:30:39.258072",
     "status": "completed"
    },
    "tags": []
   },
   "outputs": [
    {
     "name": "stdout",
     "output_type": "stream",
     "text": [
      "start handle train_df...\n"
     ]
    }
   ],
   "source": [
    "print('start handle train_df...')"
   ]
  },
  {
   "cell_type": "code",
   "execution_count": 21,
   "metadata": {
    "execution": {
     "iopub.execute_input": "2020-12-26T01:30:51.913791Z",
     "iopub.status.busy": "2020-12-26T01:30:51.912894Z",
     "iopub.status.idle": "2020-12-26T01:31:10.992491Z",
     "shell.execute_reply": "2020-12-26T01:31:10.991940Z"
    },
    "papermill": {
     "duration": 31.584989,
     "end_time": "2020-12-26T01:31:10.992600",
     "exception": false,
     "start_time": "2020-12-26T01:30:39.407611",
     "status": "completed"
    },
    "tags": []
   },
   "outputs": [],
   "source": [
    "train_df['prior_question_had_explanation'].fillna(False, inplace=True)\n",
    "train_df = train_df.astype(data_types_dict)\n",
    "train_df = train_df[train_df[target] != -1].reset_index(drop=True)"
   ]
  },
  {
   "cell_type": "code",
   "execution_count": 22,
   "metadata": {
    "execution": {
     "iopub.execute_input": "2020-12-26T01:31:11.706222Z",
     "iopub.status.busy": "2020-12-26T01:31:11.242609Z",
     "iopub.status.idle": "2020-12-26T01:31:17.318344Z",
     "shell.execute_reply": "2020-12-26T01:31:17.318807Z"
    },
    "papermill": {
     "duration": 6.255641,
     "end_time": "2020-12-26T01:31:17.318939",
     "exception": false,
     "start_time": "2020-12-26T01:31:11.063298",
     "status": "completed"
    },
    "tags": []
   },
   "outputs": [],
   "source": [
    "content_explation_agg=train_df[[\"content_id\",\"prior_question_had_explanation\",target]].groupby([\"content_id\",\"prior_question_had_explanation\"])[target].agg(['mean'])"
   ]
  },
  {
   "cell_type": "code",
   "execution_count": 23,
   "metadata": {
    "execution": {
     "iopub.execute_input": "2020-12-26T01:31:17.465465Z",
     "iopub.status.busy": "2020-12-26T01:31:17.464387Z",
     "iopub.status.idle": "2020-12-26T01:31:17.468756Z",
     "shell.execute_reply": "2020-12-26T01:31:17.467940Z"
    },
    "papermill": {
     "duration": 0.079173,
     "end_time": "2020-12-26T01:31:17.468873",
     "exception": false,
     "start_time": "2020-12-26T01:31:17.389700",
     "status": "completed"
    },
    "tags": []
   },
   "outputs": [
    {
     "data": {
      "text/plain": [
       "mean    float64\n",
       "dtype: object"
      ]
     },
     "execution_count": 23,
     "metadata": {},
     "output_type": "execute_result"
    }
   ],
   "source": [
    "content_explation_agg.dtypes"
   ]
  },
  {
   "cell_type": "code",
   "execution_count": 24,
   "metadata": {
    "execution": {
     "iopub.execute_input": "2020-12-26T01:31:17.685107Z",
     "iopub.status.busy": "2020-12-26T01:31:17.684510Z",
     "iopub.status.idle": "2020-12-26T01:31:17.703079Z",
     "shell.execute_reply": "2020-12-26T01:31:17.702341Z"
    },
    "papermill": {
     "duration": 0.129716,
     "end_time": "2020-12-26T01:31:17.703237",
     "exception": false,
     "start_time": "2020-12-26T01:31:17.573521",
     "status": "completed"
    },
    "tags": []
   },
   "outputs": [],
   "source": [
    "content_explation_agg=content_explation_agg.unstack()\n",
    "\n",
    "content_explation_agg=content_explation_agg.reset_index()\n",
    "content_explation_agg.columns = ['content_id', 'content_explation_false_mean','content_explation_true_mean']"
   ]
  },
  {
   "cell_type": "code",
   "execution_count": 25,
   "metadata": {
    "execution": {
     "iopub.execute_input": "2020-12-26T01:31:17.921967Z",
     "iopub.status.busy": "2020-12-26T01:31:17.921350Z",
     "iopub.status.idle": "2020-12-26T01:31:17.925895Z",
     "shell.execute_reply": "2020-12-26T01:31:17.925411Z"
    },
    "papermill": {
     "duration": 0.11677,
     "end_time": "2020-12-26T01:31:17.926000",
     "exception": false,
     "start_time": "2020-12-26T01:31:17.809230",
     "status": "completed"
    },
    "tags": []
   },
   "outputs": [],
   "source": [
    "content_explation_agg.content_id=content_explation_agg.content_id.astype('int16')\n",
    "content_explation_agg.content_explation_false_mean=content_explation_agg.content_explation_false_mean.astype('float16')\n",
    "content_explation_agg.content_explation_true_mean=content_explation_agg.content_explation_true_mean.astype('float16')"
   ]
  },
  {
   "cell_type": "code",
   "execution_count": 26,
   "metadata": {
    "execution": {
     "iopub.execute_input": "2020-12-26T01:31:18.070561Z",
     "iopub.status.busy": "2020-12-26T01:31:18.069899Z",
     "iopub.status.idle": "2020-12-26T01:31:18.074018Z",
     "shell.execute_reply": "2020-12-26T01:31:18.073390Z"
    },
    "papermill": {
     "duration": 0.077272,
     "end_time": "2020-12-26T01:31:18.074111",
     "exception": false,
     "start_time": "2020-12-26T01:31:17.996839",
     "status": "completed"
    },
    "tags": []
   },
   "outputs": [
    {
     "name": "stdout",
     "output_type": "stream",
     "text": [
      "start handle attempt_no...\n"
     ]
    }
   ],
   "source": [
    "print('start handle attempt_no...')"
   ]
  },
  {
   "cell_type": "code",
   "execution_count": 27,
   "metadata": {
    "execution": {
     "iopub.execute_input": "2020-12-26T01:31:18.226371Z",
     "iopub.status.busy": "2020-12-26T01:31:18.225655Z",
     "iopub.status.idle": "2020-12-26T01:33:07.463429Z",
     "shell.execute_reply": "2020-12-26T01:33:07.462613Z"
    },
    "papermill": {
     "duration": 109.319518,
     "end_time": "2020-12-26T01:33:07.463636",
     "exception": false,
     "start_time": "2020-12-26T01:31:18.144118",
     "status": "completed"
    },
    "tags": []
   },
   "outputs": [],
   "source": [
    "\n",
    "train_df[\"attempt_no\"] = 1\n",
    "train_df.attempt_no=train_df.attempt_no.astype('int8')\n",
    "#\n",
    "attempt_no_agg=train_df.groupby([\"user_id\",\"content_id\"])[\"attempt_no\"].agg(['sum']).astype('int8')\n",
    "#attempt_no_agg=attempt_no_agg.astype('int8')\n",
    "train_df[\"attempt_no\"] = train_df[[\"user_id\",\"content_id\",'attempt_no']].groupby([\"user_id\",\"content_id\"])[\"attempt_no\"].cumsum()"
   ]
  },
  {
   "cell_type": "code",
   "execution_count": 28,
   "metadata": {
    "execution": {
     "iopub.execute_input": "2020-12-26T01:33:07.616534Z",
     "iopub.status.busy": "2020-12-26T01:33:07.615862Z",
     "iopub.status.idle": "2020-12-26T01:33:08.135423Z",
     "shell.execute_reply": "2020-12-26T01:33:08.134887Z"
    },
    "papermill": {
     "duration": 0.597229,
     "end_time": "2020-12-26T01:33:08.135539",
     "exception": false,
     "start_time": "2020-12-26T01:33:07.538310",
     "status": "completed"
    },
    "tags": []
   },
   "outputs": [],
   "source": [
    "#attempt_no_agg=attempt_no_agg.reset_index()\n",
    "attempt_no_agg=attempt_no_agg[attempt_no_agg['sum'] >1]"
   ]
  },
  {
   "cell_type": "code",
   "execution_count": 29,
   "metadata": {
    "execution": {
     "iopub.execute_input": "2020-12-26T01:33:08.291334Z",
     "iopub.status.busy": "2020-12-26T01:33:08.290509Z",
     "iopub.status.idle": "2020-12-26T01:33:08.554645Z",
     "shell.execute_reply": "2020-12-26T01:33:08.554060Z"
    },
    "papermill": {
     "duration": 0.342692,
     "end_time": "2020-12-26T01:33:08.554748",
     "exception": false,
     "start_time": "2020-12-26T01:33:08.212056",
     "status": "completed"
    },
    "tags": []
   },
   "outputs": [
    {
     "name": "stdout",
     "output_type": "stream",
     "text": [
      "start handle timestamp...\n"
     ]
    }
   ],
   "source": [
    "print('start handle timestamp...')\n",
    "prior_question_elapsed_time_mean=train_df['prior_question_elapsed_time'].mean()\n",
    "train_df['prior_question_elapsed_time'].fillna(prior_question_elapsed_time_mean, inplace=True)"
   ]
  },
  {
   "cell_type": "code",
   "execution_count": 30,
   "metadata": {
    "execution": {
     "iopub.execute_input": "2020-12-26T01:33:10.009913Z",
     "iopub.status.busy": "2020-12-26T01:33:09.113450Z",
     "iopub.status.idle": "2020-12-26T01:33:12.627820Z",
     "shell.execute_reply": "2020-12-26T01:33:12.627188Z"
    },
    "papermill": {
     "duration": 4.001479,
     "end_time": "2020-12-26T01:33:12.627928",
     "exception": false,
     "start_time": "2020-12-26T01:33:08.626449",
     "status": "completed"
    },
    "tags": []
   },
   "outputs": [],
   "source": [
    "max_timestamp_u = train_df[['user_id','timestamp']].groupby(['user_id']).agg(['max']).reset_index()\n",
    "max_timestamp_u.columns = ['user_id', 'max_time_stamp']\n",
    "max_timestamp_u.user_id=max_timestamp_u.user_id.astype('int32')"
   ]
  },
  {
   "cell_type": "code",
   "execution_count": 31,
   "metadata": {
    "execution": {
     "iopub.execute_input": "2020-12-26T01:33:12.824985Z",
     "iopub.status.busy": "2020-12-26T01:33:12.824370Z",
     "iopub.status.idle": "2020-12-26T01:33:20.369514Z",
     "shell.execute_reply": "2020-12-26T01:33:20.370038Z"
    },
    "papermill": {
     "duration": 7.66984,
     "end_time": "2020-12-26T01:33:20.370202",
     "exception": false,
     "start_time": "2020-12-26T01:33:12.700362",
     "status": "completed"
    },
    "tags": []
   },
   "outputs": [],
   "source": [
    "\n",
    "train_df['lagtime'] = train_df.groupby('user_id')['timestamp'].shift()\n",
    "\n",
    "max_timestamp_u2 = train_df[['user_id','lagtime']].groupby(['user_id']).agg(['max']).reset_index()\n",
    "max_timestamp_u2.columns = ['user_id', 'max_time_stamp2']\n",
    "max_timestamp_u2.user_id=max_timestamp_u2.user_id.astype('int32')"
   ]
  },
  {
   "cell_type": "code",
   "execution_count": 32,
   "metadata": {
    "execution": {
     "iopub.execute_input": "2020-12-26T01:33:20.576493Z",
     "iopub.status.busy": "2020-12-26T01:33:20.575426Z",
     "iopub.status.idle": "2020-12-26T01:33:21.145986Z",
     "shell.execute_reply": "2020-12-26T01:33:21.145476Z"
    },
    "papermill": {
     "duration": 0.665479,
     "end_time": "2020-12-26T01:33:21.146094",
     "exception": false,
     "start_time": "2020-12-26T01:33:20.480615",
     "status": "completed"
    },
    "tags": []
   },
   "outputs": [],
   "source": [
    "train_df['lagtime']=train_df['timestamp']-train_df['lagtime']\n",
    "lagtime_mean=train_df['lagtime'].mean()\n",
    "train_df['lagtime'].fillna(lagtime_mean, inplace=True)"
   ]
  },
  {
   "cell_type": "code",
   "execution_count": 33,
   "metadata": {
    "execution": {
     "iopub.execute_input": "2020-12-26T01:33:21.313932Z",
     "iopub.status.busy": "2020-12-26T01:33:21.312927Z",
     "iopub.status.idle": "2020-12-26T01:33:21.772467Z",
     "shell.execute_reply": "2020-12-26T01:33:21.771928Z"
    },
    "papermill": {
     "duration": 0.553595,
     "end_time": "2020-12-26T01:33:21.772575",
     "exception": false,
     "start_time": "2020-12-26T01:33:21.218980",
     "status": "completed"
    },
    "tags": []
   },
   "outputs": [],
   "source": [
    "train_df['lagtime']=train_df['lagtime']/(1000*3600)\n",
    "train_df.lagtime=train_df.lagtime.astype('float32')"
   ]
  },
  {
   "cell_type": "code",
   "execution_count": 34,
   "metadata": {
    "execution": {
     "iopub.execute_input": "2020-12-26T01:33:21.924728Z",
     "iopub.status.busy": "2020-12-26T01:33:21.923827Z",
     "iopub.status.idle": "2020-12-26T01:33:21.927980Z",
     "shell.execute_reply": "2020-12-26T01:33:21.927340Z"
    },
    "papermill": {
     "duration": 0.082849,
     "end_time": "2020-12-26T01:33:21.928091",
     "exception": false,
     "start_time": "2020-12-26T01:33:21.845242",
     "status": "completed"
    },
    "tags": []
   },
   "outputs": [],
   "source": [
    "# lagtime_agg = train_df.groupby('user_id')['lagtime'].agg(['mean'])\n",
    "# train_df['lagtime_mean'] = train_df['user_id'].map(lagtime_agg['mean'])\n",
    "# train_df.lagtime_mean=train_df.lagtime_mean.astype('int32')\n",
    "# lagtime_agg=lagtime_agg.astype('int32')"
   ]
  },
  {
   "cell_type": "code",
   "execution_count": 35,
   "metadata": {
    "execution": {
     "iopub.execute_input": "2020-12-26T01:33:22.086751Z",
     "iopub.status.busy": "2020-12-26T01:33:22.084869Z",
     "iopub.status.idle": "2020-12-26T01:33:30.579315Z",
     "shell.execute_reply": "2020-12-26T01:33:30.578778Z"
    },
    "papermill": {
     "duration": 8.577131,
     "end_time": "2020-12-26T01:33:30.579425",
     "exception": false,
     "start_time": "2020-12-26T01:33:22.002294",
     "status": "completed"
    },
    "tags": []
   },
   "outputs": [],
   "source": [
    "\n",
    "train_df['lagtime2'] = train_df.groupby('user_id')['timestamp'].shift(2)\n",
    "\n",
    "max_timestamp_u3 = train_df[['user_id','lagtime2']].groupby(['user_id']).agg(['max']).reset_index()\n",
    "max_timestamp_u3.columns = ['user_id', 'max_time_stamp3']\n",
    "max_timestamp_u3.user_id=max_timestamp_u3.user_id.astype('int32')\n",
    "\n",
    "train_df['lagtime2']=train_df['timestamp']-train_df['lagtime2']\n",
    "lagtime_mean2=train_df['lagtime2'].mean()\n",
    "train_df['lagtime2'].fillna(lagtime_mean2, inplace=True)\n"
   ]
  },
  {
   "cell_type": "code",
   "execution_count": 36,
   "metadata": {
    "execution": {
     "iopub.execute_input": "2020-12-26T01:33:30.742185Z",
     "iopub.status.busy": "2020-12-26T01:33:30.741318Z",
     "iopub.status.idle": "2020-12-26T01:33:31.184669Z",
     "shell.execute_reply": "2020-12-26T01:33:31.184106Z"
    },
    "papermill": {
     "duration": 0.531591,
     "end_time": "2020-12-26T01:33:31.184772",
     "exception": false,
     "start_time": "2020-12-26T01:33:30.653181",
     "status": "completed"
    },
    "tags": []
   },
   "outputs": [],
   "source": [
    "train_df['lagtime2']=train_df['lagtime2']/(1000*3600)\n",
    "train_df.lagtime2=train_df.lagtime2.astype('float32')"
   ]
  },
  {
   "cell_type": "code",
   "execution_count": 37,
   "metadata": {
    "execution": {
     "iopub.execute_input": "2020-12-26T01:33:31.336125Z",
     "iopub.status.busy": "2020-12-26T01:33:31.335525Z",
     "iopub.status.idle": "2020-12-26T01:33:36.009544Z",
     "shell.execute_reply": "2020-12-26T01:33:36.009011Z"
    },
    "papermill": {
     "duration": 4.751915,
     "end_time": "2020-12-26T01:33:36.009654",
     "exception": false,
     "start_time": "2020-12-26T01:33:31.257739",
     "status": "completed"
    },
    "tags": []
   },
   "outputs": [],
   "source": [
    "\n",
    "train_df['lagtime3'] = train_df.groupby('user_id')['timestamp'].shift(3)\n",
    "\n",
    "train_df['lagtime3']=train_df['timestamp']-train_df['lagtime3']\n",
    "lagtime_mean3=train_df['lagtime3'].mean()\n",
    "train_df['lagtime3'].fillna(lagtime_mean3, inplace=True)\n",
    "train_df['lagtime3']=train_df['lagtime3']/(1000*3600)\n",
    "train_df.lagtime3=train_df.lagtime3.astype('float32')"
   ]
  },
  {
   "cell_type": "code",
   "execution_count": 38,
   "metadata": {
    "execution": {
     "iopub.execute_input": "2020-12-26T01:33:36.162084Z",
     "iopub.status.busy": "2020-12-26T01:33:36.161016Z",
     "iopub.status.idle": "2020-12-26T01:33:36.165077Z",
     "shell.execute_reply": "2020-12-26T01:33:36.164285Z"
    },
    "papermill": {
     "duration": 0.082145,
     "end_time": "2020-12-26T01:33:36.165228",
     "exception": false,
     "start_time": "2020-12-26T01:33:36.083083",
     "status": "completed"
    },
    "tags": []
   },
   "outputs": [],
   "source": [
    "# lagtime_agg2 = train_df.groupby('user_id')['lagtime2'].agg(['mean'])\n",
    "# train_df['lagtime_mean2'] = train_df['user_id'].map(lagtime_agg2['mean'])\n",
    "# train_df.lagtime_mean2=train_df.lagtime_mean2.astype('int32')\n",
    "# lagtime_agg2=lagtime_agg2.astype('int32')"
   ]
  },
  {
   "cell_type": "code",
   "execution_count": 39,
   "metadata": {
    "execution": {
     "iopub.execute_input": "2020-12-26T01:33:36.392833Z",
     "iopub.status.busy": "2020-12-26T01:33:36.391823Z",
     "iopub.status.idle": "2020-12-26T01:33:37.263196Z",
     "shell.execute_reply": "2020-12-26T01:33:37.262330Z"
    },
    "papermill": {
     "duration": 0.987098,
     "end_time": "2020-12-26T01:33:37.263333",
     "exception": false,
     "start_time": "2020-12-26T01:33:36.276235",
     "status": "completed"
    },
    "tags": []
   },
   "outputs": [],
   "source": [
    "train_df['timestamp']=train_df['timestamp']/(1000*3600)\n",
    "#\n",
    "train_df.timestamp=train_df.timestamp.astype('float16')"
   ]
  },
  {
   "cell_type": "code",
   "execution_count": 40,
   "metadata": {
    "execution": {
     "iopub.execute_input": "2020-12-26T01:33:37.492191Z",
     "iopub.status.busy": "2020-12-26T01:33:37.491297Z",
     "iopub.status.idle": "2020-12-26T01:33:44.265663Z",
     "shell.execute_reply": "2020-12-26T01:33:44.264988Z"
    },
    "papermill": {
     "duration": 6.890705,
     "end_time": "2020-12-26T01:33:44.265771",
     "exception": false,
     "start_time": "2020-12-26T01:33:37.375066",
     "status": "completed"
    },
    "tags": []
   },
   "outputs": [],
   "source": [
    "user_prior_question_elapsed_time = train_df[['user_id','prior_question_elapsed_time']].groupby(['user_id']).tail(1)\n",
    "user_prior_question_elapsed_time.columns = ['user_id', 'prior_question_elapsed_time']"
   ]
  },
  {
   "cell_type": "code",
   "execution_count": 41,
   "metadata": {
    "execution": {
     "iopub.execute_input": "2020-12-26T01:33:44.417173Z",
     "iopub.status.busy": "2020-12-26T01:33:44.416561Z",
     "iopub.status.idle": "2020-12-26T01:33:48.071645Z",
     "shell.execute_reply": "2020-12-26T01:33:48.071061Z"
    },
    "papermill": {
     "duration": 3.732468,
     "end_time": "2020-12-26T01:33:48.071758",
     "exception": false,
     "start_time": "2020-12-26T01:33:44.339290",
     "status": "completed"
    },
    "tags": []
   },
   "outputs": [],
   "source": [
    "\n",
    "train_df['delta_prior_question_elapsed_time'] = train_df.groupby('user_id')['prior_question_elapsed_time'].shift()\n",
    "train_df['delta_prior_question_elapsed_time']=train_df['prior_question_elapsed_time']-train_df['delta_prior_question_elapsed_time']"
   ]
  },
  {
   "cell_type": "code",
   "execution_count": 42,
   "metadata": {
    "execution": {
     "iopub.execute_input": "2020-12-26T01:33:48.230412Z",
     "iopub.status.busy": "2020-12-26T01:33:48.229587Z",
     "iopub.status.idle": "2020-12-26T01:33:48.666009Z",
     "shell.execute_reply": "2020-12-26T01:33:48.665186Z"
    },
    "papermill": {
     "duration": 0.519824,
     "end_time": "2020-12-26T01:33:48.666159",
     "exception": false,
     "start_time": "2020-12-26T01:33:48.146335",
     "status": "completed"
    },
    "tags": []
   },
   "outputs": [],
   "source": [
    "delta_prior_question_elapsed_time_mean=train_df['delta_prior_question_elapsed_time'].mean()\n",
    "train_df['delta_prior_question_elapsed_time'].fillna(delta_prior_question_elapsed_time_mean, inplace=True)\n",
    "train_df.delta_prior_question_elapsed_time=train_df.delta_prior_question_elapsed_time.astype('int32')"
   ]
  },
  {
   "cell_type": "code",
   "execution_count": 43,
   "metadata": {
    "execution": {
     "iopub.execute_input": "2020-12-26T01:33:48.901848Z",
     "iopub.status.busy": "2020-12-26T01:33:48.900622Z",
     "iopub.status.idle": "2020-12-26T01:34:12.820203Z",
     "shell.execute_reply": "2020-12-26T01:34:12.819608Z"
    },
    "papermill": {
     "duration": 24.040968,
     "end_time": "2020-12-26T01:34:12.820323",
     "exception": false,
     "start_time": "2020-12-26T01:33:48.779355",
     "status": "completed"
    },
    "tags": []
   },
   "outputs": [],
   "source": [
    "\n",
    "train_df['lag'] = train_df.groupby('user_id')[target].shift()\n",
    "\n",
    "cum = train_df.groupby('user_id')['lag'].agg(['cumsum', 'cumcount'])\n",
    "##cum['cumcount']=cum['cumcount']+1\n",
    "user_agg = train_df.groupby('user_id')['lag'].agg(['sum', 'count']).astype('int16')\n",
    "cum['cumsum'].fillna(0, inplace=True)\n",
    "\n",
    "train_df['user_correctness'] = cum['cumsum'] / cum['cumcount']\n",
    "train_df['user_correct_count'] = cum['cumsum']\n",
    "train_df['user_uncorrect_count'] = cum['cumcount']-cum['cumsum']\n",
    "#train_df['user_answer_count'] = cum['cumcount']\n",
    "train_df.drop(columns=['lag'], inplace=True)\n",
    "train_df['user_correctness'].fillna(0.67, inplace=True)\n",
    "train_df.user_correctness=train_df.user_correctness.astype('float16')\n",
    "train_df.user_correct_count=train_df.user_correct_count.astype('int16')\n",
    "train_df.user_uncorrect_count=train_df.user_uncorrect_count.astype('int16')\n",
    "#train_df.user_answer_count=train_df.user_answer_count.astype('int16')\n"
   ]
  },
  {
   "cell_type": "code",
   "execution_count": 44,
   "metadata": {
    "execution": {
     "iopub.execute_input": "2020-12-26T01:34:13.049503Z",
     "iopub.status.busy": "2020-12-26T01:34:13.048753Z",
     "iopub.status.idle": "2020-12-26T01:34:13.053673Z",
     "shell.execute_reply": "2020-12-26T01:34:13.054162Z"
    },
    "papermill": {
     "duration": 0.160452,
     "end_time": "2020-12-26T01:34:13.054294",
     "exception": false,
     "start_time": "2020-12-26T01:34:12.893842",
     "status": "completed"
    },
    "tags": []
   },
   "outputs": [
    {
     "data": {
      "text/plain": [
       "20"
      ]
     },
     "execution_count": 44,
     "metadata": {},
     "output_type": "execute_result"
    }
   ],
   "source": [
    "del cum\n",
    "gc.collect()"
   ]
  },
  {
   "cell_type": "code",
   "execution_count": 45,
   "metadata": {
    "execution": {
     "iopub.execute_input": "2020-12-26T01:34:13.208572Z",
     "iopub.status.busy": "2020-12-26T01:34:13.207783Z",
     "iopub.status.idle": "2020-12-26T01:34:13.212286Z",
     "shell.execute_reply": "2020-12-26T01:34:13.211654Z"
    },
    "papermill": {
     "duration": 0.083183,
     "end_time": "2020-12-26T01:34:13.212385",
     "exception": false,
     "start_time": "2020-12-26T01:34:13.129202",
     "status": "completed"
    },
    "tags": []
   },
   "outputs": [],
   "source": [
    "# train_df['lag'] = train_df.groupby('user_id')[target].shift(2)\n",
    "# cum = train_df.groupby('user_id')['lag'].agg(['cumsum', 'cumcount'])\n",
    "# ##cum['cumcount']=cum['cumcount']+1\n",
    "# user_agg2 = train_df.groupby('user_id')['lag'].agg(['sum', 'count']).astype('int16')\n",
    "# cum['cumsum'].fillna(0, inplace=True)\n",
    "\n",
    "# train_df['user_correctness2'] = cum['cumsum'] / cum['cumcount']\n",
    "# train_df['user_correct_count2'] = cum['cumsum']\n",
    "# train_df['user_uncorrect_count2'] = cum['cumcount']-cum['cumsum']\n",
    "# #train_df['user_answer_count2'] = cum['cumcount']\n",
    "# train_df.drop(columns=['lag'], inplace=True)\n",
    "# train_df['user_correctness2'].fillna(0.67, inplace=True)\n",
    "# train_df.user_correctness2=train_df.user_correctness2.astype('float16')\n",
    "# train_df.user_correct_count2=train_df.user_correct_count2.astype('int16')\n",
    "# train_df.user_uncorrect_count2=train_df.user_uncorrect_count2.astype('int16')\n",
    "# #train_df.user_answer_count2=train_df.user_answer_count2.astype('int16')\n",
    "# del cum\n",
    "# gc.collect()"
   ]
  },
  {
   "cell_type": "code",
   "execution_count": 46,
   "metadata": {
    "execution": {
     "iopub.execute_input": "2020-12-26T01:34:13.366779Z",
     "iopub.status.busy": "2020-12-26T01:34:13.365613Z",
     "iopub.status.idle": "2020-12-26T01:34:17.046734Z",
     "shell.execute_reply": "2020-12-26T01:34:17.046074Z"
    },
    "papermill": {
     "duration": 3.760002,
     "end_time": "2020-12-26T01:34:17.046840",
     "exception": false,
     "start_time": "2020-12-26T01:34:13.286838",
     "status": "completed"
    },
    "tags": []
   },
   "outputs": [],
   "source": [
    "train_df.prior_question_had_explanation=train_df.prior_question_had_explanation.astype('int8')\n",
    "explanation_agg = train_df.groupby('user_id')['prior_question_had_explanation'].agg(['sum', 'count'])\n",
    "explanation_agg=explanation_agg.astype('int16')\n",
    "# explanation_agg.sum=explanation_agg.sum.astype('int16')\n",
    "# explanation_agg.count=explanation_agg.count.astype('int16')\n",
    "#explanation_agg.var=explanation_agg.var.astype('float16')"
   ]
  },
  {
   "cell_type": "code",
   "execution_count": 47,
   "metadata": {
    "execution": {
     "iopub.execute_input": "2020-12-26T01:34:17.206321Z",
     "iopub.status.busy": "2020-12-26T01:34:17.205662Z",
     "iopub.status.idle": "2020-12-26T01:34:26.982569Z",
     "shell.execute_reply": "2020-12-26T01:34:26.981697Z"
    },
    "papermill": {
     "duration": 9.860953,
     "end_time": "2020-12-26T01:34:26.982708",
     "exception": false,
     "start_time": "2020-12-26T01:34:17.121755",
     "status": "completed"
    },
    "tags": []
   },
   "outputs": [],
   "source": [
    "\n",
    "\n",
    "#train_df['lag'] = train_df.groupby('user_id')['prior_question_had_explanation'].shift()\n",
    "\n",
    "cum = train_df.groupby('user_id')['prior_question_had_explanation'].agg(['cumsum', 'cumcount'])\n",
    "cum['cumcount']=cum['cumcount']+1\n",
    "train_df['explanation_mean'] = cum['cumsum'] / cum['cumcount']\n",
    "train_df['explanation_true_count'] = cum['cumsum'] \n",
    "train_df['explanation_false_count'] =  cum['cumcount']-cum['cumsum']\n",
    "#train_df.drop(columns=['lag'], inplace=True)\n",
    "\n",
    "train_df.explanation_mean=train_df.explanation_mean.astype('float16')\n",
    "train_df.explanation_true_count=train_df.explanation_true_count.astype('int16')\n",
    "train_df.explanation_false_count=train_df.explanation_false_count.astype('int16')"
   ]
  },
  {
   "cell_type": "code",
   "execution_count": 48,
   "metadata": {
    "execution": {
     "iopub.execute_input": "2020-12-26T01:34:27.285157Z",
     "iopub.status.busy": "2020-12-26T01:34:27.284182Z",
     "iopub.status.idle": "2020-12-26T01:34:27.290887Z",
     "shell.execute_reply": "2020-12-26T01:34:27.290129Z"
    },
    "papermill": {
     "duration": 0.195516,
     "end_time": "2020-12-26T01:34:27.291010",
     "exception": false,
     "start_time": "2020-12-26T01:34:27.095494",
     "status": "completed"
    },
    "tags": []
   },
   "outputs": [
    {
     "data": {
      "text/plain": [
       "33"
      ]
     },
     "execution_count": 48,
     "metadata": {},
     "output_type": "execute_result"
    }
   ],
   "source": [
    "del cum\n",
    "gc.collect()"
   ]
  },
  {
   "cell_type": "code",
   "execution_count": 49,
   "metadata": {
    "execution": {
     "iopub.execute_input": "2020-12-26T01:34:27.487000Z",
     "iopub.status.busy": "2020-12-26T01:34:27.486366Z",
     "iopub.status.idle": "2020-12-26T01:34:40.769993Z",
     "shell.execute_reply": "2020-12-26T01:34:40.769417Z"
    },
    "papermill": {
     "duration": 13.373248,
     "end_time": "2020-12-26T01:34:40.770101",
     "exception": false,
     "start_time": "2020-12-26T01:34:27.396853",
     "status": "completed"
    },
    "tags": []
   },
   "outputs": [],
   "source": [
    "content_agg = train_df.groupby('content_id')[target].agg(['sum', 'count','var'])\n",
    "task_container_agg = train_df.groupby('task_container_id')[target].agg(['sum', 'count','var'])\n",
    "content_agg=content_agg.astype('float32')\n",
    "task_container_agg=task_container_agg.astype('float32')"
   ]
  },
  {
   "cell_type": "code",
   "execution_count": 50,
   "metadata": {
    "execution": {
     "iopub.execute_input": "2020-12-26T01:34:40.928989Z",
     "iopub.status.busy": "2020-12-26T01:34:40.928120Z",
     "iopub.status.idle": "2020-12-26T01:34:45.825519Z",
     "shell.execute_reply": "2020-12-26T01:34:45.824955Z"
    },
    "papermill": {
     "duration": 4.980097,
     "end_time": "2020-12-26T01:34:45.825635",
     "exception": false,
     "start_time": "2020-12-26T01:34:40.845538",
     "status": "completed"
    },
    "tags": []
   },
   "outputs": [],
   "source": [
    "#\n",
    "train_df['task_container_uncor_count'] = train_df['task_container_id'].map(task_container_agg['count']-task_container_agg['sum']).astype('int32')\n",
    "train_df['task_container_cor_count'] = train_df['task_container_id'].map(task_container_agg['sum']).astype('int32')\n",
    "train_df['task_container_std'] = train_df['task_container_id'].map(task_container_agg['var']).astype('float16')\n",
    "train_df['task_container_correctness'] = train_df['task_container_id'].map(task_container_agg['sum'] / task_container_agg['count'])\n",
    "train_df.task_container_correctness=train_df.task_container_correctness.astype('float16')"
   ]
  },
  {
   "cell_type": "code",
   "execution_count": 51,
   "metadata": {
    "execution": {
     "iopub.execute_input": "2020-12-26T01:34:45.988560Z",
     "iopub.status.busy": "2020-12-26T01:34:45.987767Z",
     "iopub.status.idle": "2020-12-26T01:34:51.577367Z",
     "shell.execute_reply": "2020-12-26T01:34:51.576701Z"
    },
    "papermill": {
     "duration": 5.67359,
     "end_time": "2020-12-26T01:34:51.577474",
     "exception": false,
     "start_time": "2020-12-26T01:34:45.903884",
     "status": "completed"
    },
    "tags": []
   },
   "outputs": [],
   "source": [
    "content_elapsed_time_agg=train_df.groupby('content_id')['prior_question_elapsed_time'].agg(['mean'])\n",
    "content_had_explanation_agg=train_df.groupby('content_id')['prior_question_had_explanation'].agg(['mean'])"
   ]
  },
  {
   "cell_type": "code",
   "execution_count": 52,
   "metadata": {
    "execution": {
     "iopub.execute_input": "2020-12-26T01:34:51.776280Z",
     "iopub.status.busy": "2020-12-26T01:34:51.775607Z",
     "iopub.status.idle": "2020-12-26T01:34:51.779706Z",
     "shell.execute_reply": "2020-12-26T01:34:51.780189Z"
    },
    "papermill": {
     "duration": 0.126683,
     "end_time": "2020-12-26T01:34:51.780314",
     "exception": false,
     "start_time": "2020-12-26T01:34:51.653631",
     "status": "completed"
    },
    "tags": []
   },
   "outputs": [
    {
     "data": {
      "text/plain": [
       "timestamp                            float16\n",
       "user_id                                int32\n",
       "content_id                             int16\n",
       "content_type_id                         int8\n",
       "task_container_id                      int16\n",
       "answered_correctly                      int8\n",
       "prior_question_elapsed_time          float32\n",
       "prior_question_had_explanation          int8\n",
       "user_interaction_count                 int16\n",
       "user_interaction_timestamp_mean      float32\n",
       "user_lecture_sum                       int16\n",
       "user_lecture_lv                      float16\n",
       "attempt_no                              int8\n",
       "lagtime                              float32\n",
       "lagtime2                             float32\n",
       "lagtime3                             float32\n",
       "delta_prior_question_elapsed_time      int32\n",
       "user_correctness                     float16\n",
       "user_correct_count                     int16\n",
       "user_uncorrect_count                   int16\n",
       "explanation_mean                     float16\n",
       "explanation_true_count                 int16\n",
       "explanation_false_count                int16\n",
       "task_container_uncor_count             int32\n",
       "task_container_cor_count               int32\n",
       "task_container_std                   float16\n",
       "task_container_correctness           float16\n",
       "dtype: object"
      ]
     },
     "execution_count": 52,
     "metadata": {},
     "output_type": "execute_result"
    }
   ],
   "source": [
    "train_df.dtypes"
   ]
  },
  {
   "cell_type": "code",
   "execution_count": 53,
   "metadata": {
    "execution": {
     "iopub.execute_input": "2020-12-26T01:34:51.960539Z",
     "iopub.status.busy": "2020-12-26T01:34:51.959919Z",
     "iopub.status.idle": "2020-12-26T01:34:51.973921Z",
     "shell.execute_reply": "2020-12-26T01:34:51.973312Z"
    },
    "papermill": {
     "duration": 0.117226,
     "end_time": "2020-12-26T01:34:51.974051",
     "exception": false,
     "start_time": "2020-12-26T01:34:51.856825",
     "status": "completed"
    },
    "tags": []
   },
   "outputs": [
    {
     "data": {
      "text/html": [
       "<div>\n",
       "<style scoped>\n",
       "    .dataframe tbody tr th:only-of-type {\n",
       "        vertical-align: middle;\n",
       "    }\n",
       "\n",
       "    .dataframe tbody tr th {\n",
       "        vertical-align: top;\n",
       "    }\n",
       "\n",
       "    .dataframe thead th {\n",
       "        text-align: right;\n",
       "    }\n",
       "</style>\n",
       "<table border=\"1\" class=\"dataframe\">\n",
       "  <thead>\n",
       "    <tr style=\"text-align: right;\">\n",
       "      <th></th>\n",
       "      <th>timestamp</th>\n",
       "      <th>user_id</th>\n",
       "      <th>content_id</th>\n",
       "      <th>content_type_id</th>\n",
       "      <th>task_container_id</th>\n",
       "      <th>answered_correctly</th>\n",
       "      <th>prior_question_elapsed_time</th>\n",
       "      <th>prior_question_had_explanation</th>\n",
       "      <th>user_interaction_count</th>\n",
       "      <th>user_interaction_timestamp_mean</th>\n",
       "      <th>...</th>\n",
       "      <th>user_correctness</th>\n",
       "      <th>user_correct_count</th>\n",
       "      <th>user_uncorrect_count</th>\n",
       "      <th>explanation_mean</th>\n",
       "      <th>explanation_true_count</th>\n",
       "      <th>explanation_false_count</th>\n",
       "      <th>task_container_uncor_count</th>\n",
       "      <th>task_container_cor_count</th>\n",
       "      <th>task_container_std</th>\n",
       "      <th>task_container_correctness</th>\n",
       "    </tr>\n",
       "  </thead>\n",
       "  <tbody>\n",
       "    <tr>\n",
       "      <th>0</th>\n",
       "      <td>0.000000</td>\n",
       "      <td>115</td>\n",
       "      <td>5692</td>\n",
       "      <td>0</td>\n",
       "      <td>1</td>\n",
       "      <td>1</td>\n",
       "      <td>13005.081055</td>\n",
       "      <td>0</td>\n",
       "      <td>1</td>\n",
       "      <td>0.000000</td>\n",
       "      <td>...</td>\n",
       "      <td>0.669922</td>\n",
       "      <td>0</td>\n",
       "      <td>0</td>\n",
       "      <td>0.0</td>\n",
       "      <td>0</td>\n",
       "      <td>1</td>\n",
       "      <td>187175</td>\n",
       "      <td>208704</td>\n",
       "      <td>0.249268</td>\n",
       "      <td>0.527344</td>\n",
       "    </tr>\n",
       "    <tr>\n",
       "      <th>1</th>\n",
       "      <td>0.015823</td>\n",
       "      <td>115</td>\n",
       "      <td>5716</td>\n",
       "      <td>0</td>\n",
       "      <td>2</td>\n",
       "      <td>1</td>\n",
       "      <td>37000.000000</td>\n",
       "      <td>0</td>\n",
       "      <td>2</td>\n",
       "      <td>0.007909</td>\n",
       "      <td>...</td>\n",
       "      <td>1.000000</td>\n",
       "      <td>1</td>\n",
       "      <td>0</td>\n",
       "      <td>0.0</td>\n",
       "      <td>0</td>\n",
       "      <td>2</td>\n",
       "      <td>223198</td>\n",
       "      <td>172342</td>\n",
       "      <td>0.245850</td>\n",
       "      <td>0.435791</td>\n",
       "    </tr>\n",
       "    <tr>\n",
       "      <th>2</th>\n",
       "      <td>0.032867</td>\n",
       "      <td>115</td>\n",
       "      <td>128</td>\n",
       "      <td>0</td>\n",
       "      <td>0</td>\n",
       "      <td>1</td>\n",
       "      <td>55000.000000</td>\n",
       "      <td>0</td>\n",
       "      <td>3</td>\n",
       "      <td>0.010960</td>\n",
       "      <td>...</td>\n",
       "      <td>1.000000</td>\n",
       "      <td>2</td>\n",
       "      <td>0</td>\n",
       "      <td>0.0</td>\n",
       "      <td>0</td>\n",
       "      <td>3</td>\n",
       "      <td>126682</td>\n",
       "      <td>269233</td>\n",
       "      <td>0.217651</td>\n",
       "      <td>0.680176</td>\n",
       "    </tr>\n",
       "    <tr>\n",
       "      <th>3</th>\n",
       "      <td>0.036438</td>\n",
       "      <td>115</td>\n",
       "      <td>7860</td>\n",
       "      <td>0</td>\n",
       "      <td>3</td>\n",
       "      <td>1</td>\n",
       "      <td>19000.000000</td>\n",
       "      <td>0</td>\n",
       "      <td>4</td>\n",
       "      <td>0.009109</td>\n",
       "      <td>...</td>\n",
       "      <td>1.000000</td>\n",
       "      <td>3</td>\n",
       "      <td>0</td>\n",
       "      <td>0.0</td>\n",
       "      <td>0</td>\n",
       "      <td>4</td>\n",
       "      <td>180574</td>\n",
       "      <td>214721</td>\n",
       "      <td>0.248169</td>\n",
       "      <td>0.542969</td>\n",
       "    </tr>\n",
       "    <tr>\n",
       "      <th>4</th>\n",
       "      <td>0.038330</td>\n",
       "      <td>115</td>\n",
       "      <td>7922</td>\n",
       "      <td>0</td>\n",
       "      <td>4</td>\n",
       "      <td>1</td>\n",
       "      <td>11000.000000</td>\n",
       "      <td>0</td>\n",
       "      <td>5</td>\n",
       "      <td>0.007665</td>\n",
       "      <td>...</td>\n",
       "      <td>1.000000</td>\n",
       "      <td>4</td>\n",
       "      <td>0</td>\n",
       "      <td>0.0</td>\n",
       "      <td>0</td>\n",
       "      <td>5</td>\n",
       "      <td>361957</td>\n",
       "      <td>330079</td>\n",
       "      <td>0.249512</td>\n",
       "      <td>0.477051</td>\n",
       "    </tr>\n",
       "  </tbody>\n",
       "</table>\n",
       "<p>5 rows × 27 columns</p>\n",
       "</div>"
      ],
      "text/plain": [
       "   timestamp  user_id  content_id  content_type_id  task_container_id  \\\n",
       "0   0.000000      115        5692                0                  1   \n",
       "1   0.015823      115        5716                0                  2   \n",
       "2   0.032867      115         128                0                  0   \n",
       "3   0.036438      115        7860                0                  3   \n",
       "4   0.038330      115        7922                0                  4   \n",
       "\n",
       "   answered_correctly  prior_question_elapsed_time  \\\n",
       "0                   1                 13005.081055   \n",
       "1                   1                 37000.000000   \n",
       "2                   1                 55000.000000   \n",
       "3                   1                 19000.000000   \n",
       "4                   1                 11000.000000   \n",
       "\n",
       "   prior_question_had_explanation  user_interaction_count  \\\n",
       "0                               0                       1   \n",
       "1                               0                       2   \n",
       "2                               0                       3   \n",
       "3                               0                       4   \n",
       "4                               0                       5   \n",
       "\n",
       "   user_interaction_timestamp_mean  ...  user_correctness  user_correct_count  \\\n",
       "0                         0.000000  ...          0.669922                   0   \n",
       "1                         0.007909  ...          1.000000                   1   \n",
       "2                         0.010960  ...          1.000000                   2   \n",
       "3                         0.009109  ...          1.000000                   3   \n",
       "4                         0.007665  ...          1.000000                   4   \n",
       "\n",
       "   user_uncorrect_count  explanation_mean  explanation_true_count  \\\n",
       "0                     0               0.0                       0   \n",
       "1                     0               0.0                       0   \n",
       "2                     0               0.0                       0   \n",
       "3                     0               0.0                       0   \n",
       "4                     0               0.0                       0   \n",
       "\n",
       "   explanation_false_count  task_container_uncor_count  \\\n",
       "0                        1                      187175   \n",
       "1                        2                      223198   \n",
       "2                        3                      126682   \n",
       "3                        4                      180574   \n",
       "4                        5                      361957   \n",
       "\n",
       "   task_container_cor_count  task_container_std  task_container_correctness  \n",
       "0                    208704            0.249268                    0.527344  \n",
       "1                    172342            0.245850                    0.435791  \n",
       "2                    269233            0.217651                    0.680176  \n",
       "3                    214721            0.248169                    0.542969  \n",
       "4                    330079            0.249512                    0.477051  \n",
       "\n",
       "[5 rows x 27 columns]"
      ]
     },
     "execution_count": 53,
     "metadata": {},
     "output_type": "execute_result"
    }
   ],
   "source": [
    "train_df.head()"
   ]
  },
  {
   "cell_type": "code",
   "execution_count": 54,
   "metadata": {
    "execution": {
     "iopub.execute_input": "2020-12-26T01:34:52.136584Z",
     "iopub.status.busy": "2020-12-26T01:34:52.135719Z",
     "iopub.status.idle": "2020-12-26T01:34:52.139656Z",
     "shell.execute_reply": "2020-12-26T01:34:52.138916Z"
    },
    "papermill": {
     "duration": 0.088128,
     "end_time": "2020-12-26T01:34:52.139764",
     "exception": false,
     "start_time": "2020-12-26T01:34:52.051636",
     "status": "completed"
    },
    "tags": []
   },
   "outputs": [
    {
     "name": "stdout",
     "output_type": "stream",
     "text": [
      "start questions data...\n"
     ]
    }
   ],
   "source": [
    "print('start questions data...')"
   ]
  },
  {
   "cell_type": "code",
   "execution_count": 55,
   "metadata": {
    "execution": {
     "iopub.execute_input": "2020-12-26T01:34:52.307103Z",
     "iopub.status.busy": "2020-12-26T01:34:52.306476Z",
     "iopub.status.idle": "2020-12-26T01:34:52.328703Z",
     "shell.execute_reply": "2020-12-26T01:34:52.327838Z"
    },
    "papermill": {
     "duration": 0.110721,
     "end_time": "2020-12-26T01:34:52.328833",
     "exception": false,
     "start_time": "2020-12-26T01:34:52.218112",
     "status": "completed"
    },
    "tags": []
   },
   "outputs": [],
   "source": [
    "questions_df = pd.read_csv(\n",
    "    '../input/riiid-test-answer-prediction/questions.csv', \n",
    "    usecols=[0, 1,3,4],\n",
    "    dtype={'question_id': 'int16','bundle_id': 'int16', 'part': 'int8','tags': 'str'}\n",
    ")"
   ]
  },
  {
   "cell_type": "code",
   "execution_count": 56,
   "metadata": {
    "execution": {
     "iopub.execute_input": "2020-12-26T01:34:52.572573Z",
     "iopub.status.busy": "2020-12-26T01:34:52.571883Z",
     "iopub.status.idle": "2020-12-26T01:34:52.581906Z",
     "shell.execute_reply": "2020-12-26T01:34:52.581330Z"
    },
    "papermill": {
     "duration": 0.134381,
     "end_time": "2020-12-26T01:34:52.582015",
     "exception": false,
     "start_time": "2020-12-26T01:34:52.447634",
     "status": "completed"
    },
    "tags": []
   },
   "outputs": [],
   "source": [
    "bundle_agg = questions_df.groupby('bundle_id')['question_id'].agg(['count'])"
   ]
  },
  {
   "cell_type": "code",
   "execution_count": 57,
   "metadata": {
    "execution": {
     "iopub.execute_input": "2020-12-26T01:34:52.743208Z",
     "iopub.status.busy": "2020-12-26T01:34:52.742131Z",
     "iopub.status.idle": "2020-12-26T01:34:52.746975Z",
     "shell.execute_reply": "2020-12-26T01:34:52.747637Z"
    },
    "papermill": {
     "duration": 0.088476,
     "end_time": "2020-12-26T01:34:52.747799",
     "exception": false,
     "start_time": "2020-12-26T01:34:52.659323",
     "status": "completed"
    },
    "tags": []
   },
   "outputs": [],
   "source": [
    "questions_df['content_sub_bundle'] = questions_df['bundle_id'].map(bundle_agg['count']).astype('int8')"
   ]
  },
  {
   "cell_type": "code",
   "execution_count": 58,
   "metadata": {
    "execution": {
     "iopub.execute_input": "2020-12-26T01:34:52.993772Z",
     "iopub.status.busy": "2020-12-26T01:34:52.993115Z",
     "iopub.status.idle": "2020-12-26T01:34:52.996844Z",
     "shell.execute_reply": "2020-12-26T01:34:52.996251Z"
    },
    "papermill": {
     "duration": 0.129412,
     "end_time": "2020-12-26T01:34:52.996947",
     "exception": false,
     "start_time": "2020-12-26T01:34:52.867535",
     "status": "completed"
    },
    "tags": []
   },
   "outputs": [],
   "source": [
    "\n",
    "questions_df['tags'].fillna('188', inplace=True)"
   ]
  },
  {
   "cell_type": "code",
   "execution_count": 59,
   "metadata": {
    "execution": {
     "iopub.execute_input": "2020-12-26T01:34:53.160385Z",
     "iopub.status.busy": "2020-12-26T01:34:53.159664Z",
     "iopub.status.idle": "2020-12-26T01:34:53.163285Z",
     "shell.execute_reply": "2020-12-26T01:34:53.162665Z"
    },
    "papermill": {
     "duration": 0.088533,
     "end_time": "2020-12-26T01:34:53.163390",
     "exception": false,
     "start_time": "2020-12-26T01:34:53.074857",
     "status": "completed"
    },
    "tags": []
   },
   "outputs": [],
   "source": [
    "def gettags(tags,num):\n",
    "    tags_splits=tags.split(\" \")\n",
    "    result='' \n",
    "    for t in tags_splits:\n",
    "        x=int(t)\n",
    "        if(x<32*(num+1) and x>=32*num):#num \n",
    "            result=result+' '+t\n",
    "    return result"
   ]
  },
  {
   "cell_type": "code",
   "execution_count": 60,
   "metadata": {
    "execution": {
     "iopub.execute_input": "2020-12-26T01:34:53.335686Z",
     "iopub.status.busy": "2020-12-26T01:34:53.329244Z",
     "iopub.status.idle": "2020-12-26T01:34:53.748932Z",
     "shell.execute_reply": "2020-12-26T01:34:53.748412Z"
    },
    "papermill": {
     "duration": 0.506943,
     "end_time": "2020-12-26T01:34:53.749041",
     "exception": false,
     "start_time": "2020-12-26T01:34:53.242098",
     "status": "completed"
    },
    "tags": []
   },
   "outputs": [],
   "source": [
    "from sklearn.preprocessing import LabelEncoder\n",
    "for num in range(0,6):\n",
    "    questions_df[\"tags\"+str(num)] = questions_df[\"tags\"].apply(lambda row: gettags(row,num))\n",
    "    le = LabelEncoder()\n",
    "    le.fit(np.unique(questions_df['tags'+str(num)].values))\n",
    "    #questions_df[['tags'+str(num)]=\n",
    "    questions_df['tags'+str(num)]=questions_df[['tags'+str(num)]].apply(le.transform)"
   ]
  },
  {
   "cell_type": "code",
   "execution_count": 61,
   "metadata": {
    "execution": {
     "iopub.execute_input": "2020-12-26T01:34:53.919308Z",
     "iopub.status.busy": "2020-12-26T01:34:53.918299Z",
     "iopub.status.idle": "2020-12-26T01:34:53.923247Z",
     "shell.execute_reply": "2020-12-26T01:34:53.922426Z"
    },
    "papermill": {
     "duration": 0.095007,
     "end_time": "2020-12-26T01:34:53.923378",
     "exception": false,
     "start_time": "2020-12-26T01:34:53.828371",
     "status": "completed"
    },
    "tags": []
   },
   "outputs": [],
   "source": [
    "questions_df_dict = {   \n",
    "    'tags0': 'int8',\n",
    "    'tags1': 'int8',\n",
    "    'tags2': 'int8',\n",
    "    'tags3': 'int8',\n",
    "    'tags4': 'int8',\n",
    "    'tags5': 'int8',\n",
    "    #'tags6': 'int8',\n",
    "    #'tags7': 'int8'\n",
    "}\n",
    "questions_df = questions_df.astype(questions_df_dict)"
   ]
  },
  {
   "cell_type": "code",
   "execution_count": 62,
   "metadata": {
    "execution": {
     "iopub.execute_input": "2020-12-26T01:34:54.167353Z",
     "iopub.status.busy": "2020-12-26T01:34:54.166727Z",
     "iopub.status.idle": "2020-12-26T01:34:54.170099Z",
     "shell.execute_reply": "2020-12-26T01:34:54.169507Z"
    },
    "papermill": {
     "duration": 0.12806,
     "end_time": "2020-12-26T01:34:54.170230",
     "exception": false,
     "start_time": "2020-12-26T01:34:54.042170",
     "status": "completed"
    },
    "tags": []
   },
   "outputs": [],
   "source": [
    "questions_df.drop(columns=['tags'], inplace=True)"
   ]
  },
  {
   "cell_type": "code",
   "execution_count": 63,
   "metadata": {
    "execution": {
     "iopub.execute_input": "2020-12-26T01:34:54.336112Z",
     "iopub.status.busy": "2020-12-26T01:34:54.335250Z",
     "iopub.status.idle": "2020-12-26T01:34:54.339762Z",
     "shell.execute_reply": "2020-12-26T01:34:54.338913Z"
    },
    "papermill": {
     "duration": 0.091295,
     "end_time": "2020-12-26T01:34:54.339887",
     "exception": false,
     "start_time": "2020-12-26T01:34:54.248592",
     "status": "completed"
    },
    "tags": []
   },
   "outputs": [],
   "source": [
    "\n",
    "questions_df['part_bundle_id']=questions_df['part']*100000+questions_df['bundle_id']\n",
    "questions_df.part_bundle_id=questions_df.part_bundle_id.astype('int32')\n",
    "# tag = questions_df[\"tags\"].str.split(\" \", n = 10, expand = True)\n",
    "# tag.columns = ['tags1','tags2','tags3','tags4','tags5','tags6']\n",
    "# #\n",
    "\n",
    "# tag.fillna(0, inplace=True)\n",
    "# tag = tag.astype('int16')\n",
    "# questions_df =  pd.concat([questions_df,tag],axis=1).drop(['tags'],axis=1)"
   ]
  },
  {
   "cell_type": "code",
   "execution_count": 64,
   "metadata": {
    "execution": {
     "iopub.execute_input": "2020-12-26T01:34:54.586088Z",
     "iopub.status.busy": "2020-12-26T01:34:54.585513Z",
     "iopub.status.idle": "2020-12-26T01:34:54.589000Z",
     "shell.execute_reply": "2020-12-26T01:34:54.588525Z"
    },
    "papermill": {
     "duration": 0.128379,
     "end_time": "2020-12-26T01:34:54.589100",
     "exception": false,
     "start_time": "2020-12-26T01:34:54.460721",
     "status": "completed"
    },
    "tags": []
   },
   "outputs": [],
   "source": [
    "# questions_cmnts = pd.read_csv(\n",
    "#     '../input/2020-r3id-clustering-question-tags/question_cmnts.csv', \n",
    "#     usecols=[1,2],\n",
    "#     dtype={'question_id': 'int16','community': 'int8'}\n",
    "# )"
   ]
  },
  {
   "cell_type": "code",
   "execution_count": 65,
   "metadata": {
    "execution": {
     "iopub.execute_input": "2020-12-26T01:34:54.751359Z",
     "iopub.status.busy": "2020-12-26T01:34:54.750739Z",
     "iopub.status.idle": "2020-12-26T01:34:54.753791Z",
     "shell.execute_reply": "2020-12-26T01:34:54.753212Z"
    },
    "papermill": {
     "duration": 0.086282,
     "end_time": "2020-12-26T01:34:54.753899",
     "exception": false,
     "start_time": "2020-12-26T01:34:54.667617",
     "status": "completed"
    },
    "tags": []
   },
   "outputs": [],
   "source": [
    "# questions_df = pd.merge(questions_df, questions_cmnts, on='question_id', how='left',right_index=True)#"
   ]
  },
  {
   "cell_type": "code",
   "execution_count": 66,
   "metadata": {
    "execution": {
     "iopub.execute_input": "2020-12-26T01:34:54.919991Z",
     "iopub.status.busy": "2020-12-26T01:34:54.918926Z",
     "iopub.status.idle": "2020-12-26T01:34:54.923542Z",
     "shell.execute_reply": "2020-12-26T01:34:54.922730Z"
    },
    "papermill": {
     "duration": 0.090846,
     "end_time": "2020-12-26T01:34:54.923669",
     "exception": false,
     "start_time": "2020-12-26T01:34:54.832823",
     "status": "completed"
    },
    "tags": []
   },
   "outputs": [],
   "source": [
    "questions_df.rename(columns={'question_id':'content_id'}, inplace=True)"
   ]
  },
  {
   "cell_type": "code",
   "execution_count": 67,
   "metadata": {
    "execution": {
     "iopub.execute_input": "2020-12-26T01:34:55.173972Z",
     "iopub.status.busy": "2020-12-26T01:34:55.173186Z",
     "iopub.status.idle": "2020-12-26T01:34:55.184987Z",
     "shell.execute_reply": "2020-12-26T01:34:55.184301Z"
    },
    "papermill": {
     "duration": 0.140692,
     "end_time": "2020-12-26T01:34:55.185116",
     "exception": false,
     "start_time": "2020-12-26T01:34:55.044424",
     "status": "completed"
    },
    "tags": []
   },
   "outputs": [],
   "source": [
    "questions_df = pd.merge(questions_df, content_explation_agg, on='content_id', how='left',right_index=True)#\n",
    "# questions_df.content_explation_false_mean=questions_df.content_explation_false_mean.astype('float16')\n",
    "# questions_df.content_explation_true_mean=questions_df.content_explation_true_mean.astype('float16')"
   ]
  },
  {
   "cell_type": "code",
   "execution_count": 68,
   "metadata": {
    "execution": {
     "iopub.execute_input": "2020-12-26T01:34:55.432438Z",
     "iopub.status.busy": "2020-12-26T01:34:55.431501Z",
     "iopub.status.idle": "2020-12-26T01:34:55.434332Z",
     "shell.execute_reply": "2020-12-26T01:34:55.434809Z"
    },
    "papermill": {
     "duration": 0.129157,
     "end_time": "2020-12-26T01:34:55.434980",
     "exception": false,
     "start_time": "2020-12-26T01:34:55.305823",
     "status": "completed"
    },
    "tags": []
   },
   "outputs": [],
   "source": [
    "del content_explation_agg"
   ]
  },
  {
   "cell_type": "code",
   "execution_count": 69,
   "metadata": {
    "execution": {
     "iopub.execute_input": "2020-12-26T01:34:55.603472Z",
     "iopub.status.busy": "2020-12-26T01:34:55.602833Z",
     "iopub.status.idle": "2020-12-26T01:34:55.612667Z",
     "shell.execute_reply": "2020-12-26T01:34:55.611936Z"
    },
    "papermill": {
     "duration": 0.097913,
     "end_time": "2020-12-26T01:34:55.612805",
     "exception": false,
     "start_time": "2020-12-26T01:34:55.514892",
     "status": "completed"
    },
    "tags": []
   },
   "outputs": [],
   "source": [
    "questions_df['content_correctness'] = questions_df['content_id'].map(content_agg['sum'] / content_agg['count'])\n",
    "questions_df.content_correctness=questions_df.content_correctness.astype('float16')\n",
    "questions_df['content_correctness_std'] = questions_df['content_id'].map(content_agg['var'])\n",
    "questions_df.content_correctness_std=questions_df.content_correctness_std.astype('float16')\n",
    "questions_df['content_uncorrect_count'] = questions_df['content_id'].map(content_agg['count']-content_agg['sum']).astype('int32')\n",
    "questions_df['content_correct_count'] = questions_df['content_id'].map(content_agg['sum']).astype('int32')"
   ]
  },
  {
   "cell_type": "code",
   "execution_count": 70,
   "metadata": {
    "execution": {
     "iopub.execute_input": "2020-12-26T01:34:55.778938Z",
     "iopub.status.busy": "2020-12-26T01:34:55.777999Z",
     "iopub.status.idle": "2020-12-26T01:34:55.787162Z",
     "shell.execute_reply": "2020-12-26T01:34:55.786647Z"
    },
    "papermill": {
     "duration": 0.095552,
     "end_time": "2020-12-26T01:34:55.787266",
     "exception": false,
     "start_time": "2020-12-26T01:34:55.691714",
     "status": "completed"
    },
    "tags": []
   },
   "outputs": [],
   "source": [
    "questions_df['content_elapsed_time_mean'] = questions_df['content_id'].map(content_elapsed_time_agg['mean'])\n",
    "questions_df.content_elapsed_time_mean=questions_df.content_elapsed_time_mean.astype('float16')\n",
    "questions_df['content_had_explanation_mean'] = questions_df['content_id'].map(content_had_explanation_agg['mean'])\n",
    "questions_df.content_had_explanation_mean=questions_df.content_had_explanation_mean.astype('float16')"
   ]
  },
  {
   "cell_type": "code",
   "execution_count": 71,
   "metadata": {
    "execution": {
     "iopub.execute_input": "2020-12-26T01:34:56.063334Z",
     "iopub.status.busy": "2020-12-26T01:34:56.062432Z",
     "iopub.status.idle": "2020-12-26T01:34:56.068435Z",
     "shell.execute_reply": "2020-12-26T01:34:56.067894Z"
    },
    "papermill": {
     "duration": 0.201908,
     "end_time": "2020-12-26T01:34:56.068556",
     "exception": false,
     "start_time": "2020-12-26T01:34:55.866648",
     "status": "completed"
    },
    "tags": []
   },
   "outputs": [
    {
     "data": {
      "text/plain": [
       "233"
      ]
     },
     "execution_count": 71,
     "metadata": {},
     "output_type": "execute_result"
    }
   ],
   "source": [
    "del content_elapsed_time_agg\n",
    "del content_had_explanation_agg\n",
    "gc.collect()"
   ]
  },
  {
   "cell_type": "code",
   "execution_count": 72,
   "metadata": {
    "execution": {
     "iopub.execute_input": "2020-12-26T01:34:56.259817Z",
     "iopub.status.busy": "2020-12-26T01:34:56.258262Z",
     "iopub.status.idle": "2020-12-26T01:34:56.269370Z",
     "shell.execute_reply": "2020-12-26T01:34:56.268754Z"
    },
    "papermill": {
     "duration": 0.119933,
     "end_time": "2020-12-26T01:34:56.269498",
     "exception": false,
     "start_time": "2020-12-26T01:34:56.149565",
     "status": "completed"
    },
    "tags": []
   },
   "outputs": [],
   "source": [
    "part_agg = questions_df.groupby('part')['content_correctness'].agg(['mean', 'var'])\n",
    "questions_df['part_correctness_mean'] = questions_df['part'].map(part_agg['mean'])\n",
    "questions_df['part_correctness_std'] = questions_df['part'].map(part_agg['var'])\n",
    "questions_df.part_correctness_mean=questions_df.part_correctness_mean.astype('float16')\n",
    "questions_df.part_correctness_std=questions_df.part_correctness_std.astype('float16')"
   ]
  },
  {
   "cell_type": "code",
   "execution_count": 73,
   "metadata": {
    "execution": {
     "iopub.execute_input": "2020-12-26T01:34:56.460085Z",
     "iopub.status.busy": "2020-12-26T01:34:56.459484Z",
     "iopub.status.idle": "2020-12-26T01:34:56.475475Z",
     "shell.execute_reply": "2020-12-26T01:34:56.474937Z"
    },
    "papermill": {
     "duration": 0.117898,
     "end_time": "2020-12-26T01:34:56.475581",
     "exception": false,
     "start_time": "2020-12-26T01:34:56.357683",
     "status": "completed"
    },
    "tags": []
   },
   "outputs": [],
   "source": [
    "part_agg = questions_df.groupby('part')['content_uncorrect_count'].agg(['sum'])\n",
    "questions_df['part_uncor_count'] = questions_df['part'].map(part_agg['sum']).astype('int32')\n",
    "#\n",
    "part_agg = questions_df.groupby('part')['content_correct_count'].agg(['sum'])\n",
    "questions_df['part_cor_count'] = questions_df['part'].map(part_agg['sum']).astype('int32')"
   ]
  },
  {
   "cell_type": "code",
   "execution_count": 74,
   "metadata": {
    "execution": {
     "iopub.execute_input": "2020-12-26T01:34:56.644122Z",
     "iopub.status.busy": "2020-12-26T01:34:56.643322Z",
     "iopub.status.idle": "2020-12-26T01:34:56.653616Z",
     "shell.execute_reply": "2020-12-26T01:34:56.652771Z"
    },
    "papermill": {
     "duration": 0.097255,
     "end_time": "2020-12-26T01:34:56.653742",
     "exception": false,
     "start_time": "2020-12-26T01:34:56.556487",
     "status": "completed"
    },
    "tags": []
   },
   "outputs": [],
   "source": [
    "bundle_agg = questions_df.groupby('bundle_id')['content_correctness'].agg(['mean'])\n",
    "questions_df['bundle_correctness_mean'] = questions_df['bundle_id'].map(bundle_agg['mean'])\n",
    "questions_df.bundle_correctness_mean=questions_df.bundle_correctness_mean.astype('float16')\n",
    "\n",
    "# bundle_agg = questions_df.groupby('bundle_id')['content_uncorrect_count'].agg(['sum'])\n",
    "# questions_df['bundle_uncor_count'] = questions_df['bundle_id'].map(bundle_agg['sum']).astype('int32')\n",
    "# #\n",
    "# bundle_agg = questions_df.groupby('bundle_id')['content_correct_count'].agg(['sum'])\n",
    "# questions_df['bundle_cor_count'] = questions_df['bundle_id'].map(bundle_agg['sum']).astype('int32')"
   ]
  },
  {
   "cell_type": "code",
   "execution_count": 75,
   "metadata": {
    "execution": {
     "iopub.execute_input": "2020-12-26T01:34:56.863992Z",
     "iopub.status.busy": "2020-12-26T01:34:56.863101Z",
     "iopub.status.idle": "2020-12-26T01:34:56.866680Z",
     "shell.execute_reply": "2020-12-26T01:34:56.866193Z"
    },
    "papermill": {
     "duration": 0.089443,
     "end_time": "2020-12-26T01:34:56.866780",
     "exception": false,
     "start_time": "2020-12-26T01:34:56.777337",
     "status": "completed"
    },
    "tags": []
   },
   "outputs": [],
   "source": [
    "#questions_df.loc[questions_df['content_sub_bundle'] !=0, 'content_sub_bundle']=1 #修改列\"content_sub_bundle\"的值，推荐使用.loc"
   ]
  },
  {
   "cell_type": "code",
   "execution_count": 76,
   "metadata": {
    "execution": {
     "iopub.execute_input": "2020-12-26T01:34:57.032314Z",
     "iopub.status.busy": "2020-12-26T01:34:57.031472Z",
     "iopub.status.idle": "2020-12-26T01:34:57.034702Z",
     "shell.execute_reply": "2020-12-26T01:34:57.033893Z"
    },
    "papermill": {
     "duration": 0.087199,
     "end_time": "2020-12-26T01:34:57.034819",
     "exception": false,
     "start_time": "2020-12-26T01:34:56.947620",
     "status": "completed"
    },
    "tags": []
   },
   "outputs": [],
   "source": [
    "# tags1_agg = questions_df.groupby('tags0')['content_correctness'].agg(['mean', 'var'])\n",
    "# questions_df['tags0_correctness_mean'] = questions_df['tags0'].map(tags1_agg['mean'])\n",
    "# questions_df.tags0_correctness_mean=questions_df.tags0_correctness_mean.astype('float16')\n",
    "\n",
    "# tags1_agg = questions_df.groupby('tags1')['content_correctness'].agg(['mean', 'var'])\n",
    "# questions_df['tags1_correctness_mean'] = questions_df['tags1'].map(tags1_agg['mean'])\n",
    "# questions_df.tags1_correctness_mean=questions_df.tags1_correctness_mean.astype('float16')\n",
    "\n",
    "# tags1_agg = questions_df.groupby('tags2')['content_correctness'].agg(['mean', 'var'])\n",
    "# questions_df['tags2_correctness_mean'] = questions_df['tags2'].map(tags1_agg['mean'])\n",
    "# questions_df.tags2_correctness_mean=questions_df.tags2_correctness_mean.astype('float16')\n",
    "\n",
    "# tags1_agg = questions_df.groupby('tags4')['content_correctness'].agg(['mean', 'var'])\n",
    "# questions_df['tags4_correctness_mean'] = questions_df['tags4'].map(tags1_agg['mean'])\n",
    "# questions_df.tags4_correctness_mean=questions_df.tags4_correctness_mean.astype('float16')\n",
    "\n",
    "# questions_df['tags1_correctness_std'] = questions_df['tags1'].map(tags1_agg['var'])\n",
    "\n",
    "# questions_df.tags1_correctness_std=questions_df.tags1_correctness_std.astype('float16')\n",
    "# tags1_agg = questions_df.groupby('tags1')['content_uncorrect_count'].agg(['sum'])\n",
    "# questions_df['tags1_uncor_count'] = questions_df['tags1'].map(tags1_agg['sum']).astype('int32')\n",
    "# #\n",
    "# tags1_agg = questions_df.groupby('tags1')['content_correct_count'].agg(['sum'])\n",
    "# questions_df['tags1_cor_count'] = questions_df['tags1'].map(tags1_agg['sum']).astype('int32')"
   ]
  },
  {
   "cell_type": "code",
   "execution_count": 77,
   "metadata": {
    "execution": {
     "iopub.execute_input": "2020-12-26T01:34:57.286710Z",
     "iopub.status.busy": "2020-12-26T01:34:57.285933Z",
     "iopub.status.idle": "2020-12-26T01:34:57.292209Z",
     "shell.execute_reply": "2020-12-26T01:34:57.291647Z"
    },
    "papermill": {
     "duration": 0.134005,
     "end_time": "2020-12-26T01:34:57.292314",
     "exception": false,
     "start_time": "2020-12-26T01:34:57.158309",
     "status": "completed"
    },
    "tags": []
   },
   "outputs": [
    {
     "data": {
      "text/plain": [
       "content_id                        int16\n",
       "bundle_id                         int16\n",
       "part                               int8\n",
       "content_sub_bundle                 int8\n",
       "tags0                              int8\n",
       "tags1                              int8\n",
       "tags2                              int8\n",
       "tags3                              int8\n",
       "tags4                              int8\n",
       "tags5                              int8\n",
       "part_bundle_id                    int32\n",
       "content_explation_false_mean    float16\n",
       "content_explation_true_mean     float16\n",
       "content_correctness             float16\n",
       "content_correctness_std         float16\n",
       "content_uncorrect_count           int32\n",
       "content_correct_count             int32\n",
       "content_elapsed_time_mean       float16\n",
       "content_had_explanation_mean    float16\n",
       "part_correctness_mean           float16\n",
       "part_correctness_std            float16\n",
       "part_uncor_count                  int32\n",
       "part_cor_count                    int32\n",
       "bundle_correctness_mean         float16\n",
       "dtype: object"
      ]
     },
     "execution_count": 77,
     "metadata": {},
     "output_type": "execute_result"
    }
   ],
   "source": [
    "questions_df.dtypes"
   ]
  },
  {
   "cell_type": "code",
   "execution_count": 78,
   "metadata": {
    "execution": {
     "iopub.execute_input": "2020-12-26T01:34:57.526275Z",
     "iopub.status.busy": "2020-12-26T01:34:57.525431Z",
     "iopub.status.idle": "2020-12-26T01:34:57.532290Z",
     "shell.execute_reply": "2020-12-26T01:34:57.531302Z"
    },
    "papermill": {
     "duration": 0.158883,
     "end_time": "2020-12-26T01:34:57.532482",
     "exception": false,
     "start_time": "2020-12-26T01:34:57.373599",
     "status": "completed"
    },
    "tags": []
   },
   "outputs": [
    {
     "data": {
      "text/plain": [
       "140"
      ]
     },
     "execution_count": 78,
     "metadata": {},
     "output_type": "execute_result"
    }
   ],
   "source": [
    "del content_agg\n",
    "del bundle_agg\n",
    "del part_agg\n",
    "#del tags1_agg\n",
    "gc.collect()"
   ]
  },
  {
   "cell_type": "code",
   "execution_count": 79,
   "metadata": {
    "execution": {
     "iopub.execute_input": "2020-12-26T01:34:57.788123Z",
     "iopub.status.busy": "2020-12-26T01:34:57.787519Z",
     "iopub.status.idle": "2020-12-26T01:34:57.790607Z",
     "shell.execute_reply": "2020-12-26T01:34:57.789970Z"
    },
    "papermill": {
     "duration": 0.131526,
     "end_time": "2020-12-26T01:34:57.790707",
     "exception": false,
     "start_time": "2020-12-26T01:34:57.659181",
     "status": "completed"
    },
    "tags": []
   },
   "outputs": [],
   "source": [
    "#pd.set_option(\"display.max_columns\",500)"
   ]
  },
  {
   "cell_type": "code",
   "execution_count": 80,
   "metadata": {
    "execution": {
     "iopub.execute_input": "2020-12-26T01:34:57.958071Z",
     "iopub.status.busy": "2020-12-26T01:34:57.957333Z",
     "iopub.status.idle": "2020-12-26T01:34:57.960946Z",
     "shell.execute_reply": "2020-12-26T01:34:57.960358Z"
    },
    "papermill": {
     "duration": 0.08935,
     "end_time": "2020-12-26T01:34:57.961055",
     "exception": false,
     "start_time": "2020-12-26T01:34:57.871705",
     "status": "completed"
    },
    "tags": []
   },
   "outputs": [],
   "source": [
    "#questions_df.drop(columns=['tags4','tags5','tags6'], inplace=True)"
   ]
  },
  {
   "cell_type": "code",
   "execution_count": 81,
   "metadata": {
    "execution": {
     "iopub.execute_input": "2020-12-26T01:34:58.128263Z",
     "iopub.status.busy": "2020-12-26T01:34:58.127387Z",
     "iopub.status.idle": "2020-12-26T01:34:58.133003Z",
     "shell.execute_reply": "2020-12-26T01:34:58.132190Z"
    },
    "papermill": {
     "duration": 0.091009,
     "end_time": "2020-12-26T01:34:58.133124",
     "exception": false,
     "start_time": "2020-12-26T01:34:58.042115",
     "status": "completed"
    },
    "tags": []
   },
   "outputs": [
    {
     "data": {
      "text/plain": [
       "99271300"
      ]
     },
     "execution_count": 81,
     "metadata": {},
     "output_type": "execute_result"
    }
   ],
   "source": [
    "len(train_df)"
   ]
  },
  {
   "cell_type": "code",
   "execution_count": 82,
   "metadata": {
    "execution": {
     "iopub.execute_input": "2020-12-26T01:34:58.390981Z",
     "iopub.status.busy": "2020-12-26T01:34:58.390376Z",
     "iopub.status.idle": "2020-12-26T01:34:58.393106Z",
     "shell.execute_reply": "2020-12-26T01:34:58.393589Z"
    },
    "papermill": {
     "duration": 0.133265,
     "end_time": "2020-12-26T01:34:58.393855",
     "exception": false,
     "start_time": "2020-12-26T01:34:58.260590",
     "status": "completed"
    },
    "tags": []
   },
   "outputs": [],
   "source": [
    "#train_df.drop(columns=['content_type_id'], inplace=True)"
   ]
  },
  {
   "cell_type": "markdown",
   "metadata": {
    "papermill": {
     "duration": 0.080987,
     "end_time": "2020-12-26T01:34:58.556624",
     "exception": false,
     "start_time": "2020-12-26T01:34:58.475637",
     "status": "completed"
    },
    "tags": []
   },
   "source": [
    "# Train"
   ]
  },
  {
   "cell_type": "code",
   "execution_count": 83,
   "metadata": {
    "execution": {
     "iopub.execute_input": "2020-12-26T01:34:58.732582Z",
     "iopub.status.busy": "2020-12-26T01:34:58.731891Z",
     "iopub.status.idle": "2020-12-26T01:34:58.735935Z",
     "shell.execute_reply": "2020-12-26T01:34:58.735276Z"
    },
    "papermill": {
     "duration": 0.09778,
     "end_time": "2020-12-26T01:34:58.736077",
     "exception": false,
     "start_time": "2020-12-26T01:34:58.638297",
     "status": "completed"
    },
    "tags": []
   },
   "outputs": [],
   "source": [
    "features_dict = {\n",
    "    #'user_id',\n",
    "    'timestamp':'float16',#\n",
    "    'user_interaction_count':'int16',\n",
    "    'user_interaction_timestamp_mean':'float32',\n",
    "    'lagtime':'float32',#\n",
    "    'lagtime2':'float32',\n",
    "    'lagtime3':'float32',\n",
    "    #'lagtime_mean':'int32',\n",
    "    'content_id':'int16',\n",
    "    'task_container_id':'int16',\n",
    "    'user_lecture_sum':'int16',#\n",
    "    'user_lecture_lv':'float16',##\n",
    "    'prior_question_elapsed_time':'float32',#\n",
    "    'delta_prior_question_elapsed_time':'int32',#\n",
    "    'user_correctness':'float16',#\n",
    "    'user_uncorrect_count':'int16',#\n",
    "    'user_correct_count':'int16',#\n",
    "    #'content_correctness':'float16',\n",
    "    'content_correctness_std':'float16',\n",
    "    'content_correct_count':'int32',\n",
    "    'content_uncorrect_count':'int32',#\n",
    "    'content_elapsed_time_mean':'float16',\n",
    "    'content_had_explanation_mean':'float16',\n",
    "    'content_explation_false_mean':'float16',\n",
    "    'content_explation_true_mean':'float16',\n",
    "    'task_container_correctness':'float16',\n",
    "    'task_container_std':'float16',\n",
    "    'task_container_cor_count':'int32',#\n",
    "    'task_container_uncor_count':'int32',#\n",
    "    'attempt_no':'int8',#\n",
    "    'part':'int8',\n",
    "    'part_correctness_mean':'float16',\n",
    "    'part_correctness_std':'float16',\n",
    "    'part_uncor_count':'int32',\n",
    "    'part_cor_count':'int32',\n",
    "    'tags0': 'int8',\n",
    "    'tags1': 'int8',\n",
    "    'tags2': 'int8',\n",
    "    'tags3': 'int8',\n",
    "    'tags4': 'int8',\n",
    "    'tags5': 'int8',\n",
    "   # 'tags6': 'int8',\n",
    "   # 'tags7': 'int8',\n",
    "#     'tags0_correctness_mean':'float16',\n",
    "#     'tags1_correctness_mean':'float16',\n",
    "#     'tags2_correctness_mean':'float16',\n",
    "#     'tags4_correctness_mean':'float16',\n",
    "#     'bundle_id':'int16',\n",
    "#     'bundle_correctness_mean':'float16',\n",
    "#     'bundle_uncor_count':'int32',\n",
    "#     'bundle_cor_count':'int32',\n",
    "    'part_bundle_id':'int32',\n",
    "    'content_sub_bundle':'int8',\n",
    "    'prior_question_had_explanation':'int8',\n",
    "    'explanation_mean':'float16', #\n",
    "    #'explanation_var',#\n",
    "    'explanation_false_count':'int16',#\n",
    "    'explanation_true_count':'int16',#\n",
    "   # 'community':'int8',\n",
    "#     'part_1',\n",
    "#     'part_2',\n",
    "#     'part_3',\n",
    "#     'part_4',\n",
    "#     'part_5',\n",
    "#     'part_6',\n",
    "#     'part_7',\n",
    "#     'type_of_concept',\n",
    "#     'type_of_intention',\n",
    "#     'type_of_solving_question',\n",
    "#     'type_of_starter'\n",
    "}\n",
    "categorical_columns= [\n",
    "    #'user_id',\n",
    "    'content_id',\n",
    "    'task_container_id',\n",
    "    'part',\n",
    "   # 'community',\n",
    "    'tags0',\n",
    "    'tags1',\n",
    "    'tags2',\n",
    "    'tags3',\n",
    "    'tags4',\n",
    "    'tags5',\n",
    "    #'tags6',\n",
    "    #'tags7',\n",
    "    #'bundle_id',\n",
    "    'part_bundle_id',\n",
    "    'content_sub_bundle',\n",
    "    'prior_question_had_explanation', \n",
    "#     'part_1',\n",
    "#     'part_2',\n",
    "#     'part_3',\n",
    "#     'part_4',\n",
    "#     'part_5',\n",
    "#     'part_6',\n",
    "#     'part_7',\n",
    "#     'type_of_concept',\n",
    "#     'type_of_intention',\n",
    "#     'type_of_solving_question',\n",
    "#     'type_of_starter'\n",
    "]\n",
    "\n",
    "features=list(features_dict.keys())\n"
   ]
  },
  {
   "cell_type": "code",
   "execution_count": 84,
   "metadata": {
    "execution": {
     "iopub.execute_input": "2020-12-26T01:34:58.997659Z",
     "iopub.status.busy": "2020-12-26T01:34:58.992542Z",
     "iopub.status.idle": "2020-12-26T01:35:07.871187Z",
     "shell.execute_reply": "2020-12-26T01:35:07.871744Z"
    },
    "papermill": {
     "duration": 9.010601,
     "end_time": "2020-12-26T01:35:07.871885",
     "exception": false,
     "start_time": "2020-12-26T01:34:58.861284",
     "status": "completed"
    },
    "tags": []
   },
   "outputs": [
    {
     "name": "stdout",
     "output_type": "stream",
     "text": [
      "sample end\n",
      "pd.merge(train_df_clf, questions_df)\n",
      "valid_df\n",
      "train_df_clf length： 9958484\n",
      "valid_df length： 2041516\n"
     ]
    }
   ],
   "source": [
    "flag_lgbm=True\n",
    "clfs = list()\n",
    "params = {\n",
    "'num_leaves': 200,\n",
    "'max_bin':450,\n",
    "# 'min_child_weight': 0.03454472573214212,\n",
    "'feature_fraction': 0.52,\n",
    "'bagging_fraction': 0.52,\n",
    "#'min_data_in_leaf': 106,\n",
    "# 'max_depth': -1,\n",
    "'objective': 'binary',\n",
    "'learning_rate': 0.05,\n",
    "\"boosting_type\": \"gbdt\",\n",
    "\"metric\": 'auc',\n",
    "# \"bagging_seed\": 11,\n",
    "# \"verbosity\": -1,\n",
    "# 'reg_alpha': 0.3899927210061127,\n",
    "# 'reg_lambda': 0.6485237330340494,\n",
    "# 'random_state': 47\n",
    "}\n",
    "trains=list()\n",
    "valids=list()\n",
    "num=1\n",
    "for i in range(0,num):\n",
    "    \n",
    "    #train_df=train_df.reset_index(drop=True)\n",
    "    #train_df_clf=train_df.sample(n=1200*10000)\n",
    "    train_df_clf=train_df[1200*10000:2*1200*10000]\n",
    "    print('sample end')\n",
    "    #train_df.drop(train_df_clf.index, inplace=True)\n",
    "    #print('train_df drop end')\n",
    "    \n",
    "   \n",
    "    del train_df\n",
    "    \n",
    "    \n",
    "    \n",
    "    users=train_df_clf['user_id'].drop_duplicates()#\n",
    "    #\n",
    "    users=users.sample(frac=0.08)\n",
    "    users_df=pd.DataFrame()\n",
    "    users_df['user_id']=users.values\n",
    "   \n",
    "   \n",
    "    valid_df_newuser = pd.merge(train_df_clf, users_df, on=['user_id'], how='inner',right_index=True)\n",
    "    del users_df\n",
    "    del users\n",
    "    gc.collect()\n",
    "    #\n",
    "    train_df_clf.drop(valid_df_newuser.index, inplace=True)\n",
    "    print('pd.merge(train_df_clf, questions_df)')\n",
    "    #-----------\n",
    "    #train_df_clf=train_df_clf.sample(frac=0.2)\n",
    "    #train_df_clf.drop(valid_df_newuser.index, inplace=True)\n",
    "    train_df_clf = pd.merge(train_df_clf, questions_df, on='content_id', how='left',right_index=True)#\n",
    "    valid_df_newuser = pd.merge(valid_df_newuser, questions_df, on='content_id', how='left',right_index=True)#\n",
    "    \n",
    "#     train_df_clf = pd.merge(train_df_clf, user_lecture_stats_part, on='user_id', how=\"left\",right_index=True)\n",
    "#     valid_df_newuser = pd.merge(valid_df_newuser, user_lecture_stats_part, on='user_id', how=\"left\",right_index=True)\n",
    "    print('valid_df')\n",
    "    valid_df=train_df_clf.sample(frac=0.1)\n",
    "    train_df_clf.drop(valid_df.index, inplace=True)\n",
    "    \n",
    "#     test_df=train_df_clf.sample(n=100*10000)\n",
    "#     train_df_clf.drop(test_df.index, inplace=True)\n",
    "   \n",
    "    valid_df = valid_df.append(valid_df_newuser)\n",
    "    del valid_df_newuser\n",
    "    gc.collect()\n",
    "    #\n",
    "\n",
    "    trains.append(train_df_clf)\n",
    "    valids.append(valid_df)\n",
    "    print('train_df_clf length：',len(train_df_clf))\n",
    "    print('valid_df length：',len(valid_df))\n",
    "    #train_df=train_df.reset_index(drop=True)"
   ]
  },
  {
   "cell_type": "code",
   "execution_count": 85,
   "metadata": {
    "execution": {
     "iopub.execute_input": "2020-12-26T01:35:08.156164Z",
     "iopub.status.busy": "2020-12-26T01:35:08.155510Z",
     "iopub.status.idle": "2020-12-26T01:35:08.160727Z",
     "shell.execute_reply": "2020-12-26T01:35:08.160228Z"
    },
    "papermill": {
     "duration": 0.20416,
     "end_time": "2020-12-26T01:35:08.160833",
     "exception": false,
     "start_time": "2020-12-26T01:35:07.956673",
     "status": "completed"
    },
    "tags": []
   },
   "outputs": [
    {
     "data": {
      "text/plain": [
       "20"
      ]
     },
     "execution_count": 85,
     "metadata": {},
     "output_type": "execute_result"
    }
   ],
   "source": [
    "#del train_df\n",
    "del train_df_clf\n",
    "del valid_df\n",
    "gc.collect()"
   ]
  },
  {
   "cell_type": "code",
   "execution_count": 86,
   "metadata": {
    "execution": {
     "iopub.execute_input": "2020-12-26T01:35:08.347708Z",
     "iopub.status.busy": "2020-12-26T01:35:08.342352Z",
     "iopub.status.idle": "2020-12-26T02:01:35.649706Z",
     "shell.execute_reply": "2020-12-26T02:01:35.650428Z"
    },
    "papermill": {
     "duration": 1587.399367,
     "end_time": "2020-12-26T02:01:35.650610",
     "exception": false,
     "start_time": "2020-12-26T01:35:08.251243",
     "status": "completed"
    },
    "tags": []
   },
   "outputs": [
    {
     "name": "stderr",
     "output_type": "stream",
     "text": [
      "/opt/conda/lib/python3.7/site-packages/lightgbm/basic.py:1295: UserWarning: categorical_feature in Dataset is overridden.\n",
      "New categorical_feature is ['content_id', 'content_sub_bundle', 'part', 'part_bundle_id', 'prior_question_had_explanation', 'tags0', 'tags1', 'tags2', 'tags3', 'tags4', 'tags5', 'task_container_id']\n",
      "  'New categorical_feature is {}'.format(sorted(list(categorical_feature))))\n"
     ]
    },
    {
     "name": "stdout",
     "output_type": "stream",
     "text": [
      "Training until validation scores don't improve for 50 rounds\n",
      "[50]\ttraining's auc: 0.771564\tvalid_1's auc: 0.765051\n",
      "[100]\ttraining's auc: 0.781687\tvalid_1's auc: 0.76944\n",
      "[150]\ttraining's auc: 0.788676\tvalid_1's auc: 0.771365\n",
      "[200]\ttraining's auc: 0.793874\tvalid_1's auc: 0.772285\n",
      "[250]\ttraining's auc: 0.797773\tvalid_1's auc: 0.772763\n",
      "[300]\ttraining's auc: 0.800778\tvalid_1's auc: 0.772979\n",
      "[350]\ttraining's auc: 0.80345\tvalid_1's auc: 0.772954\n",
      "Early stopping, best iteration is:\n",
      "[305]\ttraining's auc: 0.801074\tvalid_1's auc: 0.773022\n"
     ]
    },
    {
     "data": {
      "image/png": "[encoded data removed]",
      "text/plain": [
       "<Figure size 1080x1080 with 1 Axes>"
      ]
     },
     "metadata": {
      "needs_background": "light"
     },
     "output_type": "display_data"
    }
   ],
   "source": [
    "\n",
    "for i in range(0,num):\n",
    "      \n",
    "#     tr_data = lgb.Dataset(trains[i][features], label=trains[i][target])\n",
    "#     va_data = lgb.Dataset(valids[i][features], label=valids[i][target])\n",
    "\n",
    "    #Don't use DF to create lightgbm dataset, rather use np array:\n",
    "    X_train_np = trains[i][features].values.astype(np.float32)\n",
    "    X_valid_np = valids[i][features].values.astype(np.float32)\n",
    "    #features = train.columns\n",
    "    tr_data = lgb.Dataset(X_train_np, label=trains[i][target], feature_name=list(features))\n",
    "    va_data = lgb.Dataset(X_valid_np, label=valids[i][target], feature_name=list(features))\n",
    "    \n",
    "\n",
    "#     del train_df_clf\n",
    "#     del valid_df\n",
    "#     gc.collect()\n",
    "    del trains\n",
    "    del valids\n",
    "    del X_train_np\n",
    "    del X_valid_np\n",
    "    gc.collect()\n",
    "\n",
    "    model = lgb.train(\n",
    "        params, \n",
    "        tr_data,\n",
    "#         train_df[features],\n",
    "#         train_df[target],\n",
    "        num_boost_round=5000,\n",
    "        #valid_sets=[(train_df[features],train_df[target]), (valid_df[features],valid_df[target])], \n",
    "        valid_sets=[tr_data, va_data],\n",
    "        early_stopping_rounds=50,\n",
    "        feature_name=features,\n",
    "        categorical_feature=categorical_columns,\n",
    "        verbose_eval=50\n",
    "    )\n",
    "    clfs.append(model)\n",
    "    #print('test-auc:', roc_auc_score(test_df[target], model.predict(test_df[features])))\n",
    "    #model.save_model(f'model.txt')\n",
    "\n",
    "\n",
    "    fig,ax = plt.subplots(figsize=(15,15))\n",
    "    lgb.plot_importance(model, ax=ax,importance_type='gain',max_num_features=50)\n",
    "    plt.show()\n",
    "\n",
    "    del tr_data\n",
    "    del va_data\n",
    "    gc.collect()\n",
    "#    \n",
    "# del trains\n",
    "# del valids\n",
    "# gc.collect()\n",
    "# del test_df\n",
    "# gc.collect()"
   ]
  },
  {
   "cell_type": "code",
   "execution_count": 87,
   "metadata": {
    "execution": {
     "iopub.execute_input": "2020-12-26T02:01:35.946627Z",
     "iopub.status.busy": "2020-12-26T02:01:35.945663Z",
     "iopub.status.idle": "2020-12-26T02:01:51.866697Z",
     "shell.execute_reply": "2020-12-26T02:01:51.867669Z"
    },
    "papermill": {
     "duration": 16.080392,
     "end_time": "2020-12-26T02:01:51.867828",
     "exception": false,
     "start_time": "2020-12-26T02:01:35.787436",
     "status": "completed"
    },
    "tags": []
   },
   "outputs": [
    {
     "data": {
      "text/plain": [
       "SAKTModel(\n",
       "  (embedding): Embedding(27047, 128)\n",
       "  (pos_embedding): Embedding(99, 128)\n",
       "  (e_embedding): Embedding(13524, 128)\n",
       "  (multi_att): MultiheadAttention(\n",
       "    (out_proj): _LinearWithBias(in_features=128, out_features=128, bias=True)\n",
       "  )\n",
       "  (dropout): Dropout(p=0.2, inplace=False)\n",
       "  (layer_normal): LayerNorm((128,), eps=1e-05, elementwise_affine=True)\n",
       "  (ffn): FFN(\n",
       "    (lr1): Linear(in_features=128, out_features=128, bias=True)\n",
       "    (relu): ReLU()\n",
       "    (lr2): Linear(in_features=128, out_features=128, bias=True)\n",
       "    (dropout): Dropout(p=0.2, inplace=False)\n",
       "  )\n",
       "  (pred): Linear(in_features=128, out_features=1, bias=True)\n",
       ")"
      ]
     },
     "execution_count": 87,
     "metadata": {},
     "output_type": "execute_result"
    }
   ],
   "source": [
    "import torch\n",
    "import torch.nn as nn\n",
    "from torch.utils.data import Dataset, DataLoader\n",
    "\n",
    "\n",
    "MAX_SEQ = 100\n",
    "\n",
    "class FFN(nn.Module):\n",
    "    def __init__(self, state_size=200):\n",
    "        super(FFN, self).__init__()\n",
    "        self.state_size = state_size\n",
    "\n",
    "        self.lr1 = nn.Linear(state_size, state_size)\n",
    "        self.relu = nn.ReLU()\n",
    "        self.lr2 = nn.Linear(state_size, state_size)\n",
    "        self.dropout = nn.Dropout(0.2)\n",
    "    \n",
    "    def forward(self, x):\n",
    "        x = self.lr1(x)\n",
    "        x = self.relu(x)\n",
    "        x = self.lr2(x)\n",
    "        return self.dropout(x)\n",
    "\n",
    "def future_mask(seq_length):\n",
    "    future_mask = np.triu(np.ones((seq_length, seq_length)), k=1).astype('bool')\n",
    "    return torch.from_numpy(future_mask)\n",
    "\n",
    "\n",
    "class SAKTModel(nn.Module):\n",
    "    def __init__(self, n_skill, max_seq=MAX_SEQ, embed_dim=128):\n",
    "        super(SAKTModel, self).__init__()\n",
    "        self.n_skill = n_skill\n",
    "        self.embed_dim = embed_dim\n",
    "\n",
    "        self.embedding = nn.Embedding(2*n_skill+1, embed_dim)\n",
    "        self.pos_embedding = nn.Embedding(max_seq-1, embed_dim)\n",
    "        self.e_embedding = nn.Embedding(n_skill+1, embed_dim)\n",
    "\n",
    "        self.multi_att = nn.MultiheadAttention(embed_dim=embed_dim, num_heads=8, dropout=0.2)\n",
    "\n",
    "        self.dropout = nn.Dropout(0.2)\n",
    "        self.layer_normal = nn.LayerNorm(embed_dim) \n",
    "\n",
    "        self.ffn = FFN(embed_dim)\n",
    "        self.pred = nn.Linear(embed_dim, 1)\n",
    "    \n",
    "    def forward(self, x, question_ids):\n",
    "        device = x.device        \n",
    "        x = self.embedding(x)\n",
    "        pos_id = torch.arange(x.size(1)).unsqueeze(0).to(device)\n",
    "\n",
    "        pos_x = self.pos_embedding(pos_id)\n",
    "        x = x + pos_x\n",
    "\n",
    "        e = self.e_embedding(question_ids)\n",
    "\n",
    "        x = x.permute(1, 0, 2) # x: [bs, s_len, embed] => [s_len, bs, embed]\n",
    "        e = e.permute(1, 0, 2)\n",
    "        att_mask = future_mask(x.size(0)).to(device)\n",
    "        att_output, att_weight = self.multi_att(e, x, x, attn_mask=att_mask)\n",
    "        att_output = self.layer_normal(att_output + e)\n",
    "        att_output = att_output.permute(1, 0, 2) # att_output: [s_len, bs, embed] => [bs, s_len, embed]\n",
    "\n",
    "        x = self.ffn(att_output)\n",
    "        x = self.layer_normal(x + att_output)\n",
    "        x = self.pred(x)\n",
    "\n",
    "        return x.squeeze(-1), att_weight\n",
    "    \n",
    "    \n",
    "skills = joblib.load(\"/kaggle/input/riiid-sakt-model-dataset-public/skills.pkl.zip\")\n",
    "n_skill = len(skills)\n",
    "group = joblib.load(\"/kaggle/input/riiid-sakt-model-dataset-public/group.pkl.zip\")\n",
    "\n",
    "\n",
    "device = torch.device(\"cuda\" if torch.cuda.is_available() else \"cpu\")\n",
    "\n",
    "nn_model = SAKTModel(n_skill, embed_dim=128)\n",
    "try:\n",
    "    nn_model.load_state_dict(torch.load(\"/kaggle/input/riiid-sakt-model-dataset-public/sakt_model.pt\"))\n",
    "except:\n",
    "    nn_model.load_state_dict(torch.load(\"/kaggle/input/riiid-sakt-model-dataset-public/sakt_model.pt\", map_location='cpu'))\n",
    "nn_model.to(device)\n",
    "nn_model.eval()\n",
    "\n"
   ]
  },
  {
   "cell_type": "markdown",
   "metadata": {
    "papermill": {
     "duration": 0.138906,
     "end_time": "2020-12-26T02:01:52.145694",
     "exception": false,
     "start_time": "2020-12-26T02:01:52.006788",
     "status": "completed"
    },
    "tags": []
   },
   "source": [
    "# Inference"
   ]
  },
  {
   "cell_type": "code",
   "execution_count": 88,
   "metadata": {
    "execution": {
     "iopub.execute_input": "2020-12-26T02:01:52.439290Z",
     "iopub.status.busy": "2020-12-26T02:01:52.438249Z",
     "iopub.status.idle": "2020-12-26T02:01:52.441282Z",
     "shell.execute_reply": "2020-12-26T02:01:52.440461Z"
    },
    "papermill": {
     "duration": 0.155371,
     "end_time": "2020-12-26T02:01:52.441403",
     "exception": false,
     "start_time": "2020-12-26T02:01:52.286032",
     "status": "completed"
    },
    "tags": []
   },
   "outputs": [],
   "source": [
    "class TestDataset(Dataset):\n",
    "    def __init__(self, samples, test_df, skills, max_seq=MAX_SEQ): \n",
    "        super(TestDataset, self).__init__()\n",
    "        self.samples = samples\n",
    "        self.user_ids = [x for x in test_df[\"user_id\"].unique()]\n",
    "        self.test_df = test_df\n",
    "        self.skills = skills\n",
    "        self.n_skill = len(skills)\n",
    "        self.max_seq = max_seq\n",
    "\n",
    "    def __len__(self):\n",
    "        return self.test_df.shape[0]\n",
    "\n",
    "    def __getitem__(self, index):\n",
    "        test_info = self.test_df.iloc[index]\n",
    "\n",
    "        user_id = test_info[\"user_id\"]\n",
    "        target_id = test_info[\"content_id\"]\n",
    "\n",
    "        q = np.zeros(self.max_seq, dtype=int)\n",
    "        qa = np.zeros(self.max_seq, dtype=int)\n",
    "\n",
    "        if user_id in self.samples.index:\n",
    "            q_, qa_ = self.samples[user_id]\n",
    "            \n",
    "            seq_len = len(q_)\n",
    "\n",
    "            if seq_len >= self.max_seq:\n",
    "                q = q_[-self.max_seq:]\n",
    "                qa = qa_[-self.max_seq:]\n",
    "            else:\n",
    "                q[-seq_len:] = q_\n",
    "                qa[-seq_len:] = qa_          \n",
    "        \n",
    "        x = np.zeros(self.max_seq-1, dtype=int)\n",
    "        x = q[1:].copy()\n",
    "        x += (qa[1:] == 1) * self.n_skill\n",
    "        \n",
    "        questions = np.append(q[2:], [target_id])\n",
    "        \n",
    "        return x, questions"
   ]
  },
  {
   "cell_type": "code",
   "execution_count": 89,
   "metadata": {
    "execution": {
     "iopub.execute_input": "2020-12-26T02:01:52.874530Z",
     "iopub.status.busy": "2020-12-26T02:01:52.724442Z",
     "iopub.status.idle": "2020-12-26T02:01:53.030967Z",
     "shell.execute_reply": "2020-12-26T02:01:53.031474Z"
    },
    "papermill": {
     "duration": 0.450986,
     "end_time": "2020-12-26T02:01:53.031644",
     "exception": false,
     "start_time": "2020-12-26T02:01:52.580658",
     "status": "completed"
    },
    "tags": []
   },
   "outputs": [],
   "source": [
    "user_sum_dict = user_agg['sum'].astype('int16').to_dict(defaultdict(int))\n",
    "user_count_dict = user_agg['count'].astype('int16').to_dict(defaultdict(int))\n",
    "# user_sum_dict2 = user_agg2['sum'].astype('int16').to_dict(defaultdict(int))\n",
    "# user_count_dict2 = user_agg2['count'].astype('int16').to_dict(defaultdict(int))"
   ]
  },
  {
   "cell_type": "code",
   "execution_count": 90,
   "metadata": {
    "execution": {
     "iopub.execute_input": "2020-12-26T02:01:53.500305Z",
     "iopub.status.busy": "2020-12-26T02:01:53.340067Z",
     "iopub.status.idle": "2020-12-26T02:01:53.941840Z",
     "shell.execute_reply": "2020-12-26T02:01:53.941239Z"
    },
    "papermill": {
     "duration": 0.817599,
     "end_time": "2020-12-26T02:01:53.941940",
     "exception": false,
     "start_time": "2020-12-26T02:01:53.124341",
     "status": "completed"
    },
    "tags": []
   },
   "outputs": [
    {
     "data": {
      "text/plain": [
       "0"
      ]
     },
     "execution_count": 90,
     "metadata": {},
     "output_type": "execute_result"
    }
   ],
   "source": [
    "#user_var_dict = user_agg['var'].astype('float16').to_dict(defaultdict(int))\n",
    "\n",
    "# content_sum_dict = content_agg['sum'].astype('int32').to_dict(defaultdict(int))\n",
    "# content_count_dict = content_agg['count'].astype('int32').to_dict(defaultdict(int))\n",
    "\n",
    "del user_agg\n",
    "#del user_agg2\n",
    "#del content_agg\n",
    "gc.collect()\n",
    "\n",
    "task_container_sum_dict = task_container_agg['sum'].astype('int32').to_dict(defaultdict(int))\n",
    "task_container_count_dict = task_container_agg['count'].astype('int32').to_dict(defaultdict(int))\n",
    "task_container_std_dict = task_container_agg['var'].astype('float16').to_dict(defaultdict(int))\n",
    "\n",
    "explanation_sum_dict = explanation_agg['sum'].astype('int16').to_dict(defaultdict(int))\n",
    "explanation_count_dict = explanation_agg['count'].astype('int16').to_dict(defaultdict(int))\n",
    "#explanation_var_dict = explanation_agg['var'].astype('float16').to_dict(defaultdict(int))\n",
    "del task_container_agg\n",
    "del explanation_agg\n",
    "gc.collect()"
   ]
  },
  {
   "cell_type": "code",
   "execution_count": 91,
   "metadata": {
    "execution": {
     "iopub.execute_input": "2020-12-26T02:01:54.133497Z",
     "iopub.status.busy": "2020-12-26T02:01:54.132871Z",
     "iopub.status.idle": "2020-12-26T02:01:54.136918Z",
     "shell.execute_reply": "2020-12-26T02:01:54.136455Z"
    },
    "papermill": {
     "duration": 0.102197,
     "end_time": "2020-12-26T02:01:54.137015",
     "exception": false,
     "start_time": "2020-12-26T02:01:54.034818",
     "status": "completed"
    },
    "tags": []
   },
   "outputs": [],
   "source": [
    "#task_container_std_dict"
   ]
  },
  {
   "cell_type": "code",
   "execution_count": 92,
   "metadata": {
    "execution": {
     "iopub.execute_input": "2020-12-26T02:01:54.327731Z",
     "iopub.status.busy": "2020-12-26T02:01:54.327107Z",
     "iopub.status.idle": "2020-12-26T02:01:55.030794Z",
     "shell.execute_reply": "2020-12-26T02:01:55.030195Z"
    },
    "papermill": {
     "duration": 0.802179,
     "end_time": "2020-12-26T02:01:55.030895",
     "exception": false,
     "start_time": "2020-12-26T02:01:54.228716",
     "status": "completed"
    },
    "tags": []
   },
   "outputs": [
    {
     "data": {
      "text/plain": [
       "40"
      ]
     },
     "execution_count": 92,
     "metadata": {},
     "output_type": "execute_result"
    }
   ],
   "source": [
    "user_lecture_sum_dict = user_lecture_agg['sum'].astype('int16').to_dict(defaultdict(int))\n",
    "user_lecture_count_dict = user_lecture_agg['count'].astype('int16').to_dict(defaultdict(int))\n",
    "\n",
    "#lagtime_mean_dict = lagtime_agg['mean'].astype('int32').to_dict(defaultdict(int))\n",
    "#del prior_question_elapsed_time_agg\n",
    "del user_lecture_agg\n",
    "#del lagtime_agg\n",
    "gc.collect()"
   ]
  },
  {
   "cell_type": "code",
   "execution_count": 93,
   "metadata": {
    "execution": {
     "iopub.execute_input": "2020-12-26T02:01:55.227831Z",
     "iopub.status.busy": "2020-12-26T02:01:55.226883Z",
     "iopub.status.idle": "2020-12-26T02:01:55.949299Z",
     "shell.execute_reply": "2020-12-26T02:01:55.948783Z"
    },
    "papermill": {
     "duration": 0.824714,
     "end_time": "2020-12-26T02:01:55.949404",
     "exception": false,
     "start_time": "2020-12-26T02:01:55.124690",
     "status": "completed"
    },
    "tags": []
   },
   "outputs": [
    {
     "data": {
      "text/plain": [
       "20"
      ]
     },
     "execution_count": 93,
     "metadata": {},
     "output_type": "execute_result"
    }
   ],
   "source": [
    "max_timestamp_u_dict=max_timestamp_u.set_index('user_id').to_dict()\n",
    "max_timestamp_u_dict2=max_timestamp_u2.set_index('user_id').to_dict()\n",
    "max_timestamp_u_dict3=max_timestamp_u3.set_index('user_id').to_dict()\n",
    "user_prior_question_elapsed_time_dict=user_prior_question_elapsed_time.set_index('user_id').to_dict()\n",
    "#del question_elapsed_time_agg\n",
    "del max_timestamp_u\n",
    "del max_timestamp_u2\n",
    "del max_timestamp_u3\n",
    "del user_prior_question_elapsed_time\n",
    "gc.collect()"
   ]
  },
  {
   "cell_type": "code",
   "execution_count": 94,
   "metadata": {
    "execution": {
     "iopub.execute_input": "2020-12-26T02:01:56.143260Z",
     "iopub.status.busy": "2020-12-26T02:01:56.142390Z",
     "iopub.status.idle": "2020-12-26T02:02:14.953283Z",
     "shell.execute_reply": "2020-12-26T02:02:14.952507Z"
    },
    "papermill": {
     "duration": 18.909761,
     "end_time": "2020-12-26T02:02:14.953416",
     "exception": false,
     "start_time": "2020-12-26T02:01:56.043655",
     "status": "completed"
    },
    "tags": []
   },
   "outputs": [
    {
     "data": {
      "text/plain": [
       "0"
      ]
     },
     "execution_count": 94,
     "metadata": {},
     "output_type": "execute_result"
    }
   ],
   "source": [
    "attempt_no_sum_dict = attempt_no_agg['sum'].to_dict(defaultdict(int))\n",
    "\n",
    "del attempt_no_agg\n",
    "gc.collect()"
   ]
  },
  {
   "cell_type": "code",
   "execution_count": 95,
   "metadata": {
    "execution": {
     "iopub.execute_input": "2020-12-26T02:02:15.257461Z",
     "iopub.status.busy": "2020-12-26T02:02:15.253923Z",
     "iopub.status.idle": "2020-12-26T02:02:15.262258Z",
     "shell.execute_reply": "2020-12-26T02:02:15.261568Z"
    },
    "papermill": {
     "duration": 0.166298,
     "end_time": "2020-12-26T02:02:15.262384",
     "exception": false,
     "start_time": "2020-12-26T02:02:15.096086",
     "status": "completed"
    },
    "tags": []
   },
   "outputs": [],
   "source": [
    "def get_max_attempt(user_id,content_id):\n",
    "    k = (user_id,content_id)\n",
    "\n",
    "    if k in attempt_no_sum_dict.keys():\n",
    "        attempt_no_sum_dict[k]+=1\n",
    "        return attempt_no_sum_dict[k]\n",
    "\n",
    "    attempt_no_sum_dict[k] = 1\n",
    "    return attempt_no_sum_dict[k]"
   ]
  },
  {
   "cell_type": "code",
   "execution_count": 96,
   "metadata": {
    "execution": {
     "iopub.execute_input": "2020-12-26T02:02:15.469343Z",
     "iopub.status.busy": "2020-12-26T02:02:15.468191Z",
     "iopub.status.idle": "2020-12-26T02:02:15.470855Z",
     "shell.execute_reply": "2020-12-26T02:02:15.471518Z"
    },
    "papermill": {
     "duration": 0.106753,
     "end_time": "2020-12-26T02:02:15.471647",
     "exception": false,
     "start_time": "2020-12-26T02:02:15.364894",
     "status": "completed"
    },
    "tags": []
   },
   "outputs": [],
   "source": [
    "# def get_max_attempt(user_id,content_id):\n",
    "#     global  attempt_no_agg\n",
    "#     #k = (user_id,content_id)\n",
    "#     if(len(attempt_no_agg[(attempt_no_agg['user_id']==user_id) & (attempt_no_agg['content_id'] ==content_id)])==1):\n",
    "#     #if k in attempt_no_sum_dict.keys():\n",
    "#         x= attempt_no_agg.loc[(attempt_no_agg['user_id']==user_id) & (attempt_no_agg['content_id'] ==content_id),'sum'].values \n",
    "#         attempt_no_agg.loc[(attempt_no_agg['user_id']==user_id) & (attempt_no_agg['content_id'] ==content_id),'sum']=x+1\n",
    "#         return x+1\n",
    "    \n",
    "#     attempt_no_agg = attempt_no_agg.append([{'user_id':user_id,'content_id':content_id,'sum':1}], ignore_index=True)\n",
    "#     return 1"
   ]
  },
  {
   "cell_type": "code",
   "execution_count": 97,
   "metadata": {
    "execution": {
     "iopub.execute_input": "2020-12-26T02:02:15.665202Z",
     "iopub.status.busy": "2020-12-26T02:02:15.664568Z",
     "iopub.status.idle": "2020-12-26T02:02:15.668278Z",
     "shell.execute_reply": "2020-12-26T02:02:15.667734Z"
    },
    "papermill": {
     "duration": 0.101744,
     "end_time": "2020-12-26T02:02:15.668376",
     "exception": false,
     "start_time": "2020-12-26T02:02:15.566632",
     "status": "completed"
    },
    "tags": []
   },
   "outputs": [],
   "source": [
    "# model = lgb.Booster(model_file='../input/riiid-lgbm-starter/model.txt')\n",
    "env = riiideducation.make_env()"
   ]
  },
  {
   "cell_type": "code",
   "execution_count": 98,
   "metadata": {
    "execution": {
     "iopub.execute_input": "2020-12-26T02:02:15.863288Z",
     "iopub.status.busy": "2020-12-26T02:02:15.862683Z",
     "iopub.status.idle": "2020-12-26T02:02:15.866216Z",
     "shell.execute_reply": "2020-12-26T02:02:15.865664Z"
    },
    "papermill": {
     "duration": 0.102689,
     "end_time": "2020-12-26T02:02:15.866319",
     "exception": false,
     "start_time": "2020-12-26T02:02:15.763630",
     "status": "completed"
    },
    "tags": []
   },
   "outputs": [],
   "source": [
    "iter_test = env.iter_test()\n",
    "prior_test_df = None\n",
    "prev_test_df1 = None"
   ]
  },
  {
   "cell_type": "code",
   "execution_count": 99,
   "metadata": {
    "execution": {
     "iopub.execute_input": "2020-12-26T02:02:16.064032Z",
     "iopub.status.busy": "2020-12-26T02:02:16.062891Z",
     "iopub.status.idle": "2020-12-26T02:02:16.066055Z",
     "shell.execute_reply": "2020-12-26T02:02:16.066567Z"
    },
    "papermill": {
     "duration": 0.104882,
     "end_time": "2020-12-26T02:02:16.066701",
     "exception": false,
     "start_time": "2020-12-26T02:02:15.961819",
     "status": "completed"
    },
    "tags": []
   },
   "outputs": [],
   "source": [
    "N=[0.4,0.6]"
   ]
  },
  {
   "cell_type": "code",
   "execution_count": 100,
   "metadata": {
    "execution": {
     "iopub.execute_input": "2020-12-26T02:02:16.279168Z",
     "iopub.status.busy": "2020-12-26T02:02:16.274032Z",
     "iopub.status.idle": "2020-12-26T02:02:17.424301Z",
     "shell.execute_reply": "2020-12-26T02:02:17.423611Z"
    },
    "papermill": {
     "duration": 1.261493,
     "end_time": "2020-12-26T02:02:17.424408",
     "exception": false,
     "start_time": "2020-12-26T02:02:16.162915",
     "status": "completed"
    },
    "tags": []
   },
   "outputs": [
    {
     "name": "stdout",
     "output_type": "stream",
     "text": [
      "CPU times: user 1.22 s, sys: 88.9 ms, total: 1.31 s\n",
      "Wall time: 1.13 s\n"
     ]
    }
   ],
   "source": [
    "%%time\n",
    "\n",
    "for (test_df, sample_prediction_df) in iter_test:\n",
    "    test_df1=test_df.copy()\n",
    "    if (prev_test_df1 is not None):\n",
    "        prev_test_df1['answered_correctly'] = eval(test_df1['prior_group_answers_correct'].iloc[0])\n",
    "        prev_test_df1 = prev_test_df1[prev_test_df1.content_type_id == False]\n",
    "        \n",
    "        prev_group = prev_test_df1[['user_id', 'content_id', 'answered_correctly']].groupby('user_id').apply(lambda r: (\n",
    "            r['content_id'].values,\n",
    "            r['answered_correctly'].values))\n",
    "        for prev_user_id in prev_group.index:\n",
    "            if prev_user_id in group.index:\n",
    "                group[prev_user_id] = (\n",
    "                    np.append(group[prev_user_id][0], prev_group[prev_user_id][0])[-MAX_SEQ:], \n",
    "                    np.append(group[prev_user_id][1], prev_group[prev_user_id][1])[-MAX_SEQ:]\n",
    "                )\n",
    " \n",
    "            else:\n",
    "                group[prev_user_id] = (\n",
    "                    prev_group[prev_user_id][0], \n",
    "                    prev_group[prev_user_id][1]\n",
    "                )\n",
    "\n",
    "    prev_test_df1 = test_df1.copy()\n",
    "    \n",
    "    test_df1 = test_df1[test_df1.content_type_id == False]\n",
    "    test_dataset = TestDataset(group, test_df1, skills)\n",
    "    test_dataloader = DataLoader(test_dataset, batch_size=51200, shuffle=False)\n",
    "    \n",
    "    outs = []\n",
    "\n",
    "    for item in test_dataloader:\n",
    "        x = item[0].to(device).long()\n",
    "        target_id = item[1].to(device).long()\n",
    "        with torch.no_grad():\n",
    "            output, att_weight = nn_model(x, target_id)\n",
    "        outs.extend(torch.sigmoid(output)[:, -1].view(-1).data.cpu().numpy())\n",
    "        \n",
    "    #test_df1['answered_correctly'] = outs\n",
    "    \n",
    "    \n",
    "    \n",
    "    \n",
    "    ###for lgb\n",
    "    if prior_test_df is not None:\n",
    "        prior_test_df[target] = eval(test_df['prior_group_answers_correct'].iloc[0])\n",
    "        prior_test_df = prior_test_df[prior_test_df[target] != -1].reset_index(drop=True)\n",
    "        #prior_test_df = prior_test_df[prior_test_df[target] != -1]\n",
    "        prior_test_df['prior_question_had_explanation'].fillna(False, inplace=True)       \n",
    "        prior_test_df.prior_question_had_explanation=prior_test_df.prior_question_had_explanation.astype('int8')\n",
    "    \n",
    "        user_ids = prior_test_df['user_id'].values\n",
    "        #content_ids = prior_test_df['content_id'].values\n",
    "        #task_container_ids = prior_test_df['task_container_id'].values\n",
    "        #prior_question_had_explanations = prior_test_df['prior_question_had_explanation'].values\n",
    "        targets = prior_test_df[target].values        \n",
    "        \n",
    "        for user_id, answered_correctly in zip(user_ids,targets):\n",
    "            user_sum_dict[user_id] += answered_correctly\n",
    "            user_count_dict[user_id] += 1\n",
    "#             user_sum_dict2[user_id] += answered_correctly\n",
    "#             user_count_dict2[user_id] += 1   \n",
    "            \n",
    "\n",
    "    prior_test_df = test_df.copy() \n",
    "        \n",
    "    \n",
    "    question_len=len( test_df[test_df['content_type_id'] == 0])\n",
    "    test_df['prior_question_had_explanation'].fillna(False, inplace=True)\n",
    "    test_df.prior_question_had_explanation=test_df.prior_question_had_explanation.astype('int8')\n",
    "    test_df['prior_question_elapsed_time'].fillna(prior_question_elapsed_time_mean, inplace=True)\n",
    "    \n",
    "\n",
    "    user_lecture_sum = np.zeros(question_len, dtype=np.int16)\n",
    "    user_lecture_count = np.zeros(question_len, dtype=np.int16) \n",
    "    \n",
    "    user_sum = np.zeros(question_len, dtype=np.int16)\n",
    "    user_count = np.zeros(question_len, dtype=np.int16)\n",
    "#     user_sum2 = np.zeros(question_len, dtype=np.int16)\n",
    "#     user_count2 = np.zeros(question_len, dtype=np.int16)\n",
    "\n",
    "#     user_sum_dict_test=defaultdict(int)\n",
    "#     user_count_dict_test=defaultdict(int)\n",
    "\n",
    "    task_container_sum = np.zeros(question_len, dtype=np.int32)\n",
    "    task_container_count = np.zeros(question_len, dtype=np.int32)\n",
    "    task_container_std = np.zeros(question_len, dtype=np.float16)\n",
    "\n",
    "    explanation_sum = np.zeros(question_len, dtype=np.int32)\n",
    "    explanation_count = np.zeros(question_len, dtype=np.int32)\n",
    "    delta_prior_question_elapsed_time = np.zeros(question_len, dtype=np.int32)\n",
    "\n",
    "    attempt_no_count = np.zeros(question_len, dtype=np.int16)\n",
    "    lagtime = np.zeros(question_len, dtype=np.float32)\n",
    "    lagtime2 = np.zeros(question_len, dtype=np.float32)\n",
    "    lagtime3 = np.zeros(question_len, dtype=np.float32)\n",
    "    #lagtime_means = np.zeros(question_len, dtype=np.int32)\n",
    "    #\n",
    "   \n",
    "    i=0\n",
    "    for j, (user_id,prior_question_had_explanation,content_type_id,prior_question_elapsed_time,timestamp, content_id,task_container_id) in enumerate(zip(test_df['user_id'].values,test_df['prior_question_had_explanation'].values,test_df['content_type_id'].values,test_df['prior_question_elapsed_time'].values,test_df['timestamp'].values, test_df['content_id'].values, test_df['task_container_id'].values)):\n",
    "        \n",
    "         #\n",
    "        user_lecture_sum_dict[user_id] += content_type_id\n",
    "        user_lecture_count_dict[user_id] += 1\n",
    "        if(content_type_id==1):#\n",
    "            x=1\n",
    "#             if(len(user_lecture_stats_part[user_lecture_stats_part.user_id==user_id])==0):\n",
    "#                 user_lecture_stats_part = user_lecture_stats_part.append([{'user_id':user_id}], ignore_index=True)\n",
    "#                 user_lecture_stats_part.fillna(0, inplace=True)\n",
    "#                 user_lecture_stats_part.loc[user_lecture_stats_part.user_id==user_id,part_lectures_columns + types_of_lectures_columns]+=lectures_df[lectures_df.lecture_id==content_id][part_lectures_columns + types_of_lectures_columns].values\n",
    "#             else:\n",
    "#                 user_lecture_stats_part.loc[user_lecture_stats_part.user_id==user_id,part_lectures_columns + types_of_lectures_columns]+=lectures_df[lectures_df.lecture_id==content_id][part_lectures_columns + types_of_lectures_columns].values\n",
    "        if(content_type_id==0):#   \n",
    "            user_lecture_sum[i] = user_lecture_sum_dict[user_id]\n",
    "            user_lecture_count[i] = user_lecture_count_dict[user_id]\n",
    "                \n",
    "            user_sum[i] = user_sum_dict[user_id]\n",
    "            user_count[i] = user_count_dict[user_id]\n",
    "#             user_sum2[i] = user_sum_dict2[user_id]\n",
    "#             user_count2[i] = user_count_dict2[user_id]\n",
    "    #         content_sum[i] = content_sum_dict[content_id]\n",
    "    #         content_count[i] = content_count_dict[content_id]\n",
    "            task_container_sum[i] = task_container_sum_dict[task_container_id]\n",
    "            task_container_count[i] = task_container_count_dict[task_container_id]\n",
    "            task_container_std[i]=task_container_std_dict[task_container_id]\n",
    "\n",
    "            explanation_sum_dict[user_id] += prior_question_had_explanation\n",
    "            explanation_count_dict[user_id] += 1\n",
    "            explanation_sum[i] = explanation_sum_dict[user_id]\n",
    "            explanation_count[i] = explanation_count_dict[user_id]\n",
    "\n",
    "            if user_id in max_timestamp_u_dict['max_time_stamp'].keys():\n",
    "                lagtime[i]=timestamp-max_timestamp_u_dict['max_time_stamp'][user_id]\n",
    "                if(max_timestamp_u_dict2['max_time_stamp2'][user_id]==lagtime_mean2):#\n",
    "                    lagtime2[i]=lagtime_mean2\n",
    "                    lagtime3[i]=lagtime_mean3\n",
    "                    #max_timestamp_u_dict3['max_time_stamp3'].update({user_id:lagtime_mean3})\n",
    "                else:\n",
    "                    lagtime2[i]=timestamp-max_timestamp_u_dict2['max_time_stamp2'][user_id]\n",
    "                    if(max_timestamp_u_dict3['max_time_stamp3'][user_id]==lagtime_mean3):\n",
    "                        lagtime3[i]=lagtime_mean3 #\n",
    "                    else:\n",
    "                        lagtime3[i]=timestamp-max_timestamp_u_dict3['max_time_stamp3'][user_id]\n",
    "                    \n",
    "                    max_timestamp_u_dict3['max_time_stamp3'][user_id]=max_timestamp_u_dict2['max_time_stamp2'][user_id]\n",
    "                        \n",
    "                max_timestamp_u_dict2['max_time_stamp2'][user_id]=max_timestamp_u_dict['max_time_stamp'][user_id]\n",
    "                max_timestamp_u_dict['max_time_stamp'][user_id]=timestamp\n",
    "#                 lagtime_means[i]=(lagtime_mean_dict[user_id]+lagtime[i])/2\n",
    "#                 lagtime_mean_dict[user_id]=lagtime_means[i]\n",
    "            else:\n",
    "                lagtime[i]=lagtime_mean\n",
    "                max_timestamp_u_dict['max_time_stamp'].update({user_id:timestamp})\n",
    "                lagtime2[i]=lagtime_mean2#\n",
    "                max_timestamp_u_dict2['max_time_stamp2'].update({user_id:lagtime_mean2})\n",
    "                lagtime3[i]=lagtime_mean3#\n",
    "                max_timestamp_u_dict3['max_time_stamp3'].update({user_id:lagtime_mean3})\n",
    "#                 lagtime_mean_dict.update({user_id:lagtime_mean})\n",
    "#                 lagtime_means[i]=(lagtime_mean_dict[user_id]+lagtime[i])/2\n",
    "\n",
    "            if user_id in user_prior_question_elapsed_time_dict['prior_question_elapsed_time'].keys():            \n",
    "                delta_prior_question_elapsed_time[i]=prior_question_elapsed_time-user_prior_question_elapsed_time_dict['prior_question_elapsed_time'][user_id]\n",
    "                user_prior_question_elapsed_time_dict['prior_question_elapsed_time'][user_id]=prior_question_elapsed_time\n",
    "            else:           \n",
    "                delta_prior_question_elapsed_time[i]=delta_prior_question_elapsed_time_mean    \n",
    "                user_prior_question_elapsed_time_dict['prior_question_elapsed_time'].update({user_id:prior_question_elapsed_time})\n",
    "            i=i+1 \n",
    "\n",
    "\n",
    "        \n",
    "    test_df = test_df[test_df['content_type_id'] == 0].reset_index(drop=True)\n",
    "    #test_df = test_df[test_df['content_type_id'] == 0]\n",
    "    #right_index=True\n",
    "    #test_df = pd.merge(test_df, questions_df, on='content_id', how='left',right_index=True)    \n",
    "    #test_df = pd.concat([test_df.reset_index(drop=True), questions_df.reindex(test_df['content_id'].values).reset_index(drop=True)], axis=1)\n",
    "    test_df=test_df.merge(questions_df.loc[questions_df.index.isin(test_df['content_id'])],\n",
    "                  how='left', on='content_id', right_index=True)\n",
    "    \n",
    "    #test_df = pd.merge(test_df, user_lecture_stats_part, on=['user_id'], how=\"left\",right_index=True)\n",
    "    #test_df = pd.concat([test_df.reset_index(drop=True), user_lecture_stats_part.reindex(test_df['user_id'].values).reset_index(drop=True)], axis=1)\n",
    "#     test_df=test_df.merge(user_lecture_stats_part.loc[user_lecture_stats_part.index.isin(test_df['user_id'])],\n",
    "#                   how='left', on='user_id', right_index=True)\n",
    " \n",
    "    test_df['user_lecture_lv'] = user_lecture_sum / user_lecture_count\n",
    "    test_df['user_lecture_sum'] = user_lecture_sum\n",
    "    \n",
    "    test_df['user_interaction_count'] = user_lecture_count\n",
    "    test_df['user_interaction_timestamp_mean'] = test_df['timestamp']/user_lecture_count\n",
    "    \n",
    "    test_df['user_correctness'] = user_sum / user_count\n",
    "    test_df['user_uncorrect_count'] =user_count-user_sum\n",
    "    test_df['user_correct_count'] =user_sum\n",
    "    #test_df['user_answer_count'] =user_count\n",
    "    \n",
    "#     test_df['user_correctness2'] = user_sum2 / user_count2\n",
    "#     test_df['user_uncorrect_count2'] =user_count2-user_sum2\n",
    "#     test_df['user_correct_count2'] =user_sum2\n",
    "    #test_df['user_answer_count2'] =user_count2\n",
    "    \n",
    "    #    \n",
    "    test_df['task_container_correctness'] = task_container_sum / task_container_count\n",
    "    test_df['task_container_cor_count'] = task_container_sum \n",
    "    test_df['task_container_uncor_count'] =task_container_count-task_container_sum \n",
    "    test_df['task_container_std'] = task_container_std \n",
    "    #test_df['content_task_mean'] = content_task_mean \n",
    "    \n",
    "    test_df['explanation_mean'] = explanation_sum / explanation_count\n",
    "    test_df['explanation_true_count'] = explanation_sum\n",
    "    test_df['explanation_false_count'] = explanation_count-explanation_sum \n",
    "    \n",
    "    #\n",
    "    test_df['delta_prior_question_elapsed_time'] = delta_prior_question_elapsed_time \n",
    "    \n",
    "  \n",
    " \n",
    "    test_df[\"attempt_no\"] = test_df[[\"user_id\", \"content_id\"]].apply(lambda row: get_max_attempt(row[\"user_id\"], row[\"content_id\"]), axis=1)\n",
    "    test_df[\"lagtime\"]=lagtime\n",
    "    test_df[\"lagtime2\"]=lagtime2\n",
    "    test_df[\"lagtime3\"]=lagtime3\n",
    "    #test_df[\"lagtime_mean\"]=lagtime_means\n",
    "\n",
    "    \n",
    "\n",
    "    test_df['timestamp']=test_df['timestamp']/(1000*3600)\n",
    "    test_df.timestamp=test_df.timestamp.astype('float16')\n",
    "    test_df['lagtime']=test_df['lagtime']/(1000*3600)\n",
    "    test_df.lagtime=test_df.lagtime.astype('float32')\n",
    "    test_df['lagtime2']=test_df['lagtime2']/(1000*3600)\n",
    "    test_df.lagtime2=test_df.lagtime2.astype('float32')\n",
    "    test_df['lagtime3']=test_df['lagtime3']/(1000*3600)\n",
    "    test_df.lagtime3=test_df.lagtime3.astype('float32')\n",
    "    test_df['user_interaction_timestamp_mean']=test_df['user_interaction_timestamp_mean']/(1000*3600)\n",
    "    test_df.user_interaction_timestamp_mean=test_df.user_interaction_timestamp_mean.astype('float32')\n",
    "    \n",
    "    test_df['user_correctness'].fillna(0.67, inplace=True)\n",
    "    #test_df['user_correctness2'].fillna(0.67, inplace=True)\n",
    "    #\n",
    "    #test_df = test_df.astype(features_dict)\n",
    "\n",
    "    sub_preds = np.zeros(test_df.shape[0])\n",
    "    for i, model in enumerate(clfs, 1):\n",
    "        test_preds  = model.predict(test_df[features])\n",
    "        sub_preds += test_preds\n",
    "    o2=sub_preds / len(clfs)\n",
    "    test_df[target]=0.5*np.array(outs)+0.5*np.array(o2)\n",
    "#     if(flag_lgbm):\n",
    "#         test_df[target] = model.predict(test_df[features])\n",
    "#     else:\n",
    "#         test_df[target] = model.predict(test_df[features].values)\n",
    "    env.predict(test_df[['row_id', target]])"
   ]
  },
  {
   "cell_type": "code",
   "execution_count": null,
   "metadata": {
    "papermill": {
     "duration": 0.096319,
     "end_time": "2020-12-26T02:02:17.616844",
     "exception": false,
     "start_time": "2020-12-26T02:02:17.520525",
     "status": "completed"
    },
    "tags": []
   },
   "outputs": [],
   "source": []
  },
  {
   "cell_type": "code",
   "execution_count": null,
   "metadata": {
    "papermill": {
     "duration": 0.094217,
     "end_time": "2020-12-26T02:02:17.806722",
     "exception": false,
     "start_time": "2020-12-26T02:02:17.712505",
     "status": "completed"
    },
    "tags": []
   },
   "outputs": [],
   "source": []
  }
 ],
 "metadata": {
  "kernelspec": {
   "display_name": "Python 3",
   "language": "python",
   "name": "python3"
  },
  "language_info": {
   "codemirror_mode": {
    "name": "ipython",
    "version": 3
   },
   "file_extension": ".py",
   "mimetype": "text/x-python",
   "name": "python",
   "nbconvert_exporter": "python",
   "pygments_lexer": "ipython3",
   "version": "3.7.6"
  },
  "papermill": {
   "duration": 2047.530822,
   "end_time": "2020-12-26T02:02:18.243261",
   "environment_variables": {},
   "exception": null,
   "input_path": "__notebook__.ipynb",
   "output_path": "__notebook__.ipynb",
   "parameters": {},
   "start_time": "2020-12-26T01:28:10.712439",
   "version": "2.1.0"
  }
 },
 "nbformat": 4,
 "nbformat_minor": 4
}